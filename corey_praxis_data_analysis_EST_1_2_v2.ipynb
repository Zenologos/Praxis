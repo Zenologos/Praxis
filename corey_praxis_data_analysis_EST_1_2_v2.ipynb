{
 "cells": [
  {
   "cell_type": "markdown",
   "id": "frozen-thumbnail",
   "metadata": {},
   "source": [
    "## <font color=dark red> Data Loading </font>"
   ]
  },
  {
   "cell_type": "markdown",
   "id": "moderate-gibson",
   "metadata": {},
   "source": [
    "#### <font color=blue> Step 1 - Load EST 1 and EST 2 files. </font>"
   ]
  },
  {
   "cell_type": "code",
   "execution_count": 1,
   "id": "recreational-politics",
   "metadata": {},
   "outputs": [],
   "source": [
    "# Import data\n",
    "\n",
    "import pandas as pd\n",
    "import numpy as np\n",
    "import matplotlib\n",
    "import matplotlib.pyplot as plt\n",
    "%matplotlib inline\n",
    "import seaborn as sns\n",
    "\n",
    "columns_of_interest = ['device_number','device_description','site','work_order_number','work_order_priority_description','wo_type_description','problem_reported','lot_year','num_parts_from_storeroom','num_parts_from_po','repair_part_number','repair_part_name','repair_part_stocktype']"
   ]
  },
  {
   "cell_type": "markdown",
   "id": "infinite-novelty",
   "metadata": {},
   "source": [
    "<font color = green> Additional Request for Milestone 1 added.</font>"
   ]
  },
  {
   "cell_type": "code",
   "execution_count": 2,
   "id": "adjusted-cross",
   "metadata": {},
   "outputs": [
    {
     "data": {
      "text/plain": [
       "13"
      ]
     },
     "execution_count": 2,
     "metadata": {},
     "output_type": "execute_result"
    }
   ],
   "source": [
    "len(columns_of_interest)"
   ]
  },
  {
   "cell_type": "code",
   "execution_count": 3,
   "id": "stylish-flush",
   "metadata": {},
   "outputs": [],
   "source": [
    "# Update file path below - \n",
    "\n",
    "df1 = pd.read_excel(r'data\\EST 1.xlsx')\n",
    "df2 = pd.read_excel(r'data\\EST 2.xlsx')"
   ]
  },
  {
   "cell_type": "code",
   "execution_count": 4,
   "id": "secondary-looking",
   "metadata": {},
   "outputs": [
    {
     "data": {
      "text/plain": [
       "(64996, 41)"
      ]
     },
     "execution_count": 4,
     "metadata": {},
     "output_type": "execute_result"
    }
   ],
   "source": [
    "df1.shape"
   ]
  },
  {
   "cell_type": "code",
   "execution_count": 5,
   "id": "optical-enclosure",
   "metadata": {},
   "outputs": [
    {
     "data": {
      "text/plain": [
       "(44586, 35)"
      ]
     },
     "execution_count": 5,
     "metadata": {},
     "output_type": "execute_result"
    }
   ],
   "source": [
    "df2.shape"
   ]
  },
  {
   "cell_type": "code",
   "execution_count": 6,
   "id": "micro-sleeve",
   "metadata": {},
   "outputs": [
    {
     "data": {
      "text/plain": [
       "Index(['TFA', 'SUBTFA', 'SYSTEMID', 'DEVICE NUMBER', 'DEVICE DESCRIPTION',\n",
       "       'DEVICE SERIAL NUMER', 'SITE', 'WORK ORDER NUMBER',\n",
       "       'WORK ORDER DESCRIPTION', 'WORK ORDER PRIORITY DESCRIPTION',\n",
       "       'WOTYPE_DESCRIPTION', 'FUNCTIONAL LOCATION DRILL DOWN',\n",
       "       'FUNCTIONAL LOCATION DESCRIPTION', 'PROBLEMREPORTED', 'ACTIONCOMPLETED',\n",
       "       'TIME TO RETURN (Days.% of 24hrs)', 'LOT YEAR',\n",
       "       'AFFECTED PART UNIQUE IDENTIFIER', 'AFFECTED PART NUMBER',\n",
       "       'AFFECTED PART NAME', 'AFFECTED PART SERIAL NUMBER',\n",
       "       'MAINTENANCE ACTION', 'NUMPARTSFROMSTOREROOM', 'NUMPARTSFROMPO',\n",
       "       'DATE SENT TO VENDOR', 'DATE RECEIVED FROM VENDOR',\n",
       "       'REPAIR PART OWNERSHIP', 'REPAIR PART NUMBER', 'REPAIR PART NAME',\n",
       "       'REPAIR PART SERIAL NUMBER', 'REPAIR PART STOCKTYPE', 'REPAIR CATEGORY',\n",
       "       'REPAIR PART FARCODE', 'TOTAL WORK ORDER LABOR', 'LONG DESCRIPTION',\n",
       "       'Unnamed: 35', 'Unnamed: 36', 'Unnamed: 37', 'Unnamed: 38',\n",
       "       'Unnamed: 39', 'Unnamed: 40'],\n",
       "      dtype='object')"
      ]
     },
     "execution_count": 6,
     "metadata": {},
     "output_type": "execute_result"
    }
   ],
   "source": [
    "df1.columns"
   ]
  },
  {
   "cell_type": "code",
   "execution_count": 7,
   "id": "ideal-malpractice",
   "metadata": {},
   "outputs": [
    {
     "data": {
      "text/plain": [
       "Index(['TFA', 'SUBTFA', 'SYSTEMID', 'DEVICE NUMBER', 'DEVICE DESCRIPTION',\n",
       "       'DEVICE SERIAL NUMER', 'SITE', 'WORK ORDER NUMBER',\n",
       "       'WORK ORDER DESCRIPTION', 'WORK ORDER PRIORITY DESCRIPTION',\n",
       "       'WOTYPE_DESCRIPTION', 'FUNCTIONAL LOCATION DRILL DOWN',\n",
       "       'FUNCTIONAL LOCATION DESCRIPTION', 'PROBLEMREPORTED', 'ACTIONCOMPLETED',\n",
       "       'TIME TO RETURN (Days.% of 24hrs)', 'LOT YEAR',\n",
       "       'AFFECTED PART UNIQUE IDENTIFIER', 'AFFECTED PART NUMBER',\n",
       "       'AFFECTED PART NAME', 'AFFECTED PART SERIAL NUMBER',\n",
       "       'MAINTENANCE ACTION', 'NUMPARTSFROMSTOREROOM', 'NUMPARTSFROMPO',\n",
       "       'DATE SENT TO VENDOR', 'DATE RECEIVED FROM VENDOR',\n",
       "       'REPAIR PART OWNERSHIP', 'REPAIR PART NUMBER', 'REPAIR PART NAME',\n",
       "       'REPAIR PART SERIAL NUMBER', 'REPAIR PART STOCKTYPE', 'REPAIR CATEGORY',\n",
       "       'REPAIR PART FARCODE', 'TOTAL WORK ORDER LABOR', 'LONG DESCRIPTION'],\n",
       "      dtype='object')"
      ]
     },
     "execution_count": 7,
     "metadata": {},
     "output_type": "execute_result"
    }
   ],
   "source": [
    "df2.columns"
   ]
  },
  {
   "cell_type": "markdown",
   "id": "seasonal-style",
   "metadata": {},
   "source": [
    "#### <font color=blue> Step 2 - Rename columns names by replacing whitespace with underscore, coverting to lowercase. </font>"
   ]
  },
  {
   "cell_type": "code",
   "execution_count": 8,
   "id": "involved-expert",
   "metadata": {},
   "outputs": [],
   "source": [
    "df1.columns = df1.columns.str.strip().str.lower().str.replace(\" \",\"_\")\n",
    "df2.columns = df2.columns.str.strip().str.lower().str.replace(\" \",\"_\")"
   ]
  },
  {
   "cell_type": "code",
   "execution_count": 9,
   "id": "technical-finder",
   "metadata": {
    "scrolled": true
   },
   "outputs": [
    {
     "data": {
      "text/plain": [
       "Index(['tfa', 'subtfa', 'systemid', 'device_number', 'device_description',\n",
       "       'device_serial_numer', 'site', 'work_order_number',\n",
       "       'work_order_description', 'work_order_priority_description',\n",
       "       'wotype_description', 'functional_location_drill_down',\n",
       "       'functional_location_description', 'problemreported', 'actioncompleted',\n",
       "       'time_to_return_(days.%_of_24hrs)', 'lot_year',\n",
       "       'affected_part_unique_identifier', 'affected_part_number',\n",
       "       'affected_part_name', 'affected_part_serial_number',\n",
       "       'maintenance_action', 'numpartsfromstoreroom', 'numpartsfrompo',\n",
       "       'date_sent_to_vendor', 'date_received_from_vendor',\n",
       "       'repair_part_ownership', 'repair_part_number', 'repair_part_name',\n",
       "       'repair_part_serial_number', 'repair_part_stocktype', 'repair_category',\n",
       "       'repair_part_farcode', 'total_work_order_labor', 'long_description',\n",
       "       'unnamed:_35', 'unnamed:_36', 'unnamed:_37', 'unnamed:_38',\n",
       "       'unnamed:_39', 'unnamed:_40'],\n",
       "      dtype='object')"
      ]
     },
     "execution_count": 9,
     "metadata": {},
     "output_type": "execute_result"
    }
   ],
   "source": [
    "df1.columns"
   ]
  },
  {
   "cell_type": "code",
   "execution_count": 10,
   "id": "convinced-contest",
   "metadata": {},
   "outputs": [],
   "source": [
    "df1 = df1.rename({'wotype_description':'wo_type_description','problemreported':'problem_reported',\\\n",
    "           'numpartsfromstoreroom':'num_parts_from_storeroom','numpartsfrompo':'num_parts_from_po'},axis='columns',errors=\"raise\")\n",
    "df2 = df2.rename({'wotype_description':'wo_type_description','problemreported':'problem_reported',\\\n",
    "           'numpartsfromstoreroom':'num_parts_from_storeroom','numpartsfrompo':'num_parts_from_po'},axis='columns',errors=\"raise\")"
   ]
  },
  {
   "cell_type": "code",
   "execution_count": 11,
   "id": "abstract-commerce",
   "metadata": {},
   "outputs": [
    {
     "data": {
      "text/plain": [
       "Index(['tfa', 'subtfa', 'systemid', 'device_number', 'device_description',\n",
       "       'device_serial_numer', 'site', 'work_order_number',\n",
       "       'work_order_description', 'work_order_priority_description',\n",
       "       'wo_type_description', 'functional_location_drill_down',\n",
       "       'functional_location_description', 'problem_reported',\n",
       "       'actioncompleted', 'time_to_return_(days.%_of_24hrs)', 'lot_year',\n",
       "       'affected_part_unique_identifier', 'affected_part_number',\n",
       "       'affected_part_name', 'affected_part_serial_number',\n",
       "       'maintenance_action', 'num_parts_from_storeroom', 'num_parts_from_po',\n",
       "       'date_sent_to_vendor', 'date_received_from_vendor',\n",
       "       'repair_part_ownership', 'repair_part_number', 'repair_part_name',\n",
       "       'repair_part_serial_number', 'repair_part_stocktype', 'repair_category',\n",
       "       'repair_part_farcode', 'total_work_order_labor', 'long_description',\n",
       "       'unnamed:_35', 'unnamed:_36', 'unnamed:_37', 'unnamed:_38',\n",
       "       'unnamed:_39', 'unnamed:_40'],\n",
       "      dtype='object')"
      ]
     },
     "execution_count": 11,
     "metadata": {},
     "output_type": "execute_result"
    }
   ],
   "source": [
    "df1.columns"
   ]
  },
  {
   "cell_type": "markdown",
   "id": "numerical-council",
   "metadata": {},
   "source": [
    "#### <font color=blue> Step 3 - Filter out unwanted columns from dataframes. </font>"
   ]
  },
  {
   "cell_type": "code",
   "execution_count": 12,
   "id": "purple-window",
   "metadata": {},
   "outputs": [],
   "source": [
    "df1_new = df1[df1.columns.intersection(columns_of_interest)].copy()\n",
    "df2_new = df2[df2.columns.intersection(columns_of_interest)].copy()"
   ]
  },
  {
   "cell_type": "code",
   "execution_count": 13,
   "id": "configured-factor",
   "metadata": {},
   "outputs": [
    {
     "data": {
      "text/plain": [
       "Index(['device_number', 'device_description', 'site', 'work_order_number',\n",
       "       'work_order_priority_description', 'wo_type_description',\n",
       "       'problem_reported', 'lot_year', 'num_parts_from_storeroom',\n",
       "       'num_parts_from_po', 'repair_part_number', 'repair_part_name',\n",
       "       'repair_part_stocktype'],\n",
       "      dtype='object')"
      ]
     },
     "execution_count": 13,
     "metadata": {},
     "output_type": "execute_result"
    }
   ],
   "source": [
    "df1_new.columns"
   ]
  },
  {
   "cell_type": "code",
   "execution_count": 14,
   "id": "stuffed-elephant",
   "metadata": {},
   "outputs": [
    {
     "data": {
      "text/plain": [
       "13"
      ]
     },
     "execution_count": 14,
     "metadata": {},
     "output_type": "execute_result"
    }
   ],
   "source": [
    "len(df1_new.columns)"
   ]
  },
  {
   "cell_type": "code",
   "execution_count": 15,
   "id": "municipal-backup",
   "metadata": {},
   "outputs": [
    {
     "data": {
      "text/plain": [
       "(64996, 13)"
      ]
     },
     "execution_count": 15,
     "metadata": {},
     "output_type": "execute_result"
    }
   ],
   "source": [
    "df1_new.shape"
   ]
  },
  {
   "cell_type": "code",
   "execution_count": 16,
   "id": "competent-handbook",
   "metadata": {},
   "outputs": [
    {
     "data": {
      "text/plain": [
       "13"
      ]
     },
     "execution_count": 16,
     "metadata": {},
     "output_type": "execute_result"
    }
   ],
   "source": [
    "len(df2_new.columns)"
   ]
  },
  {
   "cell_type": "code",
   "execution_count": 17,
   "id": "informational-socket",
   "metadata": {},
   "outputs": [
    {
     "data": {
      "text/plain": [
       "Index(['device_number', 'device_description', 'site', 'work_order_number',\n",
       "       'work_order_priority_description', 'wo_type_description',\n",
       "       'problem_reported', 'lot_year', 'num_parts_from_storeroom',\n",
       "       'num_parts_from_po', 'repair_part_number', 'repair_part_name',\n",
       "       'repair_part_stocktype'],\n",
       "      dtype='object')"
      ]
     },
     "execution_count": 17,
     "metadata": {},
     "output_type": "execute_result"
    }
   ],
   "source": [
    "df2_new.columns"
   ]
  },
  {
   "cell_type": "code",
   "execution_count": 18,
   "id": "referenced-darwin",
   "metadata": {},
   "outputs": [
    {
     "data": {
      "text/plain": [
       "(44586, 13)"
      ]
     },
     "execution_count": 18,
     "metadata": {},
     "output_type": "execute_result"
    }
   ],
   "source": [
    "df2_new.shape"
   ]
  },
  {
   "cell_type": "markdown",
   "id": "blond-background",
   "metadata": {},
   "source": [
    "#### <font color=blue> Step 4 - Concatenate the two datasets </font>"
   ]
  },
  {
   "cell_type": "code",
   "execution_count": 19,
   "id": "normal-rolling",
   "metadata": {},
   "outputs": [
    {
     "data": {
      "text/plain": [
       "pandas.core.frame.DataFrame"
      ]
     },
     "execution_count": 19,
     "metadata": {},
     "output_type": "execute_result"
    }
   ],
   "source": [
    "type(df2_new)"
   ]
  },
  {
   "cell_type": "code",
   "execution_count": 20,
   "id": "velvet-flash",
   "metadata": {},
   "outputs": [],
   "source": [
    "df_main = pd.concat([df1_new,df2_new],axis=0,ignore_index = True)"
   ]
  },
  {
   "cell_type": "code",
   "execution_count": 21,
   "id": "known-proportion",
   "metadata": {},
   "outputs": [
    {
     "data": {
      "text/plain": [
       "(109582, 13)"
      ]
     },
     "execution_count": 21,
     "metadata": {},
     "output_type": "execute_result"
    }
   ],
   "source": [
    "df_main.shape"
   ]
  },
  {
   "cell_type": "code",
   "execution_count": 22,
   "id": "indoor-champagne",
   "metadata": {},
   "outputs": [
    {
     "data": {
      "text/html": [
       "<div>\n",
       "<style scoped>\n",
       "    .dataframe tbody tr th:only-of-type {\n",
       "        vertical-align: middle;\n",
       "    }\n",
       "\n",
       "    .dataframe tbody tr th {\n",
       "        vertical-align: top;\n",
       "    }\n",
       "\n",
       "    .dataframe thead th {\n",
       "        text-align: right;\n",
       "    }\n",
       "</style>\n",
       "<table border=\"1\" class=\"dataframe\">\n",
       "  <thead>\n",
       "    <tr style=\"text-align: right;\">\n",
       "      <th></th>\n",
       "      <th>device_number</th>\n",
       "      <th>device_description</th>\n",
       "      <th>site</th>\n",
       "      <th>work_order_number</th>\n",
       "      <th>work_order_priority_description</th>\n",
       "      <th>wo_type_description</th>\n",
       "      <th>problem_reported</th>\n",
       "      <th>lot_year</th>\n",
       "      <th>num_parts_from_storeroom</th>\n",
       "      <th>num_parts_from_po</th>\n",
       "      <th>repair_part_number</th>\n",
       "      <th>repair_part_name</th>\n",
       "      <th>repair_part_stocktype</th>\n",
       "    </tr>\n",
       "  </thead>\n",
       "  <tbody>\n",
       "    <tr>\n",
       "      <th>0</th>\n",
       "      <td>07-129</td>\n",
       "      <td>Engagement Skills Trainer (EST) 2000</td>\n",
       "      <td>Ft Leonard Wood, MO</td>\n",
       "      <td>6766881</td>\n",
       "      <td>Corrective Maintenance</td>\n",
       "      <td>Corrective COR</td>\n",
       "      <td>2015-04-03 10:40:00</td>\n",
       "      <td>6.0</td>\n",
       "      <td>0.0</td>\n",
       "      <td>0.0</td>\n",
       "      <td>No parts issued to workorder</td>\n",
       "      <td>No parts issued to workorder</td>\n",
       "      <td>No Parts Issued from Inventory</td>\n",
       "    </tr>\n",
       "    <tr>\n",
       "      <th>1</th>\n",
       "      <td>07-129</td>\n",
       "      <td>Engagement Skills Trainer (EST) 2000</td>\n",
       "      <td>Ft Sill, OK</td>\n",
       "      <td>5780918</td>\n",
       "      <td>Corrective Maintenance</td>\n",
       "      <td>Corrective COR</td>\n",
       "      <td>2013-05-30 13:00:00</td>\n",
       "      <td>5.0</td>\n",
       "      <td>0.0</td>\n",
       "      <td>0.0</td>\n",
       "      <td>No parts issued to workorder</td>\n",
       "      <td>No parts issued to workorder</td>\n",
       "      <td>No Parts Issued from Inventory</td>\n",
       "    </tr>\n",
       "    <tr>\n",
       "      <th>2</th>\n",
       "      <td>07-129</td>\n",
       "      <td>Engagement Skills Trainer (EST) 2000</td>\n",
       "      <td>Warfighter Support Center</td>\n",
       "      <td>6305062</td>\n",
       "      <td>Corrective Maintenance</td>\n",
       "      <td>Corrective COR</td>\n",
       "      <td>2014-05-30 16:48:00</td>\n",
       "      <td>6.0</td>\n",
       "      <td>0.0</td>\n",
       "      <td>0.0</td>\n",
       "      <td>No parts issued to workorder</td>\n",
       "      <td>No parts issued to workorder</td>\n",
       "      <td>No Parts Issued from Inventory</td>\n",
       "    </tr>\n",
       "    <tr>\n",
       "      <th>3</th>\n",
       "      <td>07-129</td>\n",
       "      <td>Engagement Skills Trainer (EST) 2000</td>\n",
       "      <td>Ft Leonard Wood, MO</td>\n",
       "      <td>6425405</td>\n",
       "      <td>Corrective Maintenance</td>\n",
       "      <td>Corrective COR</td>\n",
       "      <td>2014-08-19 13:18:00</td>\n",
       "      <td>6.0</td>\n",
       "      <td>2.0</td>\n",
       "      <td>0.0</td>\n",
       "      <td>93135A076</td>\n",
       "      <td>SCREW, NYLON MOUNTING, SENSOR BOARD (CUBIC) M1...</td>\n",
       "      <td>CONSUMABLE</td>\n",
       "    </tr>\n",
       "    <tr>\n",
       "      <th>4</th>\n",
       "      <td>07-129</td>\n",
       "      <td>Engagement Skills Trainer (EST) 2000</td>\n",
       "      <td>Ft Leonard Wood, MO</td>\n",
       "      <td>6425405</td>\n",
       "      <td>Corrective Maintenance</td>\n",
       "      <td>Corrective COR</td>\n",
       "      <td>2014-08-19 13:18:00</td>\n",
       "      <td>6.0</td>\n",
       "      <td>2.0</td>\n",
       "      <td>0.0</td>\n",
       "      <td>924013066</td>\n",
       "      <td>BOARD,  SENSOR , M4 / M16 ,  CUBIC</td>\n",
       "      <td>REPAIRABLE</td>\n",
       "    </tr>\n",
       "  </tbody>\n",
       "</table>\n",
       "</div>"
      ],
      "text/plain": [
       "  device_number                    device_description  \\\n",
       "0        07-129  Engagement Skills Trainer (EST) 2000   \n",
       "1        07-129  Engagement Skills Trainer (EST) 2000   \n",
       "2        07-129  Engagement Skills Trainer (EST) 2000   \n",
       "3        07-129  Engagement Skills Trainer (EST) 2000   \n",
       "4        07-129  Engagement Skills Trainer (EST) 2000   \n",
       "\n",
       "                        site work_order_number  \\\n",
       "0        Ft Leonard Wood, MO           6766881   \n",
       "1                Ft Sill, OK           5780918   \n",
       "2  Warfighter Support Center           6305062   \n",
       "3        Ft Leonard Wood, MO           6425405   \n",
       "4        Ft Leonard Wood, MO           6425405   \n",
       "\n",
       "  work_order_priority_description wo_type_description    problem_reported  \\\n",
       "0          Corrective Maintenance      Corrective COR 2015-04-03 10:40:00   \n",
       "1          Corrective Maintenance      Corrective COR 2013-05-30 13:00:00   \n",
       "2          Corrective Maintenance      Corrective COR 2014-05-30 16:48:00   \n",
       "3          Corrective Maintenance      Corrective COR 2014-08-19 13:18:00   \n",
       "4          Corrective Maintenance      Corrective COR 2014-08-19 13:18:00   \n",
       "\n",
       "   lot_year  num_parts_from_storeroom  num_parts_from_po  \\\n",
       "0       6.0                       0.0                0.0   \n",
       "1       5.0                       0.0                0.0   \n",
       "2       6.0                       0.0                0.0   \n",
       "3       6.0                       2.0                0.0   \n",
       "4       6.0                       2.0                0.0   \n",
       "\n",
       "             repair_part_number  \\\n",
       "0  No parts issued to workorder   \n",
       "1  No parts issued to workorder   \n",
       "2  No parts issued to workorder   \n",
       "3                     93135A076   \n",
       "4                     924013066   \n",
       "\n",
       "                                    repair_part_name  \\\n",
       "0                       No parts issued to workorder   \n",
       "1                       No parts issued to workorder   \n",
       "2                       No parts issued to workorder   \n",
       "3  SCREW, NYLON MOUNTING, SENSOR BOARD (CUBIC) M1...   \n",
       "4                 BOARD,  SENSOR , M4 / M16 ,  CUBIC   \n",
       "\n",
       "            repair_part_stocktype  \n",
       "0  No Parts Issued from Inventory  \n",
       "1  No Parts Issued from Inventory  \n",
       "2  No Parts Issued from Inventory  \n",
       "3                      CONSUMABLE  \n",
       "4                      REPAIRABLE  "
      ]
     },
     "execution_count": 22,
     "metadata": {},
     "output_type": "execute_result"
    }
   ],
   "source": [
    "df_main.head()"
   ]
  },
  {
   "cell_type": "markdown",
   "id": "israeli-column",
   "metadata": {},
   "source": [
    "## <font color=dark red> Data Cleansing </font>"
   ]
  },
  {
   "cell_type": "markdown",
   "id": "reported-butler",
   "metadata": {},
   "source": [
    "#### <font color=blue> Step 1 - Convert problem_reported column to date column. The column values are already of datetime type.</font>"
   ]
  },
  {
   "cell_type": "code",
   "execution_count": 23,
   "id": "pointed-response",
   "metadata": {},
   "outputs": [
    {
     "data": {
      "text/plain": [
       "(0        2015-04-03 10:40:00\n",
       " 1        2013-05-30 13:00:00\n",
       " 2        2014-05-30 16:48:00\n",
       " 3        2014-08-19 13:18:00\n",
       " 4        2014-08-19 13:18:00\n",
       "                  ...        \n",
       " 109577   2013-08-21 14:39:14\n",
       " 109578   2014-12-19 13:48:18\n",
       " 109579   2014-12-19 13:48:18\n",
       " 109580   2014-12-19 13:48:18\n",
       " 109581                   NaT\n",
       " Name: problem_reported, Length: 109582, dtype: datetime64[ns],\n",
       " pandas.core.series.Series)"
      ]
     },
     "execution_count": 23,
     "metadata": {},
     "output_type": "execute_result"
    }
   ],
   "source": [
    "df_main['problem_reported'], type(df_main['problem_reported'])"
   ]
  },
  {
   "cell_type": "code",
   "execution_count": 24,
   "id": "alpine-calendar",
   "metadata": {},
   "outputs": [],
   "source": [
    "df_main['problem_reported'] = df_main.problem_reported.dt.date"
   ]
  },
  {
   "cell_type": "code",
   "execution_count": 25,
   "id": "sonic-repair",
   "metadata": {},
   "outputs": [
    {
     "data": {
      "text/plain": [
       "0         2015-04-03\n",
       "1         2013-05-30\n",
       "2         2014-05-30\n",
       "3         2014-08-19\n",
       "4         2014-08-19\n",
       "             ...    \n",
       "109577    2013-08-21\n",
       "109578    2014-12-19\n",
       "109579    2014-12-19\n",
       "109580    2014-12-19\n",
       "109581           NaT\n",
       "Name: problem_reported, Length: 109582, dtype: object"
      ]
     },
     "execution_count": 25,
     "metadata": {},
     "output_type": "execute_result"
    }
   ],
   "source": [
    "df_main['problem_reported']"
   ]
  },
  {
   "cell_type": "code",
   "execution_count": 26,
   "id": "simplified-riverside",
   "metadata": {},
   "outputs": [],
   "source": [
    "# df_main = df_main.rename({'problem_reported':'date'},axis='columns',errors=\"raise\")"
   ]
  },
  {
   "cell_type": "code",
   "execution_count": 27,
   "id": "extra-equilibrium",
   "metadata": {},
   "outputs": [
    {
     "data": {
      "text/plain": [
       "0         2015-04-03\n",
       "1         2013-05-30\n",
       "2         2014-05-30\n",
       "3         2014-08-19\n",
       "4         2014-08-19\n",
       "             ...    \n",
       "109577    2013-08-21\n",
       "109578    2014-12-19\n",
       "109579    2014-12-19\n",
       "109580    2014-12-19\n",
       "109581           NaT\n",
       "Name: problem_reported, Length: 109582, dtype: object"
      ]
     },
     "execution_count": 27,
     "metadata": {},
     "output_type": "execute_result"
    }
   ],
   "source": [
    "df_main['problem_reported']"
   ]
  },
  {
   "cell_type": "markdown",
   "id": "threatened-whole",
   "metadata": {},
   "source": [
    "#### <font color=blue> Step 2 - Removing all records that have a description of 'Modification Government' & 'Operational Support' & 'Exercise Support' & 'Log Problem' & 'Operational Support'.</font>\n",
    "<font color = green> Additional Request for Milestone 1 added.</font>"
   ]
  },
  {
   "cell_type": "code",
   "execution_count": 28,
   "id": "about-cheat",
   "metadata": {},
   "outputs": [
    {
     "data": {
      "text/plain": [
       "array(['Corrective COR', 'Modification Government', 'Preventive PM',\n",
       "       'Operational Support', 'Exercise Support', 'Log Problem', nan],\n",
       "      dtype=object)"
      ]
     },
     "execution_count": 28,
     "metadata": {},
     "output_type": "execute_result"
    }
   ],
   "source": [
    "df_main.wo_type_description.unique()"
   ]
  },
  {
   "cell_type": "code",
   "execution_count": 29,
   "id": "arabic-christian",
   "metadata": {},
   "outputs": [
    {
     "data": {
      "text/plain": [
       "(109582, 13)"
      ]
     },
     "execution_count": 29,
     "metadata": {},
     "output_type": "execute_result"
    }
   ],
   "source": [
    "df_main.shape"
   ]
  },
  {
   "cell_type": "code",
   "execution_count": 30,
   "id": "local-badge",
   "metadata": {},
   "outputs": [],
   "source": [
    "df_main = df_main.drop(df_main.index[df_main['wo_type_description'].str.\n",
    "                                     contains('Modification Government|Operational Support|Exercise Support|Log Problem|Operational Support', na=False)])"
   ]
  },
  {
   "cell_type": "code",
   "execution_count": 31,
   "id": "furnished-juice",
   "metadata": {},
   "outputs": [
    {
     "data": {
      "text/plain": [
       "(108601, 13)"
      ]
     },
     "execution_count": 31,
     "metadata": {},
     "output_type": "execute_result"
    }
   ],
   "source": [
    "df_main.shape"
   ]
  },
  {
   "cell_type": "code",
   "execution_count": 32,
   "id": "coordinated-stevens",
   "metadata": {},
   "outputs": [
    {
     "data": {
      "text/plain": [
       "array(['Corrective COR', 'Preventive PM', nan], dtype=object)"
      ]
     },
     "execution_count": 32,
     "metadata": {},
     "output_type": "execute_result"
    }
   ],
   "source": [
    "df_main.wo_type_description.unique()"
   ]
  },
  {
   "cell_type": "markdown",
   "id": "enhanced-server",
   "metadata": {},
   "source": [
    "#### <font color=blue> Step 3 - Removing all rows that have values of 'Move/Modify/Upgrade' & 'Exercise/Operational Support' in the 'work_order_priority_description' column. </font>"
   ]
  },
  {
   "cell_type": "markdown",
   "id": "possible-murray",
   "metadata": {},
   "source": [
    "<font color = green> Additional Request for Milestone 1 added.</font>"
   ]
  },
  {
   "cell_type": "code",
   "execution_count": 33,
   "id": "declared-northeast",
   "metadata": {},
   "outputs": [
    {
     "data": {
      "text/plain": [
       "array(['Corrective Maintenance', 'PMCS', 'System - Device Degraded',\n",
       "       'Bench/Depot Repair', 'System - Device Down',\n",
       "       'Exercise/Operational Support', 'Move/Modify/Upgrade', nan],\n",
       "      dtype=object)"
      ]
     },
     "execution_count": 33,
     "metadata": {},
     "output_type": "execute_result"
    }
   ],
   "source": [
    "df_main.work_order_priority_description.unique()"
   ]
  },
  {
   "cell_type": "code",
   "execution_count": 34,
   "id": "revolutionary-congo",
   "metadata": {},
   "outputs": [
    {
     "data": {
      "text/plain": [
       "(108601, 13)"
      ]
     },
     "execution_count": 34,
     "metadata": {},
     "output_type": "execute_result"
    }
   ],
   "source": [
    "df_main.shape"
   ]
  },
  {
   "cell_type": "code",
   "execution_count": 35,
   "id": "bigger-spread",
   "metadata": {},
   "outputs": [],
   "source": [
    "df_main = df_main.drop(df_main.index[df_main['work_order_priority_description'].str.contains('Move/Modify/Upgrade|Exercise/Operational Support', na=False)])"
   ]
  },
  {
   "cell_type": "code",
   "execution_count": 36,
   "id": "accurate-index",
   "metadata": {},
   "outputs": [
    {
     "data": {
      "text/plain": [
       "(108301, 13)"
      ]
     },
     "execution_count": 36,
     "metadata": {},
     "output_type": "execute_result"
    }
   ],
   "source": [
    "df_main.shape"
   ]
  },
  {
   "cell_type": "code",
   "execution_count": 37,
   "id": "based-testing",
   "metadata": {},
   "outputs": [
    {
     "data": {
      "text/plain": [
       "array(['Corrective Maintenance', 'PMCS', 'System - Device Degraded',\n",
       "       'Bench/Depot Repair', 'System - Device Down', nan], dtype=object)"
      ]
     },
     "execution_count": 37,
     "metadata": {},
     "output_type": "execute_result"
    }
   ],
   "source": [
    "df_main.work_order_priority_description.unique()"
   ]
  },
  {
   "cell_type": "markdown",
   "id": "contrary-roller",
   "metadata": {},
   "source": [
    "#### <font color=blue> Step 4 - Removing all rows that have values of 'No parts issued to workorder'in the 'repair_part_number' column. </font>"
   ]
  },
  {
   "cell_type": "code",
   "execution_count": 38,
   "id": "seeing-modem",
   "metadata": {},
   "outputs": [
    {
     "data": {
      "text/plain": [
       "array(['No parts issued to workorder', '93135A076', '924013066', ...,\n",
       "       '1009520', '6975000', '28301'], dtype=object)"
      ]
     },
     "execution_count": 38,
     "metadata": {},
     "output_type": "execute_result"
    }
   ],
   "source": [
    "df_main.repair_part_number.unique()"
   ]
  },
  {
   "cell_type": "code",
   "execution_count": 39,
   "id": "speaking-worship",
   "metadata": {},
   "outputs": [],
   "source": [
    "df_main = df_main.drop(df_main.index[df_main['repair_part_number'].str.contains('No parts issued to workorder', na=False)])"
   ]
  },
  {
   "cell_type": "code",
   "execution_count": 40,
   "id": "thermal-tutorial",
   "metadata": {},
   "outputs": [
    {
     "data": {
      "text/plain": [
       "(84609, 13)"
      ]
     },
     "execution_count": 40,
     "metadata": {},
     "output_type": "execute_result"
    }
   ],
   "source": [
    "df_main.shape"
   ]
  },
  {
   "cell_type": "markdown",
   "id": "amino-sapphire",
   "metadata": {},
   "source": [
    "#### <font color=blue> Before we move onto the next step, lets check for nan values.</font>"
   ]
  },
  {
   "cell_type": "code",
   "execution_count": 41,
   "id": "advanced-pendant",
   "metadata": {},
   "outputs": [
    {
     "data": {
      "text/html": [
       "<div>\n",
       "<style scoped>\n",
       "    .dataframe tbody tr th:only-of-type {\n",
       "        vertical-align: middle;\n",
       "    }\n",
       "\n",
       "    .dataframe tbody tr th {\n",
       "        vertical-align: top;\n",
       "    }\n",
       "\n",
       "    .dataframe thead th {\n",
       "        text-align: right;\n",
       "    }\n",
       "</style>\n",
       "<table border=\"1\" class=\"dataframe\">\n",
       "  <thead>\n",
       "    <tr style=\"text-align: right;\">\n",
       "      <th></th>\n",
       "      <th>device_number</th>\n",
       "      <th>device_description</th>\n",
       "      <th>site</th>\n",
       "      <th>work_order_number</th>\n",
       "      <th>work_order_priority_description</th>\n",
       "      <th>wo_type_description</th>\n",
       "      <th>problem_reported</th>\n",
       "      <th>lot_year</th>\n",
       "      <th>num_parts_from_storeroom</th>\n",
       "      <th>num_parts_from_po</th>\n",
       "      <th>repair_part_number</th>\n",
       "      <th>repair_part_name</th>\n",
       "      <th>repair_part_stocktype</th>\n",
       "    </tr>\n",
       "  </thead>\n",
       "  <tbody>\n",
       "    <tr>\n",
       "      <th>109574</th>\n",
       "      <td>07-129</td>\n",
       "      <td>Engagement Skills Trainer (EST) 2000</td>\n",
       "      <td>Warfighter Support Center</td>\n",
       "      <td>6668843</td>\n",
       "      <td>Bench/Depot Repair</td>\n",
       "      <td>Corrective COR</td>\n",
       "      <td>2015-05-01</td>\n",
       "      <td>6.0</td>\n",
       "      <td>8.0</td>\n",
       "      <td>0.0</td>\n",
       "      <td>28301</td>\n",
       "      <td>SCREW, 6-32X3/8 IN. PHILLIPS FLATHEAD MACHINE,...</td>\n",
       "      <td>CONSUMABLE</td>\n",
       "    </tr>\n",
       "    <tr>\n",
       "      <th>109578</th>\n",
       "      <td>07-129</td>\n",
       "      <td>Engagement Skills Trainer (EST) 2000</td>\n",
       "      <td>Warfighter Support Center</td>\n",
       "      <td>DR6560719</td>\n",
       "      <td>Bench/Depot Repair</td>\n",
       "      <td>Corrective COR</td>\n",
       "      <td>2014-12-19</td>\n",
       "      <td>6.0</td>\n",
       "      <td>1.0</td>\n",
       "      <td>0.0</td>\n",
       "      <td>KA10F09</td>\n",
       "      <td>FILTER, COALESCING (FILTER ONLY), JUN-AIR</td>\n",
       "      <td>CONSUMABLE</td>\n",
       "    </tr>\n",
       "    <tr>\n",
       "      <th>109579</th>\n",
       "      <td>07-129</td>\n",
       "      <td>Engagement Skills Trainer (EST) 2000</td>\n",
       "      <td>Warfighter Support Center</td>\n",
       "      <td>DR6560719</td>\n",
       "      <td>Bench/Depot Repair</td>\n",
       "      <td>Corrective COR</td>\n",
       "      <td>2014-12-19</td>\n",
       "      <td>6.0</td>\n",
       "      <td>1.0</td>\n",
       "      <td>0.0</td>\n",
       "      <td>201112</td>\n",
       "      <td>CONNECTOR, T-JOINT , GRAINGER</td>\n",
       "      <td>CONSUMABLE</td>\n",
       "    </tr>\n",
       "    <tr>\n",
       "      <th>109580</th>\n",
       "      <td>07-129</td>\n",
       "      <td>Engagement Skills Trainer (EST) 2000</td>\n",
       "      <td>Warfighter Support Center</td>\n",
       "      <td>DR6560719</td>\n",
       "      <td>Bench/Depot Repair</td>\n",
       "      <td>Corrective COR</td>\n",
       "      <td>2014-12-19</td>\n",
       "      <td>6.0</td>\n",
       "      <td>3.0</td>\n",
       "      <td>0.0</td>\n",
       "      <td>70MDD</td>\n",
       "      <td>GAUGE , AIR COMPRESSOR, Y-PACK, JUN-AIR</td>\n",
       "      <td>CONSUMABLE</td>\n",
       "    </tr>\n",
       "    <tr>\n",
       "      <th>109581</th>\n",
       "      <td>NaN</td>\n",
       "      <td>NaN</td>\n",
       "      <td>NaN</td>\n",
       "      <td>NaN</td>\n",
       "      <td>NaN</td>\n",
       "      <td>NaN</td>\n",
       "      <td>NaT</td>\n",
       "      <td>NaN</td>\n",
       "      <td>NaN</td>\n",
       "      <td>NaN</td>\n",
       "      <td>NaN</td>\n",
       "      <td>NaN</td>\n",
       "      <td>NaN</td>\n",
       "    </tr>\n",
       "  </tbody>\n",
       "</table>\n",
       "</div>"
      ],
      "text/plain": [
       "       device_number                    device_description  \\\n",
       "109574        07-129  Engagement Skills Trainer (EST) 2000   \n",
       "109578        07-129  Engagement Skills Trainer (EST) 2000   \n",
       "109579        07-129  Engagement Skills Trainer (EST) 2000   \n",
       "109580        07-129  Engagement Skills Trainer (EST) 2000   \n",
       "109581           NaN                                   NaN   \n",
       "\n",
       "                             site work_order_number  \\\n",
       "109574  Warfighter Support Center           6668843   \n",
       "109578  Warfighter Support Center         DR6560719   \n",
       "109579  Warfighter Support Center         DR6560719   \n",
       "109580  Warfighter Support Center         DR6560719   \n",
       "109581                        NaN               NaN   \n",
       "\n",
       "       work_order_priority_description wo_type_description problem_reported  \\\n",
       "109574              Bench/Depot Repair      Corrective COR       2015-05-01   \n",
       "109578              Bench/Depot Repair      Corrective COR       2014-12-19   \n",
       "109579              Bench/Depot Repair      Corrective COR       2014-12-19   \n",
       "109580              Bench/Depot Repair      Corrective COR       2014-12-19   \n",
       "109581                             NaN                 NaN              NaT   \n",
       "\n",
       "        lot_year  num_parts_from_storeroom  num_parts_from_po  \\\n",
       "109574       6.0                       8.0                0.0   \n",
       "109578       6.0                       1.0                0.0   \n",
       "109579       6.0                       1.0                0.0   \n",
       "109580       6.0                       3.0                0.0   \n",
       "109581       NaN                       NaN                NaN   \n",
       "\n",
       "       repair_part_number                                   repair_part_name  \\\n",
       "109574              28301  SCREW, 6-32X3/8 IN. PHILLIPS FLATHEAD MACHINE,...   \n",
       "109578            KA10F09          FILTER, COALESCING (FILTER ONLY), JUN-AIR   \n",
       "109579             201112                      CONNECTOR, T-JOINT , GRAINGER   \n",
       "109580              70MDD            GAUGE , AIR COMPRESSOR, Y-PACK, JUN-AIR   \n",
       "109581                NaN                                                NaN   \n",
       "\n",
       "       repair_part_stocktype  \n",
       "109574            CONSUMABLE  \n",
       "109578            CONSUMABLE  \n",
       "109579            CONSUMABLE  \n",
       "109580            CONSUMABLE  \n",
       "109581                   NaN  "
      ]
     },
     "execution_count": 41,
     "metadata": {},
     "output_type": "execute_result"
    }
   ],
   "source": [
    "df_main.tail()"
   ]
  },
  {
   "cell_type": "code",
   "execution_count": 42,
   "id": "abstract-georgia",
   "metadata": {
    "scrolled": true
   },
   "outputs": [
    {
     "data": {
      "text/plain": [
       "device_number                      2\n",
       "device_description                 2\n",
       "site                               2\n",
       "work_order_number                  2\n",
       "work_order_priority_description    2\n",
       "wo_type_description                2\n",
       "problem_reported                   2\n",
       "lot_year                           2\n",
       "num_parts_from_storeroom           2\n",
       "num_parts_from_po                  2\n",
       "repair_part_number                 2\n",
       "repair_part_name                   2\n",
       "repair_part_stocktype              2\n",
       "dtype: int64"
      ]
     },
     "execution_count": 42,
     "metadata": {},
     "output_type": "execute_result"
    }
   ],
   "source": [
    "# for col in df_main:\n",
    "#     print(df_main[col].name,'=',df_main[col].unique())\n",
    "\n",
    "df_main.isnull().sum()"
   ]
  },
  {
   "cell_type": "code",
   "execution_count": 43,
   "id": "lovely-estonia",
   "metadata": {},
   "outputs": [],
   "source": [
    "# lets remove the two rows with nan values.\n",
    "df_main = df_main.dropna(axis=0)"
   ]
  },
  {
   "cell_type": "code",
   "execution_count": 44,
   "id": "protecting-editor",
   "metadata": {},
   "outputs": [
    {
     "data": {
      "text/plain": [
       "(84607, 13)"
      ]
     },
     "execution_count": 44,
     "metadata": {},
     "output_type": "execute_result"
    }
   ],
   "source": [
    "df_main.shape"
   ]
  },
  {
   "cell_type": "markdown",
   "id": "tough-netscape",
   "metadata": {},
   "source": [
    "## <font color=dark red> Reporting </font>"
   ]
  },
  {
   "cell_type": "markdown",
   "id": "lesbian-european",
   "metadata": {},
   "source": [
    "#### <font color=blue> Generating a view that displays the number of remaining records.</font>"
   ]
  },
  {
   "cell_type": "code",
   "execution_count": 45,
   "id": "suspected-montgomery",
   "metadata": {},
   "outputs": [],
   "source": [
    "total_records = df_main.shape[0]"
   ]
  },
  {
   "cell_type": "code",
   "execution_count": 46,
   "id": "advanced-recording",
   "metadata": {},
   "outputs": [
    {
     "data": {
      "text/plain": [
       "84607"
      ]
     },
     "execution_count": 46,
     "metadata": {},
     "output_type": "execute_result"
    }
   ],
   "source": [
    "total_records"
   ]
  },
  {
   "cell_type": "code",
   "execution_count": 47,
   "id": "precise-royalty",
   "metadata": {},
   "outputs": [],
   "source": [
    "wo_typedesc_df = df_main['wo_type_description'].value_counts().to_frame()"
   ]
  },
  {
   "cell_type": "code",
   "execution_count": 48,
   "id": "cooperative-presence",
   "metadata": {},
   "outputs": [
    {
     "data": {
      "text/html": [
       "<div>\n",
       "<style scoped>\n",
       "    .dataframe tbody tr th:only-of-type {\n",
       "        vertical-align: middle;\n",
       "    }\n",
       "\n",
       "    .dataframe tbody tr th {\n",
       "        vertical-align: top;\n",
       "    }\n",
       "\n",
       "    .dataframe thead th {\n",
       "        text-align: right;\n",
       "    }\n",
       "</style>\n",
       "<table border=\"1\" class=\"dataframe\">\n",
       "  <thead>\n",
       "    <tr style=\"text-align: right;\">\n",
       "      <th></th>\n",
       "      <th>wo_type_description</th>\n",
       "    </tr>\n",
       "  </thead>\n",
       "  <tbody>\n",
       "    <tr>\n",
       "      <th>Corrective COR</th>\n",
       "      <td>84417</td>\n",
       "    </tr>\n",
       "    <tr>\n",
       "      <th>Preventive PM</th>\n",
       "      <td>190</td>\n",
       "    </tr>\n",
       "  </tbody>\n",
       "</table>\n",
       "</div>"
      ],
      "text/plain": [
       "                wo_type_description\n",
       "Corrective COR                84417\n",
       "Preventive PM                   190"
      ]
     },
     "execution_count": 48,
     "metadata": {},
     "output_type": "execute_result"
    }
   ],
   "source": [
    "wo_typedesc_df"
   ]
  },
  {
   "cell_type": "code",
   "execution_count": 49,
   "id": "expensive-incident",
   "metadata": {},
   "outputs": [],
   "source": [
    "wo_prioritydesc_df = df_main['work_order_priority_description'].value_counts().to_frame()"
   ]
  },
  {
   "cell_type": "code",
   "execution_count": 50,
   "id": "laden-single",
   "metadata": {},
   "outputs": [
    {
     "data": {
      "text/html": [
       "<div>\n",
       "<style scoped>\n",
       "    .dataframe tbody tr th:only-of-type {\n",
       "        vertical-align: middle;\n",
       "    }\n",
       "\n",
       "    .dataframe tbody tr th {\n",
       "        vertical-align: top;\n",
       "    }\n",
       "\n",
       "    .dataframe thead th {\n",
       "        text-align: right;\n",
       "    }\n",
       "</style>\n",
       "<table border=\"1\" class=\"dataframe\">\n",
       "  <thead>\n",
       "    <tr style=\"text-align: right;\">\n",
       "      <th></th>\n",
       "      <th>work_order_priority_description</th>\n",
       "    </tr>\n",
       "  </thead>\n",
       "  <tbody>\n",
       "    <tr>\n",
       "      <th>Corrective Maintenance</th>\n",
       "      <td>46412</td>\n",
       "    </tr>\n",
       "    <tr>\n",
       "      <th>Bench/Depot Repair</th>\n",
       "      <td>36679</td>\n",
       "    </tr>\n",
       "    <tr>\n",
       "      <th>System - Device Down</th>\n",
       "      <td>863</td>\n",
       "    </tr>\n",
       "    <tr>\n",
       "      <th>System - Device Degraded</th>\n",
       "      <td>396</td>\n",
       "    </tr>\n",
       "    <tr>\n",
       "      <th>PMCS</th>\n",
       "      <td>257</td>\n",
       "    </tr>\n",
       "  </tbody>\n",
       "</table>\n",
       "</div>"
      ],
      "text/plain": [
       "                          work_order_priority_description\n",
       "Corrective Maintenance                              46412\n",
       "Bench/Depot Repair                                  36679\n",
       "System - Device Down                                  863\n",
       "System - Device Degraded                              396\n",
       "PMCS                                                  257"
      ]
     },
     "execution_count": 50,
     "metadata": {},
     "output_type": "execute_result"
    }
   ],
   "source": [
    "wo_prioritydesc_df"
   ]
  },
  {
   "cell_type": "code",
   "execution_count": 51,
   "id": "controversial-shelter",
   "metadata": {},
   "outputs": [],
   "source": [
    "# Set label size for plots\n",
    "matplotlib.rc('xtick', labelsize=10)\n",
    "matplotlib.rc('ytick', labelsize=10)\n",
    "sns.set_context(\"poster\")\n",
    "# plt.rcParams.update({'font.size': 10})"
   ]
  },
  {
   "cell_type": "code",
   "execution_count": 52,
   "id": "patient-adobe",
   "metadata": {},
   "outputs": [
    {
     "data": {
      "image/png": "[encoded data removed]",
      "text/plain": [
       "<Figure size 432x288 with 1 Axes>"
      ]
     },
     "metadata": {
      "needs_background": "light"
     },
     "output_type": "display_data"
    }
   ],
   "source": [
    "plt.barh('Total Records',total_records, color = 'k',log=True)\n",
    "plt.barh('Corrective COR',wo_typedesc_df.loc['Corrective COR'][0],color = 'b',label = 'Work Order Type')\n",
    "plt.barh('Preventive PM',wo_typedesc_df.loc['Preventive PM'][0],color = 'b')\n",
    "plt.barh('System - Device Down',wo_prioritydesc_df.loc['System - Device Down'][0],color = 'r',label = 'Work Order Priority')\n",
    "plt.barh('System - Device Degraded',wo_prioritydesc_df.loc['System - Device Degraded'][0],color = 'r')\n",
    "\n",
    "values = [total_records,wo_typedesc_df.loc['Corrective COR'][0],wo_typedesc_df.loc['Preventive PM'][0],wo_prioritydesc_df.loc['System - Device Down'][0],wo_prioritydesc_df.loc['System - Device Degraded'][0]]\n",
    "i = 1\n",
    "j = 50\n",
    "for i in range(len(values)):\n",
    "    plt.annotate(values[i], (values[i] + j, -0.1 + i), fontsize=12)\n",
    "\n",
    "plt.title('Remaining Record Numbers (Log Plot)',fontsize=20)\n",
    "plt.xlabel('Number of Records',fontsize=14)\n",
    "plt.legend(borderpad=0.2,prop={'size':12})\n",
    "plt.xticks(fontsize=14)\n",
    "plt.yticks(fontsize=12)\n",
    "# plt.xlim(0,10^6)\n",
    "# plt.figsize=(20, 20)\n",
    "# plt.savefig('Remaining_Records.png',dpi=120, facecolor='w',orientation='potrait', bbox_inches=\"tight\")\n",
    "plt.show()"
   ]
  },
  {
   "cell_type": "markdown",
   "id": "meaningful-croatia",
   "metadata": {},
   "source": [
    "## <font color=dark red> Exploratory Data Analysis (EDA) </font>"
   ]
  },
  {
   "cell_type": "markdown",
   "id": "revised-samba",
   "metadata": {},
   "source": [
    "#### <font color=blue> Step 1 - Generating a view that displays the minimum and maximum Problem Reported Dates.</font>"
   ]
  },
  {
   "cell_type": "code",
   "execution_count": 53,
   "id": "extended-bride",
   "metadata": {},
   "outputs": [
    {
     "data": {
      "text/plain": [
       "min    2009-03-07\n",
       "max    2015-11-12\n",
       "Name: problem_reported, dtype: object"
      ]
     },
     "execution_count": 53,
     "metadata": {},
     "output_type": "execute_result"
    }
   ],
   "source": [
    "# Earliest and latest problem reported dates for all the records\n",
    "\n",
    "df_main['problem_reported'].agg(['min','max'])"
   ]
  },
  {
   "cell_type": "code",
   "execution_count": 54,
   "id": "popular-kitty",
   "metadata": {},
   "outputs": [
    {
     "data": {
      "text/plain": [
       "2011-09-12      1\n",
       "2013-10-12      1\n",
       "2013-01-26      1\n",
       "2012-03-28      1\n",
       "2013-08-31      1\n",
       "             ... \n",
       "2014-03-04    269\n",
       "2014-10-06    280\n",
       "2013-03-15    297\n",
       "2014-03-31    301\n",
       "2014-12-03    311\n",
       "Name: problem_reported, Length: 1052, dtype: int64"
      ]
     },
     "execution_count": 54,
     "metadata": {},
     "output_type": "execute_result"
    }
   ],
   "source": [
    "# The least number of problems reported for any day was 1 , and the maximum number of problems were reported\n",
    "# on March 3, 2014. A total of 311 problems reported.\n",
    "\n",
    "df_main['problem_reported'].value_counts(ascending=True)"
   ]
  },
  {
   "cell_type": "code",
   "execution_count": 55,
   "id": "agricultural-saturn",
   "metadata": {},
   "outputs": [
    {
     "data": {
      "text/html": [
       "<div>\n",
       "<style scoped>\n",
       "    .dataframe tbody tr th:only-of-type {\n",
       "        vertical-align: middle;\n",
       "    }\n",
       "\n",
       "    .dataframe tbody tr th {\n",
       "        vertical-align: top;\n",
       "    }\n",
       "\n",
       "    .dataframe thead th {\n",
       "        text-align: right;\n",
       "    }\n",
       "</style>\n",
       "<table border=\"1\" class=\"dataframe\">\n",
       "  <thead>\n",
       "    <tr style=\"text-align: right;\">\n",
       "      <th></th>\n",
       "      <th>min</th>\n",
       "      <th>max</th>\n",
       "    </tr>\n",
       "    <tr>\n",
       "      <th>wo_type_description</th>\n",
       "      <th></th>\n",
       "      <th></th>\n",
       "    </tr>\n",
       "  </thead>\n",
       "  <tbody>\n",
       "    <tr>\n",
       "      <th>Corrective COR</th>\n",
       "      <td>2009-03-07</td>\n",
       "      <td>2015-11-12</td>\n",
       "    </tr>\n",
       "    <tr>\n",
       "      <th>Preventive PM</th>\n",
       "      <td>2012-05-16</td>\n",
       "      <td>2015-04-27</td>\n",
       "    </tr>\n",
       "  </tbody>\n",
       "</table>\n",
       "</div>"
      ],
      "text/plain": [
       "                            min         max\n",
       "wo_type_description                        \n",
       "Corrective COR       2009-03-07  2015-11-12\n",
       "Preventive PM        2012-05-16  2015-04-27"
      ]
     },
     "execution_count": 55,
     "metadata": {},
     "output_type": "execute_result"
    }
   ],
   "source": [
    "#Earliest and latest problem reported dates for records in 'wo_type_description' group.\n",
    "df_main.groupby('wo_type_description').problem_reported.agg(['min','max'])"
   ]
  },
  {
   "cell_type": "code",
   "execution_count": 56,
   "id": "chronic-longer",
   "metadata": {},
   "outputs": [
    {
     "data": {
      "text/html": [
       "<div>\n",
       "<style scoped>\n",
       "    .dataframe tbody tr th:only-of-type {\n",
       "        vertical-align: middle;\n",
       "    }\n",
       "\n",
       "    .dataframe tbody tr th {\n",
       "        vertical-align: top;\n",
       "    }\n",
       "\n",
       "    .dataframe thead th {\n",
       "        text-align: right;\n",
       "    }\n",
       "</style>\n",
       "<table border=\"1\" class=\"dataframe\">\n",
       "  <thead>\n",
       "    <tr style=\"text-align: right;\">\n",
       "      <th></th>\n",
       "      <th>min</th>\n",
       "      <th>max</th>\n",
       "    </tr>\n",
       "    <tr>\n",
       "      <th>work_order_priority_description</th>\n",
       "      <th></th>\n",
       "      <th></th>\n",
       "    </tr>\n",
       "  </thead>\n",
       "  <tbody>\n",
       "    <tr>\n",
       "      <th>Bench/Depot Repair</th>\n",
       "      <td>2010-02-16</td>\n",
       "      <td>2015-07-13</td>\n",
       "    </tr>\n",
       "    <tr>\n",
       "      <th>Corrective Maintenance</th>\n",
       "      <td>2009-03-07</td>\n",
       "      <td>2015-11-12</td>\n",
       "    </tr>\n",
       "    <tr>\n",
       "      <th>PMCS</th>\n",
       "      <td>2012-05-16</td>\n",
       "      <td>2015-04-27</td>\n",
       "    </tr>\n",
       "    <tr>\n",
       "      <th>System - Device Degraded</th>\n",
       "      <td>2011-09-12</td>\n",
       "      <td>2015-04-30</td>\n",
       "    </tr>\n",
       "    <tr>\n",
       "      <th>System - Device Down</th>\n",
       "      <td>2012-05-01</td>\n",
       "      <td>2015-04-30</td>\n",
       "    </tr>\n",
       "  </tbody>\n",
       "</table>\n",
       "</div>"
      ],
      "text/plain": [
       "                                        min         max\n",
       "work_order_priority_description                        \n",
       "Bench/Depot Repair               2010-02-16  2015-07-13\n",
       "Corrective Maintenance           2009-03-07  2015-11-12\n",
       "PMCS                             2012-05-16  2015-04-27\n",
       "System - Device Degraded         2011-09-12  2015-04-30\n",
       "System - Device Down             2012-05-01  2015-04-30"
      ]
     },
     "execution_count": 56,
     "metadata": {},
     "output_type": "execute_result"
    }
   ],
   "source": [
    "#Earliest and latest problem reported dates for records in 'work_order_priority_description' group.\n",
    "df_main.groupby('work_order_priority_description').problem_reported.agg(['min','max'])"
   ]
  },
  {
   "cell_type": "markdown",
   "id": "fatty-performer",
   "metadata": {},
   "source": [
    "#### <font color=blue> Step 2 - Generating a view that displays the total parts used by adding 'num_parts_from_storeroom' + 'num_parts_from_po'.</font>"
   ]
  },
  {
   "cell_type": "code",
   "execution_count": 57,
   "id": "extra-conclusion",
   "metadata": {},
   "outputs": [],
   "source": [
    "df_main['total_parts_used'] = df_main['num_parts_from_storeroom'] + df_main['num_parts_from_po']"
   ]
  },
  {
   "cell_type": "code",
   "execution_count": 58,
   "id": "average-valley",
   "metadata": {},
   "outputs": [
    {
     "data": {
      "text/plain": [
       "(84607, 14)"
      ]
     },
     "execution_count": 58,
     "metadata": {},
     "output_type": "execute_result"
    }
   ],
   "source": [
    "#Additional column added with the name 'total_parts_used'\n",
    "df_main.shape"
   ]
  },
  {
   "cell_type": "code",
   "execution_count": 59,
   "id": "muslim-budget",
   "metadata": {},
   "outputs": [
    {
     "data": {
      "text/plain": [
       "array(['CONSUMABLE', 'REPAIRABLE', 'No Parts Issued from Inventory'],\n",
       "      dtype=object)"
      ]
     },
     "execution_count": 59,
     "metadata": {},
     "output_type": "execute_result"
    }
   ],
   "source": [
    "df_main['repair_part_stocktype'].unique()"
   ]
  },
  {
   "cell_type": "code",
   "execution_count": 60,
   "id": "cardiac-concrete",
   "metadata": {},
   "outputs": [
    {
     "data": {
      "text/html": [
       "<div>\n",
       "<style scoped>\n",
       "    .dataframe tbody tr th:only-of-type {\n",
       "        vertical-align: middle;\n",
       "    }\n",
       "\n",
       "    .dataframe tbody tr th {\n",
       "        vertical-align: top;\n",
       "    }\n",
       "\n",
       "    .dataframe thead th {\n",
       "        text-align: right;\n",
       "    }\n",
       "</style>\n",
       "<table border=\"1\" class=\"dataframe\">\n",
       "  <thead>\n",
       "    <tr style=\"text-align: right;\">\n",
       "      <th></th>\n",
       "      <th>total_parts_used</th>\n",
       "    </tr>\n",
       "    <tr>\n",
       "      <th>wo_type_description</th>\n",
       "      <th></th>\n",
       "    </tr>\n",
       "  </thead>\n",
       "  <tbody>\n",
       "    <tr>\n",
       "      <th>Corrective COR</th>\n",
       "      <td>277942.0</td>\n",
       "    </tr>\n",
       "    <tr>\n",
       "      <th>Preventive PM</th>\n",
       "      <td>697.0</td>\n",
       "    </tr>\n",
       "  </tbody>\n",
       "</table>\n",
       "</div>"
      ],
      "text/plain": [
       "                     total_parts_used\n",
       "wo_type_description                  \n",
       "Corrective COR               277942.0\n",
       "Preventive PM                   697.0"
      ]
     },
     "execution_count": 60,
     "metadata": {},
     "output_type": "execute_result"
    }
   ],
   "source": [
    "df_main.groupby(['wo_type_description']).total_parts_used.sum().to_frame()"
   ]
  },
  {
   "cell_type": "markdown",
   "id": "outstanding-silicon",
   "metadata": {},
   "source": [
    "<font color = green> Additional Request for Milestone 1 added.</font>"
   ]
  },
  {
   "cell_type": "code",
   "execution_count": 61,
   "id": "green-valve",
   "metadata": {},
   "outputs": [
    {
     "data": {
      "text/html": [
       "<div>\n",
       "<style scoped>\n",
       "    .dataframe tbody tr th:only-of-type {\n",
       "        vertical-align: middle;\n",
       "    }\n",
       "\n",
       "    .dataframe tbody tr th {\n",
       "        vertical-align: top;\n",
       "    }\n",
       "\n",
       "    .dataframe thead th {\n",
       "        text-align: right;\n",
       "    }\n",
       "</style>\n",
       "<table border=\"1\" class=\"dataframe\">\n",
       "  <thead>\n",
       "    <tr style=\"text-align: right;\">\n",
       "      <th></th>\n",
       "      <th></th>\n",
       "      <th>total_parts_used</th>\n",
       "    </tr>\n",
       "    <tr>\n",
       "      <th>wo_type_description</th>\n",
       "      <th>repair_part_stocktype</th>\n",
       "      <th></th>\n",
       "    </tr>\n",
       "  </thead>\n",
       "  <tbody>\n",
       "    <tr>\n",
       "      <th rowspan=\"3\" valign=\"top\">Corrective COR</th>\n",
       "      <th>CONSUMABLE</th>\n",
       "      <td>257620.0</td>\n",
       "    </tr>\n",
       "    <tr>\n",
       "      <th>No Parts Issued from Inventory</th>\n",
       "      <td>1358.0</td>\n",
       "    </tr>\n",
       "    <tr>\n",
       "      <th>REPAIRABLE</th>\n",
       "      <td>18964.0</td>\n",
       "    </tr>\n",
       "    <tr>\n",
       "      <th rowspan=\"2\" valign=\"top\">Preventive PM</th>\n",
       "      <th>CONSUMABLE</th>\n",
       "      <td>687.0</td>\n",
       "    </tr>\n",
       "    <tr>\n",
       "      <th>REPAIRABLE</th>\n",
       "      <td>10.0</td>\n",
       "    </tr>\n",
       "  </tbody>\n",
       "</table>\n",
       "</div>"
      ],
      "text/plain": [
       "                                                    total_parts_used\n",
       "wo_type_description repair_part_stocktype                           \n",
       "Corrective COR      CONSUMABLE                              257620.0\n",
       "                    No Parts Issued from Inventory            1358.0\n",
       "                    REPAIRABLE                               18964.0\n",
       "Preventive PM       CONSUMABLE                                 687.0\n",
       "                    REPAIRABLE                                  10.0"
      ]
     },
     "execution_count": 61,
     "metadata": {},
     "output_type": "execute_result"
    }
   ],
   "source": [
    "df_main.groupby(['wo_type_description','repair_part_stocktype']).total_parts_used.sum().to_frame()"
   ]
  },
  {
   "cell_type": "code",
   "execution_count": 62,
   "id": "acoustic-adult",
   "metadata": {},
   "outputs": [
    {
     "data": {
      "text/html": [
       "<div>\n",
       "<style scoped>\n",
       "    .dataframe tbody tr th:only-of-type {\n",
       "        vertical-align: middle;\n",
       "    }\n",
       "\n",
       "    .dataframe tbody tr th {\n",
       "        vertical-align: top;\n",
       "    }\n",
       "\n",
       "    .dataframe thead th {\n",
       "        text-align: right;\n",
       "    }\n",
       "</style>\n",
       "<table border=\"1\" class=\"dataframe\">\n",
       "  <thead>\n",
       "    <tr style=\"text-align: right;\">\n",
       "      <th></th>\n",
       "      <th>total_parts_used</th>\n",
       "    </tr>\n",
       "    <tr>\n",
       "      <th>work_order_priority_description</th>\n",
       "      <th></th>\n",
       "    </tr>\n",
       "  </thead>\n",
       "  <tbody>\n",
       "    <tr>\n",
       "      <th>Bench/Depot Repair</th>\n",
       "      <td>163057.0</td>\n",
       "    </tr>\n",
       "    <tr>\n",
       "      <th>Corrective Maintenance</th>\n",
       "      <td>112150.0</td>\n",
       "    </tr>\n",
       "    <tr>\n",
       "      <th>PMCS</th>\n",
       "      <td>889.0</td>\n",
       "    </tr>\n",
       "    <tr>\n",
       "      <th>System - Device Degraded</th>\n",
       "      <td>709.0</td>\n",
       "    </tr>\n",
       "    <tr>\n",
       "      <th>System - Device Down</th>\n",
       "      <td>1834.0</td>\n",
       "    </tr>\n",
       "  </tbody>\n",
       "</table>\n",
       "</div>"
      ],
      "text/plain": [
       "                                 total_parts_used\n",
       "work_order_priority_description                  \n",
       "Bench/Depot Repair                       163057.0\n",
       "Corrective Maintenance                   112150.0\n",
       "PMCS                                        889.0\n",
       "System - Device Degraded                    709.0\n",
       "System - Device Down                       1834.0"
      ]
     },
     "execution_count": 62,
     "metadata": {},
     "output_type": "execute_result"
    }
   ],
   "source": [
    "df_main.groupby('work_order_priority_description').total_parts_used.sum().to_frame()"
   ]
  },
  {
   "cell_type": "markdown",
   "id": "labeled-milton",
   "metadata": {},
   "source": [
    "<font color = green> Additional Request for Milestone 1 added.</font>"
   ]
  },
  {
   "cell_type": "code",
   "execution_count": 63,
   "id": "vulnerable-publication",
   "metadata": {},
   "outputs": [
    {
     "data": {
      "text/html": [
       "<div>\n",
       "<style scoped>\n",
       "    .dataframe tbody tr th:only-of-type {\n",
       "        vertical-align: middle;\n",
       "    }\n",
       "\n",
       "    .dataframe tbody tr th {\n",
       "        vertical-align: top;\n",
       "    }\n",
       "\n",
       "    .dataframe thead th {\n",
       "        text-align: right;\n",
       "    }\n",
       "</style>\n",
       "<table border=\"1\" class=\"dataframe\">\n",
       "  <thead>\n",
       "    <tr style=\"text-align: right;\">\n",
       "      <th></th>\n",
       "      <th></th>\n",
       "      <th>total_parts_used</th>\n",
       "    </tr>\n",
       "    <tr>\n",
       "      <th>work_order_priority_description</th>\n",
       "      <th>repair_part_stocktype</th>\n",
       "      <th></th>\n",
       "    </tr>\n",
       "  </thead>\n",
       "  <tbody>\n",
       "    <tr>\n",
       "      <th rowspan=\"3\" valign=\"top\">Bench/Depot Repair</th>\n",
       "      <th>CONSUMABLE</th>\n",
       "      <td>155093.0</td>\n",
       "    </tr>\n",
       "    <tr>\n",
       "      <th>No Parts Issued from Inventory</th>\n",
       "      <td>1266.0</td>\n",
       "    </tr>\n",
       "    <tr>\n",
       "      <th>REPAIRABLE</th>\n",
       "      <td>6698.0</td>\n",
       "    </tr>\n",
       "    <tr>\n",
       "      <th rowspan=\"3\" valign=\"top\">Corrective Maintenance</th>\n",
       "      <th>CONSUMABLE</th>\n",
       "      <td>100496.0</td>\n",
       "    </tr>\n",
       "    <tr>\n",
       "      <th>No Parts Issued from Inventory</th>\n",
       "      <td>86.0</td>\n",
       "    </tr>\n",
       "    <tr>\n",
       "      <th>REPAIRABLE</th>\n",
       "      <td>11568.0</td>\n",
       "    </tr>\n",
       "    <tr>\n",
       "      <th rowspan=\"3\" valign=\"top\">PMCS</th>\n",
       "      <th>CONSUMABLE</th>\n",
       "      <td>854.0</td>\n",
       "    </tr>\n",
       "    <tr>\n",
       "      <th>No Parts Issued from Inventory</th>\n",
       "      <td>4.0</td>\n",
       "    </tr>\n",
       "    <tr>\n",
       "      <th>REPAIRABLE</th>\n",
       "      <td>31.0</td>\n",
       "    </tr>\n",
       "    <tr>\n",
       "      <th rowspan=\"3\" valign=\"top\">System - Device Degraded</th>\n",
       "      <th>CONSUMABLE</th>\n",
       "      <td>512.0</td>\n",
       "    </tr>\n",
       "    <tr>\n",
       "      <th>No Parts Issued from Inventory</th>\n",
       "      <td>2.0</td>\n",
       "    </tr>\n",
       "    <tr>\n",
       "      <th>REPAIRABLE</th>\n",
       "      <td>195.0</td>\n",
       "    </tr>\n",
       "    <tr>\n",
       "      <th rowspan=\"2\" valign=\"top\">System - Device Down</th>\n",
       "      <th>CONSUMABLE</th>\n",
       "      <td>1352.0</td>\n",
       "    </tr>\n",
       "    <tr>\n",
       "      <th>REPAIRABLE</th>\n",
       "      <td>482.0</td>\n",
       "    </tr>\n",
       "  </tbody>\n",
       "</table>\n",
       "</div>"
      ],
      "text/plain": [
       "                                                                total_parts_used\n",
       "work_order_priority_description repair_part_stocktype                           \n",
       "Bench/Depot Repair              CONSUMABLE                              155093.0\n",
       "                                No Parts Issued from Inventory            1266.0\n",
       "                                REPAIRABLE                                6698.0\n",
       "Corrective Maintenance          CONSUMABLE                              100496.0\n",
       "                                No Parts Issued from Inventory              86.0\n",
       "                                REPAIRABLE                               11568.0\n",
       "PMCS                            CONSUMABLE                                 854.0\n",
       "                                No Parts Issued from Inventory               4.0\n",
       "                                REPAIRABLE                                  31.0\n",
       "System - Device Degraded        CONSUMABLE                                 512.0\n",
       "                                No Parts Issued from Inventory               2.0\n",
       "                                REPAIRABLE                                 195.0\n",
       "System - Device Down            CONSUMABLE                                1352.0\n",
       "                                REPAIRABLE                                 482.0"
      ]
     },
     "execution_count": 63,
     "metadata": {},
     "output_type": "execute_result"
    }
   ],
   "source": [
    "df_main.groupby(['work_order_priority_description','repair_part_stocktype']).total_parts_used.sum().to_frame()"
   ]
  },
  {
   "cell_type": "markdown",
   "id": "fifth-exercise",
   "metadata": {},
   "source": [
    "#### <font color=blue> Step 3 - Generating a view that displays the count of different parts used by distinct 'repair_part_number'.</font>"
   ]
  },
  {
   "cell_type": "code",
   "execution_count": 64,
   "id": "material-moderator",
   "metadata": {},
   "outputs": [],
   "source": [
    "pd.set_option('display.max_rows',10)"
   ]
  },
  {
   "cell_type": "code",
   "execution_count": 65,
   "id": "naughty-comparative",
   "metadata": {},
   "outputs": [
    {
     "data": {
      "text/html": [
       "<div>\n",
       "<style scoped>\n",
       "    .dataframe tbody tr th:only-of-type {\n",
       "        vertical-align: middle;\n",
       "    }\n",
       "\n",
       "    .dataframe tbody tr th {\n",
       "        vertical-align: top;\n",
       "    }\n",
       "\n",
       "    .dataframe thead th {\n",
       "        text-align: right;\n",
       "    }\n",
       "</style>\n",
       "<table border=\"1\" class=\"dataframe\">\n",
       "  <thead>\n",
       "    <tr style=\"text-align: right;\">\n",
       "      <th></th>\n",
       "      <th></th>\n",
       "      <th>repair_part_number</th>\n",
       "    </tr>\n",
       "    <tr>\n",
       "      <th>wo_type_description</th>\n",
       "      <th>repair_part_number</th>\n",
       "      <th></th>\n",
       "    </tr>\n",
       "  </thead>\n",
       "  <tbody>\n",
       "    <tr>\n",
       "      <th rowspan=\"5\" valign=\"top\">Corrective COR</th>\n",
       "      <th>924013066</th>\n",
       "      <td>6447</td>\n",
       "    </tr>\n",
       "    <tr>\n",
       "      <th>1021502</th>\n",
       "      <td>3536</td>\n",
       "    </tr>\n",
       "    <tr>\n",
       "      <th>91253A104</th>\n",
       "      <td>3061</td>\n",
       "    </tr>\n",
       "    <tr>\n",
       "      <th>921342660</th>\n",
       "      <td>1857</td>\n",
       "    </tr>\n",
       "    <tr>\n",
       "      <th>93135A076</th>\n",
       "      <td>1667</td>\n",
       "    </tr>\n",
       "    <tr>\n",
       "      <th>...</th>\n",
       "      <th>...</th>\n",
       "      <td>...</td>\n",
       "    </tr>\n",
       "    <tr>\n",
       "      <th rowspan=\"5\" valign=\"top\">Preventive PM</th>\n",
       "      <th>GMA-15A</th>\n",
       "      <td>1</td>\n",
       "    </tr>\n",
       "    <tr>\n",
       "      <th>KQ2H16-03S</th>\n",
       "      <td>1</td>\n",
       "    </tr>\n",
       "    <tr>\n",
       "      <th>KQ2H16-UO3</th>\n",
       "      <td>1</td>\n",
       "    </tr>\n",
       "    <tr>\n",
       "      <th>LRA911-CR-B/250N</th>\n",
       "      <td>1</td>\n",
       "    </tr>\n",
       "    <tr>\n",
       "      <th>M23053/5-108-0</th>\n",
       "      <td>1</td>\n",
       "    </tr>\n",
       "  </tbody>\n",
       "</table>\n",
       "<p>2575 rows × 1 columns</p>\n",
       "</div>"
      ],
      "text/plain": [
       "                                        repair_part_number\n",
       "wo_type_description repair_part_number                    \n",
       "Corrective COR      924013066                         6447\n",
       "                    1021502                           3536\n",
       "                    91253A104                         3061\n",
       "                    921342660                         1857\n",
       "                    93135A076                         1667\n",
       "...                                                    ...\n",
       "Preventive PM       GMA-15A                              1\n",
       "                    KQ2H16-03S                           1\n",
       "                    KQ2H16-UO3                           1\n",
       "                    LRA911-CR-B/250N                     1\n",
       "                    M23053/5-108-0                       1\n",
       "\n",
       "[2575 rows x 1 columns]"
      ]
     },
     "execution_count": 65,
     "metadata": {},
     "output_type": "execute_result"
    }
   ],
   "source": [
    "df_main.groupby('wo_type_description').repair_part_number.value_counts().to_frame()"
   ]
  },
  {
   "cell_type": "code",
   "execution_count": 66,
   "id": "convinced-directory",
   "metadata": {},
   "outputs": [
    {
     "data": {
      "text/html": [
       "<div>\n",
       "<style scoped>\n",
       "    .dataframe tbody tr th:only-of-type {\n",
       "        vertical-align: middle;\n",
       "    }\n",
       "\n",
       "    .dataframe tbody tr th {\n",
       "        vertical-align: top;\n",
       "    }\n",
       "\n",
       "    .dataframe thead th {\n",
       "        text-align: right;\n",
       "    }\n",
       "</style>\n",
       "<table border=\"1\" class=\"dataframe\">\n",
       "  <thead>\n",
       "    <tr style=\"text-align: right;\">\n",
       "      <th></th>\n",
       "      <th></th>\n",
       "      <th>repair_part_number</th>\n",
       "    </tr>\n",
       "    <tr>\n",
       "      <th>work_order_priority_description</th>\n",
       "      <th>repair_part_number</th>\n",
       "      <th></th>\n",
       "    </tr>\n",
       "  </thead>\n",
       "  <tbody>\n",
       "    <tr>\n",
       "      <th rowspan=\"5\" valign=\"top\">Bench/Depot Repair</th>\n",
       "      <th>924013066</th>\n",
       "      <td>2409</td>\n",
       "    </tr>\n",
       "    <tr>\n",
       "      <th>91253A104</th>\n",
       "      <td>1343</td>\n",
       "    </tr>\n",
       "    <tr>\n",
       "      <th>95647A111</th>\n",
       "      <td>1040</td>\n",
       "    </tr>\n",
       "    <tr>\n",
       "      <th>1021502</th>\n",
       "      <td>891</td>\n",
       "    </tr>\n",
       "    <tr>\n",
       "      <th>93135A076</th>\n",
       "      <td>717</td>\n",
       "    </tr>\n",
       "    <tr>\n",
       "      <th>...</th>\n",
       "      <th>...</th>\n",
       "      <td>...</td>\n",
       "    </tr>\n",
       "    <tr>\n",
       "      <th rowspan=\"5\" valign=\"top\">System - Device Down</th>\n",
       "      <th>MS3367-4-9</th>\n",
       "      <td>1</td>\n",
       "    </tr>\n",
       "    <tr>\n",
       "      <th>PS2-MOUSE</th>\n",
       "      <td>1</td>\n",
       "    </tr>\n",
       "    <tr>\n",
       "      <th>R724075</th>\n",
       "      <td>1</td>\n",
       "    </tr>\n",
       "    <tr>\n",
       "      <th>R9010344</th>\n",
       "      <td>1</td>\n",
       "    </tr>\n",
       "    <tr>\n",
       "      <th>R9023011</th>\n",
       "      <td>1</td>\n",
       "    </tr>\n",
       "  </tbody>\n",
       "</table>\n",
       "<p>3594 rows × 1 columns</p>\n",
       "</div>"
      ],
      "text/plain": [
       "                                                    repair_part_number\n",
       "work_order_priority_description repair_part_number                    \n",
       "Bench/Depot Repair              924013066                         2409\n",
       "                                91253A104                         1343\n",
       "                                95647A111                         1040\n",
       "                                1021502                            891\n",
       "                                93135A076                          717\n",
       "...                                                                ...\n",
       "System - Device Down            MS3367-4-9                           1\n",
       "                                PS2-MOUSE                            1\n",
       "                                R724075                              1\n",
       "                                R9010344                             1\n",
       "                                R9023011                             1\n",
       "\n",
       "[3594 rows x 1 columns]"
      ]
     },
     "execution_count": 66,
     "metadata": {},
     "output_type": "execute_result"
    }
   ],
   "source": [
    "df_main.groupby('work_order_priority_description').repair_part_number.value_counts().to_frame()"
   ]
  },
  {
   "cell_type": "markdown",
   "id": "departmental-router",
   "metadata": {},
   "source": [
    "## <font color=dark red> Data Preparation  </font>"
   ]
  },
  {
   "cell_type": "markdown",
   "id": "noticed-simon",
   "metadata": {},
   "source": [
    "#### <font color=blue> Step 1 - Creating 4 new columns for Demand Interval. Abbreviate to DI-COR, DI-PM, DI-NMC, DI-PMC</font>"
   ]
  },
  {
   "cell_type": "code",
   "execution_count": 67,
   "id": "afraid-explanation",
   "metadata": {},
   "outputs": [
    {
     "data": {
      "text/html": [
       "<div>\n",
       "<style scoped>\n",
       "    .dataframe tbody tr th:only-of-type {\n",
       "        vertical-align: middle;\n",
       "    }\n",
       "\n",
       "    .dataframe tbody tr th {\n",
       "        vertical-align: top;\n",
       "    }\n",
       "\n",
       "    .dataframe thead th {\n",
       "        text-align: right;\n",
       "    }\n",
       "</style>\n",
       "<table border=\"1\" class=\"dataframe\">\n",
       "  <thead>\n",
       "    <tr style=\"text-align: right;\">\n",
       "      <th></th>\n",
       "      <th>device_number</th>\n",
       "      <th>device_description</th>\n",
       "      <th>site</th>\n",
       "      <th>work_order_number</th>\n",
       "      <th>work_order_priority_description</th>\n",
       "      <th>wo_type_description</th>\n",
       "      <th>problem_reported</th>\n",
       "      <th>lot_year</th>\n",
       "      <th>num_parts_from_storeroom</th>\n",
       "      <th>num_parts_from_po</th>\n",
       "      <th>repair_part_number</th>\n",
       "      <th>repair_part_name</th>\n",
       "      <th>repair_part_stocktype</th>\n",
       "      <th>total_parts_used</th>\n",
       "    </tr>\n",
       "  </thead>\n",
       "  <tbody>\n",
       "    <tr>\n",
       "      <th>3</th>\n",
       "      <td>07-129</td>\n",
       "      <td>Engagement Skills Trainer (EST) 2000</td>\n",
       "      <td>Ft Leonard Wood, MO</td>\n",
       "      <td>6425405</td>\n",
       "      <td>Corrective Maintenance</td>\n",
       "      <td>Corrective COR</td>\n",
       "      <td>2014-08-19</td>\n",
       "      <td>6.0</td>\n",
       "      <td>2.0</td>\n",
       "      <td>0.0</td>\n",
       "      <td>93135A076</td>\n",
       "      <td>SCREW, NYLON MOUNTING, SENSOR BOARD (CUBIC) M1...</td>\n",
       "      <td>CONSUMABLE</td>\n",
       "      <td>2.0</td>\n",
       "    </tr>\n",
       "    <tr>\n",
       "      <th>4</th>\n",
       "      <td>07-129</td>\n",
       "      <td>Engagement Skills Trainer (EST) 2000</td>\n",
       "      <td>Ft Leonard Wood, MO</td>\n",
       "      <td>6425405</td>\n",
       "      <td>Corrective Maintenance</td>\n",
       "      <td>Corrective COR</td>\n",
       "      <td>2014-08-19</td>\n",
       "      <td>6.0</td>\n",
       "      <td>2.0</td>\n",
       "      <td>0.0</td>\n",
       "      <td>924013066</td>\n",
       "      <td>BOARD,  SENSOR , M4 / M16 ,  CUBIC</td>\n",
       "      <td>REPAIRABLE</td>\n",
       "      <td>2.0</td>\n",
       "    </tr>\n",
       "    <tr>\n",
       "      <th>5</th>\n",
       "      <td>07-129</td>\n",
       "      <td>Engagement Skills Trainer (EST) 2000</td>\n",
       "      <td>Ft Leonard Wood, MO</td>\n",
       "      <td>6425405</td>\n",
       "      <td>Corrective Maintenance</td>\n",
       "      <td>Corrective COR</td>\n",
       "      <td>2014-08-19</td>\n",
       "      <td>6.0</td>\n",
       "      <td>2.0</td>\n",
       "      <td>0.0</td>\n",
       "      <td>94812A111</td>\n",
       "      <td>NUT, NYLON, HEX,.086-56UNC-2B (0400256HN), MCM...</td>\n",
       "      <td>CONSUMABLE</td>\n",
       "      <td>2.0</td>\n",
       "    </tr>\n",
       "    <tr>\n",
       "      <th>6</th>\n",
       "      <td>07-129</td>\n",
       "      <td>Engagement Skills Trainer (EST) 2000</td>\n",
       "      <td>Ft Leonard Wood, MO</td>\n",
       "      <td>6425405</td>\n",
       "      <td>Corrective Maintenance</td>\n",
       "      <td>Corrective COR</td>\n",
       "      <td>2014-08-19</td>\n",
       "      <td>6.0</td>\n",
       "      <td>1.0</td>\n",
       "      <td>0.0</td>\n",
       "      <td>6002ST</td>\n",
       "      <td>TAG, SHOE / REPAIR (102 TAGS)</td>\n",
       "      <td>CONSUMABLE</td>\n",
       "      <td>1.0</td>\n",
       "    </tr>\n",
       "    <tr>\n",
       "      <th>7</th>\n",
       "      <td>07-129</td>\n",
       "      <td>Engagement Skills Trainer (EST) 2000</td>\n",
       "      <td>Ft Dix, NJ</td>\n",
       "      <td>6480767</td>\n",
       "      <td>Corrective Maintenance</td>\n",
       "      <td>Corrective COR</td>\n",
       "      <td>2014-09-19</td>\n",
       "      <td>6.0</td>\n",
       "      <td>1.0</td>\n",
       "      <td>0.0</td>\n",
       "      <td>921341194</td>\n",
       "      <td>SELECTOR ASSY, CUBIC</td>\n",
       "      <td>CONSUMABLE</td>\n",
       "      <td>1.0</td>\n",
       "    </tr>\n",
       "    <tr>\n",
       "      <th>...</th>\n",
       "      <td>...</td>\n",
       "      <td>...</td>\n",
       "      <td>...</td>\n",
       "      <td>...</td>\n",
       "      <td>...</td>\n",
       "      <td>...</td>\n",
       "      <td>...</td>\n",
       "      <td>...</td>\n",
       "      <td>...</td>\n",
       "      <td>...</td>\n",
       "      <td>...</td>\n",
       "      <td>...</td>\n",
       "      <td>...</td>\n",
       "      <td>...</td>\n",
       "    </tr>\n",
       "    <tr>\n",
       "      <th>109573</th>\n",
       "      <td>07-129</td>\n",
       "      <td>Engagement Skills Trainer (EST) 2000</td>\n",
       "      <td>Warfighter Support Center</td>\n",
       "      <td>6668843</td>\n",
       "      <td>Bench/Depot Repair</td>\n",
       "      <td>Corrective COR</td>\n",
       "      <td>2015-05-01</td>\n",
       "      <td>6.0</td>\n",
       "      <td>6.0</td>\n",
       "      <td>0.0</td>\n",
       "      <td>APSC6R3ETD152MJB5S</td>\n",
       "      <td>CAPACITOR, ALUMINUM ORGANIC POLYMER, 1500 UF 6...</td>\n",
       "      <td>CONSUMABLE</td>\n",
       "      <td>6.0</td>\n",
       "    </tr>\n",
       "    <tr>\n",
       "      <th>109574</th>\n",
       "      <td>07-129</td>\n",
       "      <td>Engagement Skills Trainer (EST) 2000</td>\n",
       "      <td>Warfighter Support Center</td>\n",
       "      <td>6668843</td>\n",
       "      <td>Bench/Depot Repair</td>\n",
       "      <td>Corrective COR</td>\n",
       "      <td>2015-05-01</td>\n",
       "      <td>6.0</td>\n",
       "      <td>8.0</td>\n",
       "      <td>0.0</td>\n",
       "      <td>28301</td>\n",
       "      <td>SCREW, 6-32X3/8 IN. PHILLIPS FLATHEAD MACHINE,...</td>\n",
       "      <td>CONSUMABLE</td>\n",
       "      <td>8.0</td>\n",
       "    </tr>\n",
       "    <tr>\n",
       "      <th>109578</th>\n",
       "      <td>07-129</td>\n",
       "      <td>Engagement Skills Trainer (EST) 2000</td>\n",
       "      <td>Warfighter Support Center</td>\n",
       "      <td>DR6560719</td>\n",
       "      <td>Bench/Depot Repair</td>\n",
       "      <td>Corrective COR</td>\n",
       "      <td>2014-12-19</td>\n",
       "      <td>6.0</td>\n",
       "      <td>1.0</td>\n",
       "      <td>0.0</td>\n",
       "      <td>KA10F09</td>\n",
       "      <td>FILTER, COALESCING (FILTER ONLY), JUN-AIR</td>\n",
       "      <td>CONSUMABLE</td>\n",
       "      <td>1.0</td>\n",
       "    </tr>\n",
       "    <tr>\n",
       "      <th>109579</th>\n",
       "      <td>07-129</td>\n",
       "      <td>Engagement Skills Trainer (EST) 2000</td>\n",
       "      <td>Warfighter Support Center</td>\n",
       "      <td>DR6560719</td>\n",
       "      <td>Bench/Depot Repair</td>\n",
       "      <td>Corrective COR</td>\n",
       "      <td>2014-12-19</td>\n",
       "      <td>6.0</td>\n",
       "      <td>1.0</td>\n",
       "      <td>0.0</td>\n",
       "      <td>201112</td>\n",
       "      <td>CONNECTOR, T-JOINT , GRAINGER</td>\n",
       "      <td>CONSUMABLE</td>\n",
       "      <td>1.0</td>\n",
       "    </tr>\n",
       "    <tr>\n",
       "      <th>109580</th>\n",
       "      <td>07-129</td>\n",
       "      <td>Engagement Skills Trainer (EST) 2000</td>\n",
       "      <td>Warfighter Support Center</td>\n",
       "      <td>DR6560719</td>\n",
       "      <td>Bench/Depot Repair</td>\n",
       "      <td>Corrective COR</td>\n",
       "      <td>2014-12-19</td>\n",
       "      <td>6.0</td>\n",
       "      <td>3.0</td>\n",
       "      <td>0.0</td>\n",
       "      <td>70MDD</td>\n",
       "      <td>GAUGE , AIR COMPRESSOR, Y-PACK, JUN-AIR</td>\n",
       "      <td>CONSUMABLE</td>\n",
       "      <td>3.0</td>\n",
       "    </tr>\n",
       "  </tbody>\n",
       "</table>\n",
       "<p>84607 rows × 14 columns</p>\n",
       "</div>"
      ],
      "text/plain": [
       "       device_number                    device_description  \\\n",
       "3             07-129  Engagement Skills Trainer (EST) 2000   \n",
       "4             07-129  Engagement Skills Trainer (EST) 2000   \n",
       "5             07-129  Engagement Skills Trainer (EST) 2000   \n",
       "6             07-129  Engagement Skills Trainer (EST) 2000   \n",
       "7             07-129  Engagement Skills Trainer (EST) 2000   \n",
       "...              ...                                   ...   \n",
       "109573        07-129  Engagement Skills Trainer (EST) 2000   \n",
       "109574        07-129  Engagement Skills Trainer (EST) 2000   \n",
       "109578        07-129  Engagement Skills Trainer (EST) 2000   \n",
       "109579        07-129  Engagement Skills Trainer (EST) 2000   \n",
       "109580        07-129  Engagement Skills Trainer (EST) 2000   \n",
       "\n",
       "                             site work_order_number  \\\n",
       "3             Ft Leonard Wood, MO           6425405   \n",
       "4             Ft Leonard Wood, MO           6425405   \n",
       "5             Ft Leonard Wood, MO           6425405   \n",
       "6             Ft Leonard Wood, MO           6425405   \n",
       "7                      Ft Dix, NJ           6480767   \n",
       "...                           ...               ...   \n",
       "109573  Warfighter Support Center           6668843   \n",
       "109574  Warfighter Support Center           6668843   \n",
       "109578  Warfighter Support Center         DR6560719   \n",
       "109579  Warfighter Support Center         DR6560719   \n",
       "109580  Warfighter Support Center         DR6560719   \n",
       "\n",
       "       work_order_priority_description wo_type_description problem_reported  \\\n",
       "3               Corrective Maintenance      Corrective COR       2014-08-19   \n",
       "4               Corrective Maintenance      Corrective COR       2014-08-19   \n",
       "5               Corrective Maintenance      Corrective COR       2014-08-19   \n",
       "6               Corrective Maintenance      Corrective COR       2014-08-19   \n",
       "7               Corrective Maintenance      Corrective COR       2014-09-19   \n",
       "...                                ...                 ...              ...   \n",
       "109573              Bench/Depot Repair      Corrective COR       2015-05-01   \n",
       "109574              Bench/Depot Repair      Corrective COR       2015-05-01   \n",
       "109578              Bench/Depot Repair      Corrective COR       2014-12-19   \n",
       "109579              Bench/Depot Repair      Corrective COR       2014-12-19   \n",
       "109580              Bench/Depot Repair      Corrective COR       2014-12-19   \n",
       "\n",
       "        lot_year  num_parts_from_storeroom  num_parts_from_po  \\\n",
       "3            6.0                       2.0                0.0   \n",
       "4            6.0                       2.0                0.0   \n",
       "5            6.0                       2.0                0.0   \n",
       "6            6.0                       1.0                0.0   \n",
       "7            6.0                       1.0                0.0   \n",
       "...          ...                       ...                ...   \n",
       "109573       6.0                       6.0                0.0   \n",
       "109574       6.0                       8.0                0.0   \n",
       "109578       6.0                       1.0                0.0   \n",
       "109579       6.0                       1.0                0.0   \n",
       "109580       6.0                       3.0                0.0   \n",
       "\n",
       "        repair_part_number                                   repair_part_name  \\\n",
       "3                93135A076  SCREW, NYLON MOUNTING, SENSOR BOARD (CUBIC) M1...   \n",
       "4                924013066                 BOARD,  SENSOR , M4 / M16 ,  CUBIC   \n",
       "5                94812A111  NUT, NYLON, HEX,.086-56UNC-2B (0400256HN), MCM...   \n",
       "6                   6002ST                      TAG, SHOE / REPAIR (102 TAGS)   \n",
       "7                921341194                               SELECTOR ASSY, CUBIC   \n",
       "...                    ...                                                ...   \n",
       "109573  APSC6R3ETD152MJB5S  CAPACITOR, ALUMINUM ORGANIC POLYMER, 1500 UF 6...   \n",
       "109574               28301  SCREW, 6-32X3/8 IN. PHILLIPS FLATHEAD MACHINE,...   \n",
       "109578             KA10F09          FILTER, COALESCING (FILTER ONLY), JUN-AIR   \n",
       "109579              201112                      CONNECTOR, T-JOINT , GRAINGER   \n",
       "109580               70MDD            GAUGE , AIR COMPRESSOR, Y-PACK, JUN-AIR   \n",
       "\n",
       "       repair_part_stocktype  total_parts_used  \n",
       "3                 CONSUMABLE               2.0  \n",
       "4                 REPAIRABLE               2.0  \n",
       "5                 CONSUMABLE               2.0  \n",
       "6                 CONSUMABLE               1.0  \n",
       "7                 CONSUMABLE               1.0  \n",
       "...                      ...               ...  \n",
       "109573            CONSUMABLE               6.0  \n",
       "109574            CONSUMABLE               8.0  \n",
       "109578            CONSUMABLE               1.0  \n",
       "109579            CONSUMABLE               1.0  \n",
       "109580            CONSUMABLE               3.0  \n",
       "\n",
       "[84607 rows x 14 columns]"
      ]
     },
     "execution_count": 67,
     "metadata": {},
     "output_type": "execute_result"
    }
   ],
   "source": [
    "df_main"
   ]
  },
  {
   "cell_type": "code",
   "execution_count": 68,
   "id": "developing-burke",
   "metadata": {},
   "outputs": [],
   "source": [
    "# # Lets create separate dataframes for COR, PM, NMC, PMC for convenience and subsequent plotting of Demand Intervals. \n",
    "\n",
    "df_cor = df_main[df_main.wo_type_description.str.contains('Corrective COR')].copy()\n",
    "df_pm = df_main[df_main.wo_type_description.str.contains('Preventive PM')].copy()\n",
    "df_nmc = df_main[df_main.work_order_priority_description.str.contains('System - Device Down')].copy()\n",
    "df_pmc = df_main[df_main.work_order_priority_description.str.contains('System - Device Degraded')].copy()"
   ]
  },
  {
   "cell_type": "markdown",
   "id": "tutorial-parking",
   "metadata": {},
   "source": [
    "#### <font color=blue> Step 2 - Sort by problem_reported.</font>"
   ]
  },
  {
   "cell_type": "code",
   "execution_count": 69,
   "id": "numeric-colleague",
   "metadata": {},
   "outputs": [
    {
     "data": {
      "text/html": [
       "<div>\n",
       "<style scoped>\n",
       "    .dataframe tbody tr th:only-of-type {\n",
       "        vertical-align: middle;\n",
       "    }\n",
       "\n",
       "    .dataframe tbody tr th {\n",
       "        vertical-align: top;\n",
       "    }\n",
       "\n",
       "    .dataframe thead th {\n",
       "        text-align: right;\n",
       "    }\n",
       "</style>\n",
       "<table border=\"1\" class=\"dataframe\">\n",
       "  <thead>\n",
       "    <tr style=\"text-align: right;\">\n",
       "      <th></th>\n",
       "      <th>device_number</th>\n",
       "      <th>device_description</th>\n",
       "      <th>site</th>\n",
       "      <th>work_order_number</th>\n",
       "      <th>work_order_priority_description</th>\n",
       "      <th>wo_type_description</th>\n",
       "      <th>problem_reported</th>\n",
       "      <th>lot_year</th>\n",
       "      <th>num_parts_from_storeroom</th>\n",
       "      <th>num_parts_from_po</th>\n",
       "      <th>repair_part_number</th>\n",
       "      <th>repair_part_name</th>\n",
       "      <th>repair_part_stocktype</th>\n",
       "      <th>total_parts_used</th>\n",
       "    </tr>\n",
       "  </thead>\n",
       "  <tbody>\n",
       "    <tr>\n",
       "      <th>3</th>\n",
       "      <td>07-129</td>\n",
       "      <td>Engagement Skills Trainer (EST) 2000</td>\n",
       "      <td>Ft Leonard Wood, MO</td>\n",
       "      <td>6425405</td>\n",
       "      <td>Corrective Maintenance</td>\n",
       "      <td>Corrective COR</td>\n",
       "      <td>2014-08-19</td>\n",
       "      <td>6.0</td>\n",
       "      <td>2.0</td>\n",
       "      <td>0.0</td>\n",
       "      <td>93135A076</td>\n",
       "      <td>SCREW, NYLON MOUNTING, SENSOR BOARD (CUBIC) M1...</td>\n",
       "      <td>CONSUMABLE</td>\n",
       "      <td>2.0</td>\n",
       "    </tr>\n",
       "    <tr>\n",
       "      <th>4</th>\n",
       "      <td>07-129</td>\n",
       "      <td>Engagement Skills Trainer (EST) 2000</td>\n",
       "      <td>Ft Leonard Wood, MO</td>\n",
       "      <td>6425405</td>\n",
       "      <td>Corrective Maintenance</td>\n",
       "      <td>Corrective COR</td>\n",
       "      <td>2014-08-19</td>\n",
       "      <td>6.0</td>\n",
       "      <td>2.0</td>\n",
       "      <td>0.0</td>\n",
       "      <td>924013066</td>\n",
       "      <td>BOARD,  SENSOR , M4 / M16 ,  CUBIC</td>\n",
       "      <td>REPAIRABLE</td>\n",
       "      <td>2.0</td>\n",
       "    </tr>\n",
       "    <tr>\n",
       "      <th>5</th>\n",
       "      <td>07-129</td>\n",
       "      <td>Engagement Skills Trainer (EST) 2000</td>\n",
       "      <td>Ft Leonard Wood, MO</td>\n",
       "      <td>6425405</td>\n",
       "      <td>Corrective Maintenance</td>\n",
       "      <td>Corrective COR</td>\n",
       "      <td>2014-08-19</td>\n",
       "      <td>6.0</td>\n",
       "      <td>2.0</td>\n",
       "      <td>0.0</td>\n",
       "      <td>94812A111</td>\n",
       "      <td>NUT, NYLON, HEX,.086-56UNC-2B (0400256HN), MCM...</td>\n",
       "      <td>CONSUMABLE</td>\n",
       "      <td>2.0</td>\n",
       "    </tr>\n",
       "    <tr>\n",
       "      <th>6</th>\n",
       "      <td>07-129</td>\n",
       "      <td>Engagement Skills Trainer (EST) 2000</td>\n",
       "      <td>Ft Leonard Wood, MO</td>\n",
       "      <td>6425405</td>\n",
       "      <td>Corrective Maintenance</td>\n",
       "      <td>Corrective COR</td>\n",
       "      <td>2014-08-19</td>\n",
       "      <td>6.0</td>\n",
       "      <td>1.0</td>\n",
       "      <td>0.0</td>\n",
       "      <td>6002ST</td>\n",
       "      <td>TAG, SHOE / REPAIR (102 TAGS)</td>\n",
       "      <td>CONSUMABLE</td>\n",
       "      <td>1.0</td>\n",
       "    </tr>\n",
       "    <tr>\n",
       "      <th>7</th>\n",
       "      <td>07-129</td>\n",
       "      <td>Engagement Skills Trainer (EST) 2000</td>\n",
       "      <td>Ft Dix, NJ</td>\n",
       "      <td>6480767</td>\n",
       "      <td>Corrective Maintenance</td>\n",
       "      <td>Corrective COR</td>\n",
       "      <td>2014-09-19</td>\n",
       "      <td>6.0</td>\n",
       "      <td>1.0</td>\n",
       "      <td>0.0</td>\n",
       "      <td>921341194</td>\n",
       "      <td>SELECTOR ASSY, CUBIC</td>\n",
       "      <td>CONSUMABLE</td>\n",
       "      <td>1.0</td>\n",
       "    </tr>\n",
       "    <tr>\n",
       "      <th>...</th>\n",
       "      <td>...</td>\n",
       "      <td>...</td>\n",
       "      <td>...</td>\n",
       "      <td>...</td>\n",
       "      <td>...</td>\n",
       "      <td>...</td>\n",
       "      <td>...</td>\n",
       "      <td>...</td>\n",
       "      <td>...</td>\n",
       "      <td>...</td>\n",
       "      <td>...</td>\n",
       "      <td>...</td>\n",
       "      <td>...</td>\n",
       "      <td>...</td>\n",
       "    </tr>\n",
       "    <tr>\n",
       "      <th>109573</th>\n",
       "      <td>07-129</td>\n",
       "      <td>Engagement Skills Trainer (EST) 2000</td>\n",
       "      <td>Warfighter Support Center</td>\n",
       "      <td>6668843</td>\n",
       "      <td>Bench/Depot Repair</td>\n",
       "      <td>Corrective COR</td>\n",
       "      <td>2015-05-01</td>\n",
       "      <td>6.0</td>\n",
       "      <td>6.0</td>\n",
       "      <td>0.0</td>\n",
       "      <td>APSC6R3ETD152MJB5S</td>\n",
       "      <td>CAPACITOR, ALUMINUM ORGANIC POLYMER, 1500 UF 6...</td>\n",
       "      <td>CONSUMABLE</td>\n",
       "      <td>6.0</td>\n",
       "    </tr>\n",
       "    <tr>\n",
       "      <th>109574</th>\n",
       "      <td>07-129</td>\n",
       "      <td>Engagement Skills Trainer (EST) 2000</td>\n",
       "      <td>Warfighter Support Center</td>\n",
       "      <td>6668843</td>\n",
       "      <td>Bench/Depot Repair</td>\n",
       "      <td>Corrective COR</td>\n",
       "      <td>2015-05-01</td>\n",
       "      <td>6.0</td>\n",
       "      <td>8.0</td>\n",
       "      <td>0.0</td>\n",
       "      <td>28301</td>\n",
       "      <td>SCREW, 6-32X3/8 IN. PHILLIPS FLATHEAD MACHINE,...</td>\n",
       "      <td>CONSUMABLE</td>\n",
       "      <td>8.0</td>\n",
       "    </tr>\n",
       "    <tr>\n",
       "      <th>109578</th>\n",
       "      <td>07-129</td>\n",
       "      <td>Engagement Skills Trainer (EST) 2000</td>\n",
       "      <td>Warfighter Support Center</td>\n",
       "      <td>DR6560719</td>\n",
       "      <td>Bench/Depot Repair</td>\n",
       "      <td>Corrective COR</td>\n",
       "      <td>2014-12-19</td>\n",
       "      <td>6.0</td>\n",
       "      <td>1.0</td>\n",
       "      <td>0.0</td>\n",
       "      <td>KA10F09</td>\n",
       "      <td>FILTER, COALESCING (FILTER ONLY), JUN-AIR</td>\n",
       "      <td>CONSUMABLE</td>\n",
       "      <td>1.0</td>\n",
       "    </tr>\n",
       "    <tr>\n",
       "      <th>109579</th>\n",
       "      <td>07-129</td>\n",
       "      <td>Engagement Skills Trainer (EST) 2000</td>\n",
       "      <td>Warfighter Support Center</td>\n",
       "      <td>DR6560719</td>\n",
       "      <td>Bench/Depot Repair</td>\n",
       "      <td>Corrective COR</td>\n",
       "      <td>2014-12-19</td>\n",
       "      <td>6.0</td>\n",
       "      <td>1.0</td>\n",
       "      <td>0.0</td>\n",
       "      <td>201112</td>\n",
       "      <td>CONNECTOR, T-JOINT , GRAINGER</td>\n",
       "      <td>CONSUMABLE</td>\n",
       "      <td>1.0</td>\n",
       "    </tr>\n",
       "    <tr>\n",
       "      <th>109580</th>\n",
       "      <td>07-129</td>\n",
       "      <td>Engagement Skills Trainer (EST) 2000</td>\n",
       "      <td>Warfighter Support Center</td>\n",
       "      <td>DR6560719</td>\n",
       "      <td>Bench/Depot Repair</td>\n",
       "      <td>Corrective COR</td>\n",
       "      <td>2014-12-19</td>\n",
       "      <td>6.0</td>\n",
       "      <td>3.0</td>\n",
       "      <td>0.0</td>\n",
       "      <td>70MDD</td>\n",
       "      <td>GAUGE , AIR COMPRESSOR, Y-PACK, JUN-AIR</td>\n",
       "      <td>CONSUMABLE</td>\n",
       "      <td>3.0</td>\n",
       "    </tr>\n",
       "  </tbody>\n",
       "</table>\n",
       "<p>84417 rows × 14 columns</p>\n",
       "</div>"
      ],
      "text/plain": [
       "       device_number                    device_description  \\\n",
       "3             07-129  Engagement Skills Trainer (EST) 2000   \n",
       "4             07-129  Engagement Skills Trainer (EST) 2000   \n",
       "5             07-129  Engagement Skills Trainer (EST) 2000   \n",
       "6             07-129  Engagement Skills Trainer (EST) 2000   \n",
       "7             07-129  Engagement Skills Trainer (EST) 2000   \n",
       "...              ...                                   ...   \n",
       "109573        07-129  Engagement Skills Trainer (EST) 2000   \n",
       "109574        07-129  Engagement Skills Trainer (EST) 2000   \n",
       "109578        07-129  Engagement Skills Trainer (EST) 2000   \n",
       "109579        07-129  Engagement Skills Trainer (EST) 2000   \n",
       "109580        07-129  Engagement Skills Trainer (EST) 2000   \n",
       "\n",
       "                             site work_order_number  \\\n",
       "3             Ft Leonard Wood, MO           6425405   \n",
       "4             Ft Leonard Wood, MO           6425405   \n",
       "5             Ft Leonard Wood, MO           6425405   \n",
       "6             Ft Leonard Wood, MO           6425405   \n",
       "7                      Ft Dix, NJ           6480767   \n",
       "...                           ...               ...   \n",
       "109573  Warfighter Support Center           6668843   \n",
       "109574  Warfighter Support Center           6668843   \n",
       "109578  Warfighter Support Center         DR6560719   \n",
       "109579  Warfighter Support Center         DR6560719   \n",
       "109580  Warfighter Support Center         DR6560719   \n",
       "\n",
       "       work_order_priority_description wo_type_description problem_reported  \\\n",
       "3               Corrective Maintenance      Corrective COR       2014-08-19   \n",
       "4               Corrective Maintenance      Corrective COR       2014-08-19   \n",
       "5               Corrective Maintenance      Corrective COR       2014-08-19   \n",
       "6               Corrective Maintenance      Corrective COR       2014-08-19   \n",
       "7               Corrective Maintenance      Corrective COR       2014-09-19   \n",
       "...                                ...                 ...              ...   \n",
       "109573              Bench/Depot Repair      Corrective COR       2015-05-01   \n",
       "109574              Bench/Depot Repair      Corrective COR       2015-05-01   \n",
       "109578              Bench/Depot Repair      Corrective COR       2014-12-19   \n",
       "109579              Bench/Depot Repair      Corrective COR       2014-12-19   \n",
       "109580              Bench/Depot Repair      Corrective COR       2014-12-19   \n",
       "\n",
       "        lot_year  num_parts_from_storeroom  num_parts_from_po  \\\n",
       "3            6.0                       2.0                0.0   \n",
       "4            6.0                       2.0                0.0   \n",
       "5            6.0                       2.0                0.0   \n",
       "6            6.0                       1.0                0.0   \n",
       "7            6.0                       1.0                0.0   \n",
       "...          ...                       ...                ...   \n",
       "109573       6.0                       6.0                0.0   \n",
       "109574       6.0                       8.0                0.0   \n",
       "109578       6.0                       1.0                0.0   \n",
       "109579       6.0                       1.0                0.0   \n",
       "109580       6.0                       3.0                0.0   \n",
       "\n",
       "        repair_part_number                                   repair_part_name  \\\n",
       "3                93135A076  SCREW, NYLON MOUNTING, SENSOR BOARD (CUBIC) M1...   \n",
       "4                924013066                 BOARD,  SENSOR , M4 / M16 ,  CUBIC   \n",
       "5                94812A111  NUT, NYLON, HEX,.086-56UNC-2B (0400256HN), MCM...   \n",
       "6                   6002ST                      TAG, SHOE / REPAIR (102 TAGS)   \n",
       "7                921341194                               SELECTOR ASSY, CUBIC   \n",
       "...                    ...                                                ...   \n",
       "109573  APSC6R3ETD152MJB5S  CAPACITOR, ALUMINUM ORGANIC POLYMER, 1500 UF 6...   \n",
       "109574               28301  SCREW, 6-32X3/8 IN. PHILLIPS FLATHEAD MACHINE,...   \n",
       "109578             KA10F09          FILTER, COALESCING (FILTER ONLY), JUN-AIR   \n",
       "109579              201112                      CONNECTOR, T-JOINT , GRAINGER   \n",
       "109580               70MDD            GAUGE , AIR COMPRESSOR, Y-PACK, JUN-AIR   \n",
       "\n",
       "       repair_part_stocktype  total_parts_used  \n",
       "3                 CONSUMABLE               2.0  \n",
       "4                 REPAIRABLE               2.0  \n",
       "5                 CONSUMABLE               2.0  \n",
       "6                 CONSUMABLE               1.0  \n",
       "7                 CONSUMABLE               1.0  \n",
       "...                      ...               ...  \n",
       "109573            CONSUMABLE               6.0  \n",
       "109574            CONSUMABLE               8.0  \n",
       "109578            CONSUMABLE               1.0  \n",
       "109579            CONSUMABLE               1.0  \n",
       "109580            CONSUMABLE               3.0  \n",
       "\n",
       "[84417 rows x 14 columns]"
      ]
     },
     "execution_count": 69,
     "metadata": {},
     "output_type": "execute_result"
    }
   ],
   "source": [
    "df_cor"
   ]
  },
  {
   "cell_type": "code",
   "execution_count": 70,
   "id": "concrete-winner",
   "metadata": {},
   "outputs": [],
   "source": [
    "df_cor = df_cor.sort_values('problem_reported').copy()\n",
    "df_pm = df_pm.sort_values('problem_reported').copy()\n",
    "df_nmc = df_nmc.sort_values('problem_reported').copy()\n",
    "df_pmc = df_pmc.sort_values('problem_reported').copy()"
   ]
  },
  {
   "cell_type": "markdown",
   "id": "silent-commodity",
   "metadata": {},
   "source": [
    "## <font color=dark red>Exploratory Data Analysis</font>"
   ]
  },
  {
   "cell_type": "markdown",
   "id": "minute-designer",
   "metadata": {},
   "source": [
    "#### <font color=\"blue\">Step 1 - Calculate time interval between problem_reported dates.</font>"
   ]
  },
  {
   "cell_type": "code",
   "execution_count": 71,
   "id": "reasonable-values",
   "metadata": {},
   "outputs": [],
   "source": [
    "# I have named the demand interval columns using lowercase and underscore. \n",
    "# Let me know if you want to change it to what you suggested (DI-COR etc.)"
   ]
  },
  {
   "cell_type": "code",
   "execution_count": 72,
   "id": "missing-fetish",
   "metadata": {},
   "outputs": [],
   "source": [
    "df_cor['demand_interval_cor'] = df_cor['problem_reported'].diff() / np.timedelta64(7, 'D')\n",
    "df_pm['demand_interval_pm'] = df_pm['problem_reported'].diff() / np.timedelta64(7, 'D')\n",
    "df_nmc['demand_interval_nmc'] = df_nmc['problem_reported'].diff() / np.timedelta64(7, 'D')\n",
    "df_pmc['demand_interval_pmc'] = df_pmc['problem_reported'].diff() / np.timedelta64(7, 'D')"
   ]
  },
  {
   "cell_type": "code",
   "execution_count": 73,
   "id": "chinese-shirt",
   "metadata": {},
   "outputs": [
    {
     "data": {
      "text/plain": [
       "(array([        nan, 49.42857143,  0.        , 74.85714286,  7.        ,\n",
       "         2.        ,  0.85714286,  7.71428571,  5.42857143,  0.14285714,\n",
       "         0.42857143,  0.28571429,  1.        ,  2.57142857,  0.57142857,\n",
       "         0.71428571,  1.57142857, 17.42857143]),\n",
       " (84417, 15))"
      ]
     },
     "execution_count": 73,
     "metadata": {},
     "output_type": "execute_result"
    }
   ],
   "source": [
    "df_cor['demand_interval_cor'].unique(), df_cor.shape"
   ]
  },
  {
   "cell_type": "code",
   "execution_count": 74,
   "id": "assisted-gibraltar",
   "metadata": {},
   "outputs": [
    {
     "data": {
      "text/plain": [
       "(array([        nan,  1.28571429,  0.        ,  0.71428571,  1.71428571,\n",
       "         2.57142857,  0.85714286,  0.14285714,  0.28571429,  2.42857143,\n",
       "         2.14285714,  1.        ,  1.14285714,  0.42857143,  0.57142857,\n",
       "         2.        ,  6.71428571,  4.85714286,  2.71428571,  3.57142857,\n",
       "        12.57142857,  3.42857143,  4.57142857,  1.42857143,  5.85714286,\n",
       "         4.14285714,  4.71428571, 13.28571429,  3.71428571,  8.        ,\n",
       "         1.85714286,  6.57142857,  5.        ,  2.28571429]),\n",
       " (190, 15))"
      ]
     },
     "execution_count": 74,
     "metadata": {},
     "output_type": "execute_result"
    }
   ],
   "source": [
    "df_pm['demand_interval_pm'].unique(), df_pm.shape"
   ]
  },
  {
   "cell_type": "code",
   "execution_count": 75,
   "id": "geological-inspector",
   "metadata": {},
   "outputs": [
    {
     "data": {
      "text/plain": [
       "(array([       nan, 0.        , 0.14285714, 0.71428571, 0.28571429,\n",
       "        0.85714286, 0.57142857, 2.14285714, 1.        , 1.28571429,\n",
       "        1.14285714, 0.42857143, 1.71428571, 2.        , 1.42857143,\n",
       "        2.71428571]),\n",
       " (863, 15))"
      ]
     },
     "execution_count": 75,
     "metadata": {},
     "output_type": "execute_result"
    }
   ],
   "source": [
    "df_nmc['demand_interval_nmc'].unique(), df_nmc.shape"
   ]
  },
  {
   "cell_type": "code",
   "execution_count": 76,
   "id": "lasting-telephone",
   "metadata": {},
   "outputs": [
    {
     "data": {
      "text/plain": [
       "(array([        nan, 28.42857143,  4.        ,  0.14285714,  0.        ,\n",
       "         0.57142857,  1.28571429,  0.71428571,  1.14285714,  2.71428571,\n",
       "         0.28571429,  0.42857143,  0.85714286,  2.        ,  1.        ,\n",
       "         1.71428571,  2.14285714,  1.42857143,  2.85714286,  2.42857143,\n",
       "         1.85714286,  3.        ,  2.28571429]),\n",
       " (396, 15))"
      ]
     },
     "execution_count": 76,
     "metadata": {},
     "output_type": "execute_result"
    }
   ],
   "source": [
    "df_pmc['demand_interval_pmc'].unique(), df_pmc.shape"
   ]
  },
  {
   "attachments": {},
   "cell_type": "markdown",
   "id": "worth-sword",
   "metadata": {},
   "source": [
    "#### <font color=\"blue\">Step 2 - Scatter Plot of Interval and Size (Raw Numbers no averages for this plot) </font>"
   ]
  },
  {
   "cell_type": "code",
   "execution_count": 77,
   "id": "south-schedule",
   "metadata": {},
   "outputs": [],
   "source": [
    "sns.set_context(\"poster\")\n"
   ]
  },
  {
   "cell_type": "code",
   "execution_count": 78,
   "id": "fresh-malpractice",
   "metadata": {},
   "outputs": [
    {
     "data": {
      "image/png": "[encoded data removed]",
      "text/plain": [
       "<Figure size 432x288 with 1 Axes>"
      ]
     },
     "metadata": {
      "needs_background": "light"
     },
     "output_type": "display_data"
    }
   ],
   "source": [
    "fig = plt.figure()\n",
    "ax = plt.gca()\n",
    "ax.scatter(df_cor['demand_interval_cor'],df_cor['total_parts_used'], c='aqua',marker='.',edgecolor='k');\n",
    "ax.set_title('Demand Interval Vs Total Parts Used (Corrective COR)',size=18);\n",
    "ax.set_ylabel('Total Number of Parts', fontsize = 16);\n",
    "ax.set_xlabel('Demand Interval in Periods', fontsize = 16);\n",
    "ax.tick_params(direction='out', length=6, width=2, labelsize=11, pad=1.5)\n",
    "# ax.set_xscale('log')\n",
    "# ax.axis(xmin=0,xmax=0.0001)"
   ]
  },
  {
   "cell_type": "code",
   "execution_count": 79,
   "id": "nuclear-paper",
   "metadata": {},
   "outputs": [
    {
     "data": {
      "image/png": "[encoded data removed]",
      "text/plain": [
       "<Figure size 432x288 with 1 Axes>"
      ]
     },
     "metadata": {
      "needs_background": "light"
     },
     "output_type": "display_data"
    }
   ],
   "source": [
    "fig = plt.figure()\n",
    "ax = plt.gca()\n",
    "ax.scatter(df_pm['demand_interval_pm'],df_pm['total_parts_used'], c='orange',marker='.',edgecolor='k')\n",
    "ax.set_title('Demand Interval Vs Total Parts Used (Preventive PM)',size=18);\n",
    "ax.set_ylabel('Total Number of Parts', fontsize = 16);\n",
    "ax.set_xlabel('Demand Interval in Periods', fontsize = 16);\n",
    "ax.tick_params(direction='out', length=6, width=2, labelsize=11, pad=1.5);"
   ]
  },
  {
   "cell_type": "code",
   "execution_count": 80,
   "id": "exceptional-picking",
   "metadata": {},
   "outputs": [
    {
     "data": {
      "image/png": "[encoded data removed]",
      "text/plain": [
       "<Figure size 432x288 with 1 Axes>"
      ]
     },
     "metadata": {
      "needs_background": "light"
     },
     "output_type": "display_data"
    }
   ],
   "source": [
    "fig = plt.figure()\n",
    "ax = plt.gca()\n",
    "ax.scatter(df_nmc['demand_interval_nmc'],df_nmc['total_parts_used'], c='k',marker='.',edgecolor='k')\n",
    "ax.set_title('Demand Interval Vs Total Parts Used (System - Device Down)',size=18);\n",
    "ax.set_ylabel('Total Number of Parts', fontsize = 16);\n",
    "ax.set_xlabel('Demand Interval in Periods', fontsize = 16);\n",
    "ax.tick_params(direction='out', length=6, width=2, labelsize=11, pad=1.5);"
   ]
  },
  {
   "cell_type": "code",
   "execution_count": 81,
   "id": "swedish-floor",
   "metadata": {},
   "outputs": [
    {
     "data": {
      "image/png": "[encoded data removed]",
      "text/plain": [
       "<Figure size 432x288 with 1 Axes>"
      ]
     },
     "metadata": {
      "needs_background": "light"
     },
     "output_type": "display_data"
    }
   ],
   "source": [
    "fig = plt.figure()\n",
    "ax = plt.gca()\n",
    "# ax.set_xscale('log')\n",
    "ax.scatter(df_pmc['demand_interval_pmc'],df_pmc['total_parts_used'], c='lime',marker='.',edgecolor='k')\n",
    "ax.set_title('Demand Interval Vs Total Parts Used (System - Device Degraded)',size=18);\n",
    "ax.set_ylabel('Total Number of Parts', fontsize = 16);\n",
    "ax.set_xlabel('Demand Interval in Periods', fontsize = 16);\n",
    "ax.tick_params(direction='out', length=6, width=2, labelsize=11, pad=1.5);"
   ]
  },
  {
   "attachments": {},
   "cell_type": "markdown",
   "id": "specified-louisiana",
   "metadata": {},
   "source": [
    "#### <font color=\"blue\">Step 3 - Looking for seasonality. </font>"
   ]
  },
  {
   "cell_type": "code",
   "execution_count": 82,
   "id": "promising-excess",
   "metadata": {},
   "outputs": [
    {
     "data": {
      "image/png": "[encoded data removed]",
      "text/plain": [
       "<Figure size 432x288 with 1 Axes>"
      ]
     },
     "metadata": {
      "needs_background": "light"
     },
     "output_type": "display_data"
    }
   ],
   "source": [
    "fig = plt.figure()\n",
    "ax = plt.gca()\n",
    "ax.bar(df_cor['problem_reported'],df_cor['total_parts_used'],color='darkturquoise');\n",
    "ax.set_title('Problem Reported Vs Total Parts Used (Corrective COR)',size=18);\n",
    "ax.set_ylabel('Total Number of Parts (log)', fontsize = 16);\n",
    "ax.set_xlabel('Problem Reported', fontsize = 16);\n",
    "ax.tick_params(direction='out', length=6, width=2, labelsize=8, pad=1.5)\n",
    "ax.set_yscale('log');\n",
    "# plt.scatter(df_cor['problem_reported'],df_cor['demand_interval_cor'])"
   ]
  },
  {
   "cell_type": "code",
   "execution_count": 83,
   "id": "caroline-blame",
   "metadata": {},
   "outputs": [
    {
     "data": {
      "image/png": "[encoded data removed]",
      "text/plain": [
       "<Figure size 432x288 with 1 Axes>"
      ]
     },
     "metadata": {
      "needs_background": "light"
     },
     "output_type": "display_data"
    }
   ],
   "source": [
    "fig = plt.figure()\n",
    "ax = plt.gca()\n",
    "ax.bar(df_pm['problem_reported'],df_pm['total_parts_used'], color='orangered');\n",
    "ax.set_title('Demand Interval Vs Total Parts Used (Preventive PM)',size=18);\n",
    "ax.set_ylabel('Total Number of Parts (log)', fontsize = 16);\n",
    "ax.set_xlabel('Demand Interval in Periods', fontsize = 16);\n",
    "ax.tick_params(direction='out', length=6, width=2, labelsize=8, pad=1.5)\n",
    "ax.set_yscale('log');"
   ]
  },
  {
   "cell_type": "code",
   "execution_count": 84,
   "id": "tropical-glasgow",
   "metadata": {},
   "outputs": [
    {
     "data": {
      "image/png": "[encoded data removed]",
      "text/plain": [
       "<Figure size 432x288 with 1 Axes>"
      ]
     },
     "metadata": {
      "needs_background": "light"
     },
     "output_type": "display_data"
    }
   ],
   "source": [
    "fig = plt.figure()\n",
    "ax = plt.gca()\n",
    "ax.bar(df_nmc['problem_reported'],df_nmc['total_parts_used'], color='k');\n",
    "ax.set_title('Demand Interval Vs Total Parts Used (System - Device Down)',size=18);\n",
    "ax.set_ylabel('Total Number of Parts (log)', fontsize = 16);\n",
    "ax.set_xlabel('Demand Interval in Periods', fontsize = 16);\n",
    "ax.tick_params(direction='out', length=6, width=2, labelsize=8, pad=1.5)\n",
    "ax.set_yscale('log');"
   ]
  },
  {
   "cell_type": "code",
   "execution_count": 85,
   "id": "loaded-chile",
   "metadata": {},
   "outputs": [
    {
     "data": {
      "image/png": "[encoded data removed]",
      "text/plain": [
       "<Figure size 432x288 with 1 Axes>"
      ]
     },
     "metadata": {
      "needs_background": "light"
     },
     "output_type": "display_data"
    }
   ],
   "source": [
    "fig = plt.figure()\n",
    "ax = plt.gca()\n",
    "ax.bar(df_pmc['problem_reported'],df_pmc['total_parts_used'], color='green');\n",
    "ax.set_title('Demand Interval Vs Total Parts Used (System - Device Degraded)',size=18);\n",
    "ax.set_ylabel('Total Number of Parts (log)', fontsize = 16);\n",
    "ax.set_xlabel('Demand Interval in Periods', fontsize = 16);\n",
    "ax.tick_params(direction='out', length=6, width=2, labelsize=8, pad=1.5)\n",
    "ax.set_yscale('log');"
   ]
  },
  {
   "attachments": {},
   "cell_type": "markdown",
   "id": "third-canada",
   "metadata": {},
   "source": [
    "#### <font color=\"blue\">Step 4 - Scatter Plot of ADI vs CV2 by group </font>"
   ]
  },
  {
   "cell_type": "code",
   "execution_count": null,
   "id": "fundamental-williams",
   "metadata": {},
   "outputs": [],
   "source": []
  }
 ],
 "metadata": {
  "kernelspec": {
   "display_name": "Python 3",
   "language": "python",
   "name": "python3"
  },
  "language_info": {
   "codemirror_mode": {
    "name": "ipython",
    "version": 3
   },
   "file_extension": ".py",
   "mimetype": "text/x-python",
   "name": "python",
   "nbconvert_exporter": "python",
   "pygments_lexer": "ipython3",
   "version": "3.8.5"
  }
 },
 "nbformat": 4,
 "nbformat_minor": 5
}
