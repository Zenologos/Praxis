{
  "nbformat": 4,
  "nbformat_minor": 5,
  "metadata": {
    "kernelspec": {
      "display_name": "Python 3",
      "language": "python",
      "name": "python3"
    },
    "language_info": {
      "codemirror_mode": {
        "name": "ipython",
        "version": 3
      },
      "file_extension": ".py",
      "mimetype": "text/x-python",
      "name": "python",
      "nbconvert_exporter": "python",
      "pygments_lexer": "ipython3",
      "version": "3.8.5"
    },
    "colab": {
      "name": "corey_praxis_data_analysis_EST_temp.ipynb",
      "provenance": [],
      "include_colab_link": true
    }
  },
  "cells": [
    {
      "cell_type": "markdown",
      "metadata": {
        "id": "view-in-github",
        "colab_type": "text"
      },
      "source": [
        "<a href=\"https://colab.research.google.com/github/Zenologos/Praxis/blob/main/corey_praxis_data_analysis_EST_temp.ipynb\" target=\"_parent\"><img src=\"https://colab.research.google.com/assets/colab-badge.svg\" alt=\"Open In Colab\"/></a>"
      ]
    },
    {
      "cell_type": "markdown",
      "metadata": {
        "id": "frozen-thumbnail"
      },
      "source": [
        "## <font color=dark red> Data Loading </font>"
      ],
      "id": "frozen-thumbnail"
    },
    {
      "cell_type": "markdown",
      "metadata": {
        "id": "moderate-gibson"
      },
      "source": [
        "#### <font color=blue> Step 1 - Load EST 1 and EST 2 files. </font>"
      ],
      "id": "moderate-gibson"
    },
    {
      "cell_type": "code",
      "metadata": {
        "id": "recreational-politics"
      },
      "source": [
        "# Import data\n",
        "\n",
        "import pandas as pd\n",
        "import numpy as np\n",
        "import matplotlib\n",
        "import matplotlib.pyplot as plt\n",
        "%matplotlib inline\n",
        "import seaborn as sns\n",
        "\n",
        "columns_of_interest = ['device_number','device_description','site','work_order_number','work_order_priority_description','wo_type_description','problem_reported','lot_year','num_parts_from_storeroom','num_parts_from_po','repair_part_number','repair_part_name','repair_part_stocktype']"
      ],
      "id": "recreational-politics",
      "execution_count": 9,
      "outputs": []
    },
    {
      "cell_type": "markdown",
      "metadata": {
        "id": "infinite-novelty"
      },
      "source": [
        "<font color = green> Additional Request for Milestone 1 added.</font>"
      ],
      "id": "infinite-novelty"
    },
    {
      "cell_type": "code",
      "metadata": {
        "colab": {
          "base_uri": "https://localhost:8080/"
        },
        "id": "adjusted-cross",
        "outputId": "1f2ae64d-5a4b-4aa5-84b4-420f2c68a2d0"
      },
      "source": [
        "len(columns_of_interest)"
      ],
      "id": "adjusted-cross",
      "execution_count": 10,
      "outputs": [
        {
          "output_type": "execute_result",
          "data": {
            "text/plain": [
              "13"
            ]
          },
          "metadata": {
            "tags": []
          },
          "execution_count": 10
        }
      ]
    },
    {
      "cell_type": "code",
      "metadata": {
        "id": "stylish-flush"
      },
      "source": [
        "# Update file path below - \n",
        "\n",
        "df1 = pd.read_excel('EST 1.xlsx')\n",
        "df2 = pd.read_excel('EST 2.xlsx')"
      ],
      "id": "stylish-flush",
      "execution_count": 13,
      "outputs": []
    },
    {
      "cell_type": "code",
      "metadata": {
        "colab": {
          "base_uri": "https://localhost:8080/"
        },
        "id": "secondary-looking",
        "outputId": "1039f3bf-71ba-443f-c255-9fb24b2add66"
      },
      "source": [
        "df1.shape"
      ],
      "id": "secondary-looking",
      "execution_count": 14,
      "outputs": [
        {
          "output_type": "execute_result",
          "data": {
            "text/plain": [
              "(64995, 35)"
            ]
          },
          "metadata": {
            "tags": []
          },
          "execution_count": 14
        }
      ]
    },
    {
      "cell_type": "code",
      "metadata": {
        "colab": {
          "base_uri": "https://localhost:8080/"
        },
        "id": "optical-enclosure",
        "outputId": "0131ea9b-a34d-4035-b940-2d5f2814667f"
      },
      "source": [
        "df2.shape"
      ],
      "id": "optical-enclosure",
      "execution_count": 15,
      "outputs": [
        {
          "output_type": "execute_result",
          "data": {
            "text/plain": [
              "(44585, 35)"
            ]
          },
          "metadata": {
            "tags": []
          },
          "execution_count": 15
        }
      ]
    },
    {
      "cell_type": "code",
      "metadata": {
        "colab": {
          "base_uri": "https://localhost:8080/"
        },
        "id": "micro-sleeve",
        "outputId": "63f54ecb-3304-4156-97bf-547ca643e267"
      },
      "source": [
        "df1.columns"
      ],
      "id": "micro-sleeve",
      "execution_count": 16,
      "outputs": [
        {
          "output_type": "execute_result",
          "data": {
            "text/plain": [
              "Index(['TFA', 'SUBTFA', 'SYSTEMID', 'DEVICE NUMBER', 'DEVICE DESCRIPTION',\n",
              "       'DEVICE SERIAL NUMER', 'SITE', 'WORK ORDER NUMBER',\n",
              "       'WORK ORDER DESCRIPTION', 'WORK ORDER PRIORITY DESCRIPTION',\n",
              "       'WOTYPE_DESCRIPTION', 'FUNCTIONAL LOCATION DRILL DOWN',\n",
              "       'FUNCTIONAL LOCATION DESCRIPTION', 'PROBLEMREPORTED', 'ACTIONCOMPLETED',\n",
              "       'TIME TO RETURN (Days.% of 24hrs)', 'LOT YEAR',\n",
              "       'AFFECTED PART UNIQUE IDENTIFIER', 'AFFECTED PART NUMBER',\n",
              "       'AFFECTED PART NAME', 'AFFECTED PART SERIAL NUMBER',\n",
              "       'MAINTENANCE ACTION', 'NUMPARTSFROMSTOREROOM', 'NUMPARTSFROMPO',\n",
              "       'DATE SENT TO VENDOR', 'DATE RECEIVED FROM VENDOR',\n",
              "       'REPAIR PART OWNERSHIP', 'REPAIR PART NUMBER', 'REPAIR PART NAME',\n",
              "       'REPAIR PART SERIAL NUMBER', 'REPAIR PART STOCKTYPE', 'REPAIR CATEGORY',\n",
              "       'REPAIR PART FARCODE', 'TOTAL WORK ORDER LABOR', 'LONG DESCRIPTION'],\n",
              "      dtype='object')"
            ]
          },
          "metadata": {
            "tags": []
          },
          "execution_count": 16
        }
      ]
    },
    {
      "cell_type": "code",
      "metadata": {
        "colab": {
          "base_uri": "https://localhost:8080/"
        },
        "id": "ideal-malpractice",
        "outputId": "b53ea3c0-0157-4351-d155-340c548f38bb"
      },
      "source": [
        "df2.columns"
      ],
      "id": "ideal-malpractice",
      "execution_count": 17,
      "outputs": [
        {
          "output_type": "execute_result",
          "data": {
            "text/plain": [
              "Index(['TFA', 'SUBTFA', 'SYSTEMID', 'DEVICE NUMBER', 'DEVICE DESCRIPTION',\n",
              "       'DEVICE SERIAL NUMER', 'SITE', 'WORK ORDER NUMBER',\n",
              "       'WORK ORDER DESCRIPTION', 'WORK ORDER PRIORITY DESCRIPTION',\n",
              "       'WOTYPE_DESCRIPTION', 'FUNCTIONAL LOCATION DRILL DOWN',\n",
              "       'FUNCTIONAL LOCATION DESCRIPTION', 'PROBLEMREPORTED', 'ACTIONCOMPLETED',\n",
              "       'TIME TO RETURN (Days.% of 24hrs)', 'LOT YEAR',\n",
              "       'AFFECTED PART UNIQUE IDENTIFIER', 'AFFECTED PART NUMBER',\n",
              "       'AFFECTED PART NAME', 'AFFECTED PART SERIAL NUMBER',\n",
              "       'MAINTENANCE ACTION', 'NUMPARTSFROMSTOREROOM', 'NUMPARTSFROMPO',\n",
              "       'DATE SENT TO VENDOR', 'DATE RECEIVED FROM VENDOR',\n",
              "       'REPAIR PART OWNERSHIP', 'REPAIR PART NUMBER', 'REPAIR PART NAME',\n",
              "       'REPAIR PART SERIAL NUMBER', 'REPAIR PART STOCKTYPE', 'REPAIR CATEGORY',\n",
              "       'REPAIR PART FARCODE', 'TOTAL WORK ORDER LABOR', 'LONG DESCRIPTION'],\n",
              "      dtype='object')"
            ]
          },
          "metadata": {
            "tags": []
          },
          "execution_count": 17
        }
      ]
    },
    {
      "cell_type": "markdown",
      "metadata": {
        "id": "seasonal-style"
      },
      "source": [
        "#### <font color=blue> Step 2 - Rename columns names by replacing whitespace with underscore, coverting to lowercase. </font>"
      ],
      "id": "seasonal-style"
    },
    {
      "cell_type": "code",
      "metadata": {
        "id": "involved-expert"
      },
      "source": [
        "df1.columns = df1.columns.str.strip().str.lower().str.replace(\" \",\"_\")\n",
        "df2.columns = df2.columns.str.strip().str.lower().str.replace(\" \",\"_\")"
      ],
      "id": "involved-expert",
      "execution_count": 18,
      "outputs": []
    },
    {
      "cell_type": "code",
      "metadata": {
        "scrolled": true,
        "colab": {
          "base_uri": "https://localhost:8080/"
        },
        "id": "technical-finder",
        "outputId": "eaf056d1-5a22-4311-e19e-4c711522bf40"
      },
      "source": [
        "df1.columns"
      ],
      "id": "technical-finder",
      "execution_count": 19,
      "outputs": [
        {
          "output_type": "execute_result",
          "data": {
            "text/plain": [
              "Index(['tfa', 'subtfa', 'systemid', 'device_number', 'device_description',\n",
              "       'device_serial_numer', 'site', 'work_order_number',\n",
              "       'work_order_description', 'work_order_priority_description',\n",
              "       'wotype_description', 'functional_location_drill_down',\n",
              "       'functional_location_description', 'problemreported', 'actioncompleted',\n",
              "       'time_to_return_(days.%_of_24hrs)', 'lot_year',\n",
              "       'affected_part_unique_identifier', 'affected_part_number',\n",
              "       'affected_part_name', 'affected_part_serial_number',\n",
              "       'maintenance_action', 'numpartsfromstoreroom', 'numpartsfrompo',\n",
              "       'date_sent_to_vendor', 'date_received_from_vendor',\n",
              "       'repair_part_ownership', 'repair_part_number', 'repair_part_name',\n",
              "       'repair_part_serial_number', 'repair_part_stocktype', 'repair_category',\n",
              "       'repair_part_farcode', 'total_work_order_labor', 'long_description'],\n",
              "      dtype='object')"
            ]
          },
          "metadata": {
            "tags": []
          },
          "execution_count": 19
        }
      ]
    },
    {
      "cell_type": "code",
      "metadata": {
        "id": "convinced-contest"
      },
      "source": [
        "df1 = df1.rename({'wotype_description':'wo_type_description','problemreported':'problem_reported',\\\n",
        "           'numpartsfromstoreroom':'num_parts_from_storeroom','numpartsfrompo':'num_parts_from_po'},axis='columns',errors=\"raise\")\n",
        "df2 = df2.rename({'wotype_description':'wo_type_description','problemreported':'problem_reported',\\\n",
        "           'numpartsfromstoreroom':'num_parts_from_storeroom','numpartsfrompo':'num_parts_from_po'},axis='columns',errors=\"raise\")"
      ],
      "id": "convinced-contest",
      "execution_count": 20,
      "outputs": []
    },
    {
      "cell_type": "code",
      "metadata": {
        "colab": {
          "base_uri": "https://localhost:8080/"
        },
        "id": "abstract-commerce",
        "outputId": "06c85410-14e2-43b5-8ec9-5b3910dde6fa"
      },
      "source": [
        "df1.columns"
      ],
      "id": "abstract-commerce",
      "execution_count": 21,
      "outputs": [
        {
          "output_type": "execute_result",
          "data": {
            "text/plain": [
              "Index(['tfa', 'subtfa', 'systemid', 'device_number', 'device_description',\n",
              "       'device_serial_numer', 'site', 'work_order_number',\n",
              "       'work_order_description', 'work_order_priority_description',\n",
              "       'wo_type_description', 'functional_location_drill_down',\n",
              "       'functional_location_description', 'problem_reported',\n",
              "       'actioncompleted', 'time_to_return_(days.%_of_24hrs)', 'lot_year',\n",
              "       'affected_part_unique_identifier', 'affected_part_number',\n",
              "       'affected_part_name', 'affected_part_serial_number',\n",
              "       'maintenance_action', 'num_parts_from_storeroom', 'num_parts_from_po',\n",
              "       'date_sent_to_vendor', 'date_received_from_vendor',\n",
              "       'repair_part_ownership', 'repair_part_number', 'repair_part_name',\n",
              "       'repair_part_serial_number', 'repair_part_stocktype', 'repair_category',\n",
              "       'repair_part_farcode', 'total_work_order_labor', 'long_description'],\n",
              "      dtype='object')"
            ]
          },
          "metadata": {
            "tags": []
          },
          "execution_count": 21
        }
      ]
    },
    {
      "cell_type": "markdown",
      "metadata": {
        "id": "numerical-council"
      },
      "source": [
        "#### <font color=blue> Step 3 - Filter out unwanted columns from dataframes. </font>"
      ],
      "id": "numerical-council"
    },
    {
      "cell_type": "code",
      "metadata": {
        "id": "purple-window"
      },
      "source": [
        "df1_new = df1[df1.columns.intersection(columns_of_interest)].copy()\n",
        "df2_new = df2[df2.columns.intersection(columns_of_interest)].copy()"
      ],
      "id": "purple-window",
      "execution_count": 22,
      "outputs": []
    },
    {
      "cell_type": "code",
      "metadata": {
        "colab": {
          "base_uri": "https://localhost:8080/"
        },
        "id": "configured-factor",
        "outputId": "050767d2-94d9-436d-819d-65269088cca9"
      },
      "source": [
        "df1_new.columns"
      ],
      "id": "configured-factor",
      "execution_count": 23,
      "outputs": [
        {
          "output_type": "execute_result",
          "data": {
            "text/plain": [
              "Index(['device_number', 'device_description', 'site', 'work_order_number',\n",
              "       'work_order_priority_description', 'wo_type_description',\n",
              "       'problem_reported', 'lot_year', 'num_parts_from_storeroom',\n",
              "       'num_parts_from_po', 'repair_part_number', 'repair_part_name',\n",
              "       'repair_part_stocktype'],\n",
              "      dtype='object')"
            ]
          },
          "metadata": {
            "tags": []
          },
          "execution_count": 23
        }
      ]
    },
    {
      "cell_type": "code",
      "metadata": {
        "colab": {
          "base_uri": "https://localhost:8080/"
        },
        "id": "stuffed-elephant",
        "outputId": "1f9f4fe4-6b5d-4277-bb88-5e3d92d7ae80"
      },
      "source": [
        "len(df1_new.columns)"
      ],
      "id": "stuffed-elephant",
      "execution_count": 24,
      "outputs": [
        {
          "output_type": "execute_result",
          "data": {
            "text/plain": [
              "13"
            ]
          },
          "metadata": {
            "tags": []
          },
          "execution_count": 24
        }
      ]
    },
    {
      "cell_type": "code",
      "metadata": {
        "colab": {
          "base_uri": "https://localhost:8080/"
        },
        "id": "municipal-backup",
        "outputId": "c00195e7-619d-43a3-fe7a-eecb329443c1"
      },
      "source": [
        "df1_new.shape"
      ],
      "id": "municipal-backup",
      "execution_count": 25,
      "outputs": [
        {
          "output_type": "execute_result",
          "data": {
            "text/plain": [
              "(64995, 13)"
            ]
          },
          "metadata": {
            "tags": []
          },
          "execution_count": 25
        }
      ]
    },
    {
      "cell_type": "code",
      "metadata": {
        "colab": {
          "base_uri": "https://localhost:8080/"
        },
        "id": "competent-handbook",
        "outputId": "1e7f006b-5ac9-4956-9d3a-0b6455b05ac9"
      },
      "source": [
        "len(df2_new.columns)"
      ],
      "id": "competent-handbook",
      "execution_count": 26,
      "outputs": [
        {
          "output_type": "execute_result",
          "data": {
            "text/plain": [
              "13"
            ]
          },
          "metadata": {
            "tags": []
          },
          "execution_count": 26
        }
      ]
    },
    {
      "cell_type": "code",
      "metadata": {
        "colab": {
          "base_uri": "https://localhost:8080/"
        },
        "id": "informational-socket",
        "outputId": "60e1f78a-a008-49b9-b933-699fdb3a8539"
      },
      "source": [
        "df2_new.columns"
      ],
      "id": "informational-socket",
      "execution_count": 27,
      "outputs": [
        {
          "output_type": "execute_result",
          "data": {
            "text/plain": [
              "Index(['device_number', 'device_description', 'site', 'work_order_number',\n",
              "       'work_order_priority_description', 'wo_type_description',\n",
              "       'problem_reported', 'lot_year', 'num_parts_from_storeroom',\n",
              "       'num_parts_from_po', 'repair_part_number', 'repair_part_name',\n",
              "       'repair_part_stocktype'],\n",
              "      dtype='object')"
            ]
          },
          "metadata": {
            "tags": []
          },
          "execution_count": 27
        }
      ]
    },
    {
      "cell_type": "code",
      "metadata": {
        "colab": {
          "base_uri": "https://localhost:8080/"
        },
        "id": "referenced-darwin",
        "outputId": "5e6a7c1d-8b51-4347-f45c-f8ca7b335150"
      },
      "source": [
        "df2_new.shape"
      ],
      "id": "referenced-darwin",
      "execution_count": 28,
      "outputs": [
        {
          "output_type": "execute_result",
          "data": {
            "text/plain": [
              "(44585, 13)"
            ]
          },
          "metadata": {
            "tags": []
          },
          "execution_count": 28
        }
      ]
    },
    {
      "cell_type": "markdown",
      "metadata": {
        "id": "blond-background"
      },
      "source": [
        "#### <font color=blue> Step 4 - Concatenate the two datasets </font>"
      ],
      "id": "blond-background"
    },
    {
      "cell_type": "code",
      "metadata": {
        "colab": {
          "base_uri": "https://localhost:8080/"
        },
        "id": "normal-rolling",
        "outputId": "b2f584d6-487c-4d48-da38-3cfd8d9a233e"
      },
      "source": [
        "type(df2_new)"
      ],
      "id": "normal-rolling",
      "execution_count": 29,
      "outputs": [
        {
          "output_type": "execute_result",
          "data": {
            "text/plain": [
              "pandas.core.frame.DataFrame"
            ]
          },
          "metadata": {
            "tags": []
          },
          "execution_count": 29
        }
      ]
    },
    {
      "cell_type": "code",
      "metadata": {
        "id": "velvet-flash"
      },
      "source": [
        "df_main = pd.concat([df1_new,df2_new],axis=0,ignore_index = True)"
      ],
      "id": "velvet-flash",
      "execution_count": 30,
      "outputs": []
    },
    {
      "cell_type": "code",
      "metadata": {
        "colab": {
          "base_uri": "https://localhost:8080/"
        },
        "id": "known-proportion",
        "outputId": "e0428763-bc9b-44dd-ac26-5ef32e214ac8"
      },
      "source": [
        "df_main.shape"
      ],
      "id": "known-proportion",
      "execution_count": 31,
      "outputs": [
        {
          "output_type": "execute_result",
          "data": {
            "text/plain": [
              "(109580, 13)"
            ]
          },
          "metadata": {
            "tags": []
          },
          "execution_count": 31
        }
      ]
    },
    {
      "cell_type": "code",
      "metadata": {
        "colab": {
          "base_uri": "https://localhost:8080/",
          "height": 428
        },
        "id": "indoor-champagne",
        "outputId": "b4857d89-b6f3-432d-829b-70f212122b9e"
      },
      "source": [
        "df_main.head()"
      ],
      "id": "indoor-champagne",
      "execution_count": 32,
      "outputs": [
        {
          "output_type": "execute_result",
          "data": {
            "text/html": [
              "<div>\n",
              "<style scoped>\n",
              "    .dataframe tbody tr th:only-of-type {\n",
              "        vertical-align: middle;\n",
              "    }\n",
              "\n",
              "    .dataframe tbody tr th {\n",
              "        vertical-align: top;\n",
              "    }\n",
              "\n",
              "    .dataframe thead th {\n",
              "        text-align: right;\n",
              "    }\n",
              "</style>\n",
              "<table border=\"1\" class=\"dataframe\">\n",
              "  <thead>\n",
              "    <tr style=\"text-align: right;\">\n",
              "      <th></th>\n",
              "      <th>device_number</th>\n",
              "      <th>device_description</th>\n",
              "      <th>site</th>\n",
              "      <th>work_order_number</th>\n",
              "      <th>work_order_priority_description</th>\n",
              "      <th>wo_type_description</th>\n",
              "      <th>problem_reported</th>\n",
              "      <th>lot_year</th>\n",
              "      <th>num_parts_from_storeroom</th>\n",
              "      <th>num_parts_from_po</th>\n",
              "      <th>repair_part_number</th>\n",
              "      <th>repair_part_name</th>\n",
              "      <th>repair_part_stocktype</th>\n",
              "    </tr>\n",
              "  </thead>\n",
              "  <tbody>\n",
              "    <tr>\n",
              "      <th>0</th>\n",
              "      <td>07-129</td>\n",
              "      <td>Engagement Skills Trainer (EST) 2000</td>\n",
              "      <td>Ft Leonard Wood, MO</td>\n",
              "      <td>6766881</td>\n",
              "      <td>Corrective Maintenance</td>\n",
              "      <td>Corrective COR</td>\n",
              "      <td>2015-04-03 10:40:00</td>\n",
              "      <td>6</td>\n",
              "      <td>0</td>\n",
              "      <td>0</td>\n",
              "      <td>No parts issued to workorder</td>\n",
              "      <td>No parts issued to workorder</td>\n",
              "      <td>No Parts Issued from Inventory</td>\n",
              "    </tr>\n",
              "    <tr>\n",
              "      <th>1</th>\n",
              "      <td>07-129</td>\n",
              "      <td>Engagement Skills Trainer (EST) 2000</td>\n",
              "      <td>Ft Sill, OK</td>\n",
              "      <td>5780918</td>\n",
              "      <td>Corrective Maintenance</td>\n",
              "      <td>Corrective COR</td>\n",
              "      <td>2013-05-30 13:00:00</td>\n",
              "      <td>5</td>\n",
              "      <td>0</td>\n",
              "      <td>0</td>\n",
              "      <td>No parts issued to workorder</td>\n",
              "      <td>No parts issued to workorder</td>\n",
              "      <td>No Parts Issued from Inventory</td>\n",
              "    </tr>\n",
              "    <tr>\n",
              "      <th>2</th>\n",
              "      <td>07-129</td>\n",
              "      <td>Engagement Skills Trainer (EST) 2000</td>\n",
              "      <td>Warfighter Support Center</td>\n",
              "      <td>6305062</td>\n",
              "      <td>Corrective Maintenance</td>\n",
              "      <td>Corrective COR</td>\n",
              "      <td>2014-05-30 16:48:00</td>\n",
              "      <td>6</td>\n",
              "      <td>0</td>\n",
              "      <td>0</td>\n",
              "      <td>No parts issued to workorder</td>\n",
              "      <td>No parts issued to workorder</td>\n",
              "      <td>No Parts Issued from Inventory</td>\n",
              "    </tr>\n",
              "    <tr>\n",
              "      <th>3</th>\n",
              "      <td>07-129</td>\n",
              "      <td>Engagement Skills Trainer (EST) 2000</td>\n",
              "      <td>Ft Leonard Wood, MO</td>\n",
              "      <td>6425405</td>\n",
              "      <td>Corrective Maintenance</td>\n",
              "      <td>Corrective COR</td>\n",
              "      <td>2014-08-19 13:18:00</td>\n",
              "      <td>6</td>\n",
              "      <td>2</td>\n",
              "      <td>0</td>\n",
              "      <td>93135A076</td>\n",
              "      <td>SCREW, NYLON MOUNTING, SENSOR BOARD (CUBIC) M1...</td>\n",
              "      <td>CONSUMABLE</td>\n",
              "    </tr>\n",
              "    <tr>\n",
              "      <th>4</th>\n",
              "      <td>07-129</td>\n",
              "      <td>Engagement Skills Trainer (EST) 2000</td>\n",
              "      <td>Ft Leonard Wood, MO</td>\n",
              "      <td>6425405</td>\n",
              "      <td>Corrective Maintenance</td>\n",
              "      <td>Corrective COR</td>\n",
              "      <td>2014-08-19 13:18:00</td>\n",
              "      <td>6</td>\n",
              "      <td>2</td>\n",
              "      <td>0</td>\n",
              "      <td>924013066</td>\n",
              "      <td>BOARD,  SENSOR , M4 / M16 ,  CUBIC</td>\n",
              "      <td>REPAIRABLE</td>\n",
              "    </tr>\n",
              "  </tbody>\n",
              "</table>\n",
              "</div>"
            ],
            "text/plain": [
              "  device_number  ...           repair_part_stocktype\n",
              "0        07-129  ...  No Parts Issued from Inventory\n",
              "1        07-129  ...  No Parts Issued from Inventory\n",
              "2        07-129  ...  No Parts Issued from Inventory\n",
              "3        07-129  ...                      CONSUMABLE\n",
              "4        07-129  ...                      REPAIRABLE\n",
              "\n",
              "[5 rows x 13 columns]"
            ]
          },
          "metadata": {
            "tags": []
          },
          "execution_count": 32
        }
      ]
    },
    {
      "cell_type": "markdown",
      "metadata": {
        "id": "israeli-column"
      },
      "source": [
        "## <font color=dark red> Data Cleansing </font>"
      ],
      "id": "israeli-column"
    },
    {
      "cell_type": "markdown",
      "metadata": {
        "id": "reported-butler"
      },
      "source": [
        "#### <font color=blue> Step 1 - Convert problem_reported column to date column. The column values are already of datetime type.</font>"
      ],
      "id": "reported-butler"
    },
    {
      "cell_type": "code",
      "metadata": {
        "colab": {
          "base_uri": "https://localhost:8080/"
        },
        "id": "pointed-response",
        "outputId": "a74a0f1a-6e04-449f-a205-78e3b45647b8"
      },
      "source": [
        "df_main['problem_reported'], type(df_main['problem_reported'])"
      ],
      "id": "pointed-response",
      "execution_count": 33,
      "outputs": [
        {
          "output_type": "execute_result",
          "data": {
            "text/plain": [
              "(0        2015-04-03 10:40:00\n",
              " 1        2013-05-30 13:00:00\n",
              " 2        2014-05-30 16:48:00\n",
              " 3        2014-08-19 13:18:00\n",
              " 4        2014-08-19 13:18:00\n",
              "                  ...        \n",
              " 109575   2013-08-16 09:51:09\n",
              " 109576   2013-08-21 14:39:14\n",
              " 109577   2014-12-19 13:48:18\n",
              " 109578   2014-12-19 13:48:18\n",
              " 109579   2014-12-19 13:48:18\n",
              " Name: problem_reported, Length: 109580, dtype: datetime64[ns],\n",
              " pandas.core.series.Series)"
            ]
          },
          "metadata": {
            "tags": []
          },
          "execution_count": 33
        }
      ]
    },
    {
      "cell_type": "code",
      "metadata": {
        "id": "alpine-calendar"
      },
      "source": [
        "df_main['problem_reported'] = df_main.problem_reported.dt.date"
      ],
      "id": "alpine-calendar",
      "execution_count": 34,
      "outputs": []
    },
    {
      "cell_type": "code",
      "metadata": {
        "colab": {
          "base_uri": "https://localhost:8080/"
        },
        "id": "sonic-repair",
        "outputId": "dcc36f12-00f1-40fa-f209-b1caadb3a1ff"
      },
      "source": [
        "df_main['problem_reported']"
      ],
      "id": "sonic-repair",
      "execution_count": 35,
      "outputs": [
        {
          "output_type": "execute_result",
          "data": {
            "text/plain": [
              "0         2015-04-03\n",
              "1         2013-05-30\n",
              "2         2014-05-30\n",
              "3         2014-08-19\n",
              "4         2014-08-19\n",
              "             ...    \n",
              "109575    2013-08-16\n",
              "109576    2013-08-21\n",
              "109577    2014-12-19\n",
              "109578    2014-12-19\n",
              "109579    2014-12-19\n",
              "Name: problem_reported, Length: 109580, dtype: object"
            ]
          },
          "metadata": {
            "tags": []
          },
          "execution_count": 35
        }
      ]
    },
    {
      "cell_type": "code",
      "metadata": {
        "id": "simplified-riverside"
      },
      "source": [
        "# df_main = df_main.rename({'problem_reported':'date'},axis='columns',errors=\"raise\")"
      ],
      "id": "simplified-riverside",
      "execution_count": 36,
      "outputs": []
    },
    {
      "cell_type": "code",
      "metadata": {
        "colab": {
          "base_uri": "https://localhost:8080/"
        },
        "id": "extra-equilibrium",
        "outputId": "c2c1da18-c98f-4d29-88f9-a867afc3bf5f"
      },
      "source": [
        "df_main['problem_reported']"
      ],
      "id": "extra-equilibrium",
      "execution_count": 37,
      "outputs": [
        {
          "output_type": "execute_result",
          "data": {
            "text/plain": [
              "0         2015-04-03\n",
              "1         2013-05-30\n",
              "2         2014-05-30\n",
              "3         2014-08-19\n",
              "4         2014-08-19\n",
              "             ...    \n",
              "109575    2013-08-16\n",
              "109576    2013-08-21\n",
              "109577    2014-12-19\n",
              "109578    2014-12-19\n",
              "109579    2014-12-19\n",
              "Name: problem_reported, Length: 109580, dtype: object"
            ]
          },
          "metadata": {
            "tags": []
          },
          "execution_count": 37
        }
      ]
    },
    {
      "cell_type": "markdown",
      "metadata": {
        "id": "threatened-whole"
      },
      "source": [
        "#### <font color=blue> Step 2 - Removing all records that have a description of 'Modification Government' & 'Operational Support' & 'Exercise Support' & 'Log Problem' & 'Operational Support'.</font>\n",
        "<font color = green> Additional Request for Milestone 1 added.</font>"
      ],
      "id": "threatened-whole"
    },
    {
      "cell_type": "code",
      "metadata": {
        "colab": {
          "base_uri": "https://localhost:8080/"
        },
        "id": "about-cheat",
        "outputId": "4091bc29-9877-4ad8-a472-bb513b9885c8"
      },
      "source": [
        "df_main.wo_type_description.unique()"
      ],
      "id": "about-cheat",
      "execution_count": 38,
      "outputs": [
        {
          "output_type": "execute_result",
          "data": {
            "text/plain": [
              "array(['Corrective COR', 'Modification Government', 'Preventive PM',\n",
              "       'Operational Support', 'Exercise Support', 'Log Problem'],\n",
              "      dtype=object)"
            ]
          },
          "metadata": {
            "tags": []
          },
          "execution_count": 38
        }
      ]
    },
    {
      "cell_type": "code",
      "metadata": {
        "colab": {
          "base_uri": "https://localhost:8080/"
        },
        "id": "arabic-christian",
        "outputId": "a495b7a6-00ca-4497-bd68-da54370c7a29"
      },
      "source": [
        "df_main.shape"
      ],
      "id": "arabic-christian",
      "execution_count": 39,
      "outputs": [
        {
          "output_type": "execute_result",
          "data": {
            "text/plain": [
              "(109580, 13)"
            ]
          },
          "metadata": {
            "tags": []
          },
          "execution_count": 39
        }
      ]
    },
    {
      "cell_type": "code",
      "metadata": {
        "id": "local-badge"
      },
      "source": [
        "df_main = df_main.drop(df_main.index[df_main['wo_type_description'].str.\n",
        "                                     contains('Modification Government|Operational Support|Exercise Support|Log Problem|Operational Support', na=False)])"
      ],
      "id": "local-badge",
      "execution_count": 40,
      "outputs": []
    },
    {
      "cell_type": "code",
      "metadata": {
        "colab": {
          "base_uri": "https://localhost:8080/"
        },
        "id": "furnished-juice",
        "outputId": "a4433706-2fea-4766-dc96-a390473f78f3"
      },
      "source": [
        "df_main.shape"
      ],
      "id": "furnished-juice",
      "execution_count": 41,
      "outputs": [
        {
          "output_type": "execute_result",
          "data": {
            "text/plain": [
              "(108599, 13)"
            ]
          },
          "metadata": {
            "tags": []
          },
          "execution_count": 41
        }
      ]
    },
    {
      "cell_type": "code",
      "metadata": {
        "colab": {
          "base_uri": "https://localhost:8080/"
        },
        "id": "coordinated-stevens",
        "outputId": "4d2d95f5-f977-44fb-d1bf-4e482c951e58"
      },
      "source": [
        "df_main.wo_type_description.unique()"
      ],
      "id": "coordinated-stevens",
      "execution_count": 42,
      "outputs": [
        {
          "output_type": "execute_result",
          "data": {
            "text/plain": [
              "array(['Corrective COR', 'Preventive PM'], dtype=object)"
            ]
          },
          "metadata": {
            "tags": []
          },
          "execution_count": 42
        }
      ]
    },
    {
      "cell_type": "markdown",
      "metadata": {
        "id": "enhanced-server"
      },
      "source": [
        "#### <font color=blue> Step 3 - Removing all rows that have values of 'Move/Modify/Upgrade' & 'Exercise/Operational Support' in the 'work_order_priority_description' column. </font>"
      ],
      "id": "enhanced-server"
    },
    {
      "cell_type": "markdown",
      "metadata": {
        "id": "possible-murray"
      },
      "source": [
        "<font color = green> Additional Request for Milestone 1 added.</font>"
      ],
      "id": "possible-murray"
    },
    {
      "cell_type": "code",
      "metadata": {
        "colab": {
          "base_uri": "https://localhost:8080/"
        },
        "id": "declared-northeast",
        "outputId": "bf672123-2b8e-47f7-e811-4d6679da8584"
      },
      "source": [
        "df_main.work_order_priority_description.unique()"
      ],
      "id": "declared-northeast",
      "execution_count": 43,
      "outputs": [
        {
          "output_type": "execute_result",
          "data": {
            "text/plain": [
              "array(['Corrective Maintenance', 'PMCS', 'System - Device Degraded',\n",
              "       'Bench/Depot Repair', 'System - Device Down',\n",
              "       'Exercise/Operational Support', 'Move/Modify/Upgrade'],\n",
              "      dtype=object)"
            ]
          },
          "metadata": {
            "tags": []
          },
          "execution_count": 43
        }
      ]
    },
    {
      "cell_type": "code",
      "metadata": {
        "colab": {
          "base_uri": "https://localhost:8080/"
        },
        "id": "revolutionary-congo",
        "outputId": "2d4b5264-4855-4d84-b241-d85bfbbfdd69"
      },
      "source": [
        "df_main.shape"
      ],
      "id": "revolutionary-congo",
      "execution_count": 44,
      "outputs": [
        {
          "output_type": "execute_result",
          "data": {
            "text/plain": [
              "(108599, 13)"
            ]
          },
          "metadata": {
            "tags": []
          },
          "execution_count": 44
        }
      ]
    },
    {
      "cell_type": "code",
      "metadata": {
        "id": "bigger-spread"
      },
      "source": [
        "df_main = df_main.drop(df_main.index[df_main['work_order_priority_description'].str.contains('Move/Modify/Upgrade|Exercise/Operational Support', na=False)])"
      ],
      "id": "bigger-spread",
      "execution_count": 45,
      "outputs": []
    },
    {
      "cell_type": "code",
      "metadata": {
        "colab": {
          "base_uri": "https://localhost:8080/"
        },
        "id": "accurate-index",
        "outputId": "ce126e71-235a-4976-ac8b-0d33ab7a37bc"
      },
      "source": [
        "df_main.shape"
      ],
      "id": "accurate-index",
      "execution_count": 46,
      "outputs": [
        {
          "output_type": "execute_result",
          "data": {
            "text/plain": [
              "(108299, 13)"
            ]
          },
          "metadata": {
            "tags": []
          },
          "execution_count": 46
        }
      ]
    },
    {
      "cell_type": "code",
      "metadata": {
        "colab": {
          "base_uri": "https://localhost:8080/"
        },
        "id": "based-testing",
        "outputId": "6cde9404-3494-499b-d9fa-75970a4fdc58"
      },
      "source": [
        "df_main.work_order_priority_description.unique()"
      ],
      "id": "based-testing",
      "execution_count": 47,
      "outputs": [
        {
          "output_type": "execute_result",
          "data": {
            "text/plain": [
              "array(['Corrective Maintenance', 'PMCS', 'System - Device Degraded',\n",
              "       'Bench/Depot Repair', 'System - Device Down'], dtype=object)"
            ]
          },
          "metadata": {
            "tags": []
          },
          "execution_count": 47
        }
      ]
    },
    {
      "cell_type": "markdown",
      "metadata": {
        "id": "contrary-roller"
      },
      "source": [
        "#### <font color=blue> Step 4 - Removing all rows that have values of 'No parts issued to workorder'in the 'repair_part_number' column. </font>"
      ],
      "id": "contrary-roller"
    },
    {
      "cell_type": "code",
      "metadata": {
        "colab": {
          "base_uri": "https://localhost:8080/"
        },
        "id": "seeing-modem",
        "outputId": "b6312905-bb86-48bb-d805-7ea75e8c50b0"
      },
      "source": [
        "df_main.repair_part_number.unique()"
      ],
      "id": "seeing-modem",
      "execution_count": 48,
      "outputs": [
        {
          "output_type": "execute_result",
          "data": {
            "text/plain": [
              "array(['No parts issued to workorder', '93135A076', '924013066', ...,\n",
              "       '1009520', '6975000', '28301'], dtype=object)"
            ]
          },
          "metadata": {
            "tags": []
          },
          "execution_count": 48
        }
      ]
    },
    {
      "cell_type": "code",
      "metadata": {
        "id": "speaking-worship"
      },
      "source": [
        "df_main = df_main.drop(df_main.index[df_main['repair_part_number'].str.contains('No parts issued to workorder', na=False)])"
      ],
      "id": "speaking-worship",
      "execution_count": 49,
      "outputs": []
    },
    {
      "cell_type": "code",
      "metadata": {
        "colab": {
          "base_uri": "https://localhost:8080/"
        },
        "id": "thermal-tutorial",
        "outputId": "7eed50be-1c48-4814-fd3a-54c6f986d042"
      },
      "source": [
        "df_main.shape"
      ],
      "id": "thermal-tutorial",
      "execution_count": 50,
      "outputs": [
        {
          "output_type": "execute_result",
          "data": {
            "text/plain": [
              "(84607, 13)"
            ]
          },
          "metadata": {
            "tags": []
          },
          "execution_count": 50
        }
      ]
    },
    {
      "cell_type": "markdown",
      "metadata": {
        "id": "amino-sapphire"
      },
      "source": [
        "#### <font color=blue> Before we move onto the next step, lets check for nan values.</font>"
      ],
      "id": "amino-sapphire"
    },
    {
      "cell_type": "code",
      "metadata": {
        "colab": {
          "base_uri": "https://localhost:8080/",
          "height": 462
        },
        "id": "advanced-pendant",
        "outputId": "dde3d210-55a4-4e57-8e4d-f1bcdcd7f46b"
      },
      "source": [
        "df_main.tail()"
      ],
      "id": "advanced-pendant",
      "execution_count": 51,
      "outputs": [
        {
          "output_type": "execute_result",
          "data": {
            "text/html": [
              "<div>\n",
              "<style scoped>\n",
              "    .dataframe tbody tr th:only-of-type {\n",
              "        vertical-align: middle;\n",
              "    }\n",
              "\n",
              "    .dataframe tbody tr th {\n",
              "        vertical-align: top;\n",
              "    }\n",
              "\n",
              "    .dataframe thead th {\n",
              "        text-align: right;\n",
              "    }\n",
              "</style>\n",
              "<table border=\"1\" class=\"dataframe\">\n",
              "  <thead>\n",
              "    <tr style=\"text-align: right;\">\n",
              "      <th></th>\n",
              "      <th>device_number</th>\n",
              "      <th>device_description</th>\n",
              "      <th>site</th>\n",
              "      <th>work_order_number</th>\n",
              "      <th>work_order_priority_description</th>\n",
              "      <th>wo_type_description</th>\n",
              "      <th>problem_reported</th>\n",
              "      <th>lot_year</th>\n",
              "      <th>num_parts_from_storeroom</th>\n",
              "      <th>num_parts_from_po</th>\n",
              "      <th>repair_part_number</th>\n",
              "      <th>repair_part_name</th>\n",
              "      <th>repair_part_stocktype</th>\n",
              "    </tr>\n",
              "  </thead>\n",
              "  <tbody>\n",
              "    <tr>\n",
              "      <th>109572</th>\n",
              "      <td>07-129</td>\n",
              "      <td>Engagement Skills Trainer (EST) 2000</td>\n",
              "      <td>Warfighter Support Center</td>\n",
              "      <td>6668843</td>\n",
              "      <td>Bench/Depot Repair</td>\n",
              "      <td>Corrective COR</td>\n",
              "      <td>2015-05-01</td>\n",
              "      <td>6</td>\n",
              "      <td>6</td>\n",
              "      <td>0</td>\n",
              "      <td>APSC6R3ETD152MJB5S</td>\n",
              "      <td>CAPACITOR, ALUMINUM ORGANIC POLYMER, 1500 UF 6...</td>\n",
              "      <td>CONSUMABLE</td>\n",
              "    </tr>\n",
              "    <tr>\n",
              "      <th>109573</th>\n",
              "      <td>07-129</td>\n",
              "      <td>Engagement Skills Trainer (EST) 2000</td>\n",
              "      <td>Warfighter Support Center</td>\n",
              "      <td>6668843</td>\n",
              "      <td>Bench/Depot Repair</td>\n",
              "      <td>Corrective COR</td>\n",
              "      <td>2015-05-01</td>\n",
              "      <td>6</td>\n",
              "      <td>8</td>\n",
              "      <td>0</td>\n",
              "      <td>28301</td>\n",
              "      <td>SCREW, 6-32X3/8 IN. PHILLIPS FLATHEAD MACHINE,...</td>\n",
              "      <td>CONSUMABLE</td>\n",
              "    </tr>\n",
              "    <tr>\n",
              "      <th>109577</th>\n",
              "      <td>07-129</td>\n",
              "      <td>Engagement Skills Trainer (EST) 2000</td>\n",
              "      <td>Warfighter Support Center</td>\n",
              "      <td>DR6560719</td>\n",
              "      <td>Bench/Depot Repair</td>\n",
              "      <td>Corrective COR</td>\n",
              "      <td>2014-12-19</td>\n",
              "      <td>6</td>\n",
              "      <td>1</td>\n",
              "      <td>0</td>\n",
              "      <td>KA10F09</td>\n",
              "      <td>FILTER, COALESCING (FILTER ONLY), JUN-AIR</td>\n",
              "      <td>CONSUMABLE</td>\n",
              "    </tr>\n",
              "    <tr>\n",
              "      <th>109578</th>\n",
              "      <td>07-129</td>\n",
              "      <td>Engagement Skills Trainer (EST) 2000</td>\n",
              "      <td>Warfighter Support Center</td>\n",
              "      <td>DR6560719</td>\n",
              "      <td>Bench/Depot Repair</td>\n",
              "      <td>Corrective COR</td>\n",
              "      <td>2014-12-19</td>\n",
              "      <td>6</td>\n",
              "      <td>1</td>\n",
              "      <td>0</td>\n",
              "      <td>201112</td>\n",
              "      <td>CONNECTOR, T-JOINT , GRAINGER</td>\n",
              "      <td>CONSUMABLE</td>\n",
              "    </tr>\n",
              "    <tr>\n",
              "      <th>109579</th>\n",
              "      <td>07-129</td>\n",
              "      <td>Engagement Skills Trainer (EST) 2000</td>\n",
              "      <td>Warfighter Support Center</td>\n",
              "      <td>DR6560719</td>\n",
              "      <td>Bench/Depot Repair</td>\n",
              "      <td>Corrective COR</td>\n",
              "      <td>2014-12-19</td>\n",
              "      <td>6</td>\n",
              "      <td>3</td>\n",
              "      <td>0</td>\n",
              "      <td>70MDD</td>\n",
              "      <td>GAUGE , AIR COMPRESSOR, Y-PACK, JUN-AIR</td>\n",
              "      <td>CONSUMABLE</td>\n",
              "    </tr>\n",
              "  </tbody>\n",
              "</table>\n",
              "</div>"
            ],
            "text/plain": [
              "       device_number  ... repair_part_stocktype\n",
              "109572        07-129  ...            CONSUMABLE\n",
              "109573        07-129  ...            CONSUMABLE\n",
              "109577        07-129  ...            CONSUMABLE\n",
              "109578        07-129  ...            CONSUMABLE\n",
              "109579        07-129  ...            CONSUMABLE\n",
              "\n",
              "[5 rows x 13 columns]"
            ]
          },
          "metadata": {
            "tags": []
          },
          "execution_count": 51
        }
      ]
    },
    {
      "cell_type": "code",
      "metadata": {
        "scrolled": true,
        "colab": {
          "base_uri": "https://localhost:8080/"
        },
        "id": "abstract-georgia",
        "outputId": "e3163f3e-1b8f-4e0c-a724-1eb0fd489956"
      },
      "source": [
        "# for col in df_main:\n",
        "#     print(df_main[col].name,'=',df_main[col].unique())\n",
        "\n",
        "df_main.isnull().sum()"
      ],
      "id": "abstract-georgia",
      "execution_count": 52,
      "outputs": [
        {
          "output_type": "execute_result",
          "data": {
            "text/plain": [
              "device_number                      0\n",
              "device_description                 0\n",
              "site                               0\n",
              "work_order_number                  0\n",
              "work_order_priority_description    0\n",
              "wo_type_description                0\n",
              "problem_reported                   0\n",
              "lot_year                           0\n",
              "num_parts_from_storeroom           0\n",
              "num_parts_from_po                  0\n",
              "repair_part_number                 0\n",
              "repair_part_name                   0\n",
              "repair_part_stocktype              0\n",
              "dtype: int64"
            ]
          },
          "metadata": {
            "tags": []
          },
          "execution_count": 52
        }
      ]
    },
    {
      "cell_type": "code",
      "metadata": {
        "id": "lovely-estonia"
      },
      "source": [
        "# lets remove the two rows with nan values.\n",
        "df_main = df_main.dropna(axis=0)"
      ],
      "id": "lovely-estonia",
      "execution_count": 53,
      "outputs": []
    },
    {
      "cell_type": "code",
      "metadata": {
        "colab": {
          "base_uri": "https://localhost:8080/"
        },
        "id": "protecting-editor",
        "outputId": "4f3071c4-ed78-4d35-da33-85d020b6b068"
      },
      "source": [
        "df_main.shape"
      ],
      "id": "protecting-editor",
      "execution_count": 54,
      "outputs": [
        {
          "output_type": "execute_result",
          "data": {
            "text/plain": [
              "(84607, 13)"
            ]
          },
          "metadata": {
            "tags": []
          },
          "execution_count": 54
        }
      ]
    },
    {
      "cell_type": "markdown",
      "metadata": {
        "id": "tough-netscape"
      },
      "source": [
        "## <font color=dark red> Reporting </font>"
      ],
      "id": "tough-netscape"
    },
    {
      "cell_type": "markdown",
      "metadata": {
        "id": "lesbian-european"
      },
      "source": [
        "#### <font color=blue> Generating a view that displays the number of remaining records.</font>"
      ],
      "id": "lesbian-european"
    },
    {
      "cell_type": "code",
      "metadata": {
        "id": "suspected-montgomery"
      },
      "source": [
        "total_records = df_main.shape[0]"
      ],
      "id": "suspected-montgomery",
      "execution_count": 55,
      "outputs": []
    },
    {
      "cell_type": "code",
      "metadata": {
        "colab": {
          "base_uri": "https://localhost:8080/"
        },
        "id": "advanced-recording",
        "outputId": "a66f8db4-6b89-4a93-976d-9e4c0bd42188"
      },
      "source": [
        "total_records"
      ],
      "id": "advanced-recording",
      "execution_count": 56,
      "outputs": [
        {
          "output_type": "execute_result",
          "data": {
            "text/plain": [
              "84607"
            ]
          },
          "metadata": {
            "tags": []
          },
          "execution_count": 56
        }
      ]
    },
    {
      "cell_type": "code",
      "metadata": {
        "id": "precise-royalty"
      },
      "source": [
        "wo_typedesc_df = df_main['wo_type_description'].value_counts().to_frame()"
      ],
      "id": "precise-royalty",
      "execution_count": 57,
      "outputs": []
    },
    {
      "cell_type": "code",
      "metadata": {
        "colab": {
          "base_uri": "https://localhost:8080/",
          "height": 165
        },
        "id": "cooperative-presence",
        "outputId": "4909e21a-b783-4fa5-9936-71de1bc29cf3"
      },
      "source": [
        "wo_typedesc_df"
      ],
      "id": "cooperative-presence",
      "execution_count": 58,
      "outputs": [
        {
          "output_type": "execute_result",
          "data": {
            "text/html": [
              "<div>\n",
              "<style scoped>\n",
              "    .dataframe tbody tr th:only-of-type {\n",
              "        vertical-align: middle;\n",
              "    }\n",
              "\n",
              "    .dataframe tbody tr th {\n",
              "        vertical-align: top;\n",
              "    }\n",
              "\n",
              "    .dataframe thead th {\n",
              "        text-align: right;\n",
              "    }\n",
              "</style>\n",
              "<table border=\"1\" class=\"dataframe\">\n",
              "  <thead>\n",
              "    <tr style=\"text-align: right;\">\n",
              "      <th></th>\n",
              "      <th>wo_type_description</th>\n",
              "    </tr>\n",
              "  </thead>\n",
              "  <tbody>\n",
              "    <tr>\n",
              "      <th>Corrective COR</th>\n",
              "      <td>84417</td>\n",
              "    </tr>\n",
              "    <tr>\n",
              "      <th>Preventive PM</th>\n",
              "      <td>190</td>\n",
              "    </tr>\n",
              "  </tbody>\n",
              "</table>\n",
              "</div>"
            ],
            "text/plain": [
              "                wo_type_description\n",
              "Corrective COR                84417\n",
              "Preventive PM                   190"
            ]
          },
          "metadata": {
            "tags": []
          },
          "execution_count": 58
        }
      ]
    },
    {
      "cell_type": "code",
      "metadata": {
        "id": "expensive-incident"
      },
      "source": [
        "wo_prioritydesc_df = df_main['work_order_priority_description'].value_counts().to_frame()"
      ],
      "id": "expensive-incident",
      "execution_count": 59,
      "outputs": []
    },
    {
      "cell_type": "code",
      "metadata": {
        "colab": {
          "base_uri": "https://localhost:8080/",
          "height": 326
        },
        "id": "laden-single",
        "outputId": "f60ff7d4-6d4d-4530-b38d-492a80974bc1"
      },
      "source": [
        "wo_prioritydesc_df"
      ],
      "id": "laden-single",
      "execution_count": 60,
      "outputs": [
        {
          "output_type": "execute_result",
          "data": {
            "text/html": [
              "<div>\n",
              "<style scoped>\n",
              "    .dataframe tbody tr th:only-of-type {\n",
              "        vertical-align: middle;\n",
              "    }\n",
              "\n",
              "    .dataframe tbody tr th {\n",
              "        vertical-align: top;\n",
              "    }\n",
              "\n",
              "    .dataframe thead th {\n",
              "        text-align: right;\n",
              "    }\n",
              "</style>\n",
              "<table border=\"1\" class=\"dataframe\">\n",
              "  <thead>\n",
              "    <tr style=\"text-align: right;\">\n",
              "      <th></th>\n",
              "      <th>work_order_priority_description</th>\n",
              "    </tr>\n",
              "  </thead>\n",
              "  <tbody>\n",
              "    <tr>\n",
              "      <th>Corrective Maintenance</th>\n",
              "      <td>46412</td>\n",
              "    </tr>\n",
              "    <tr>\n",
              "      <th>Bench/Depot Repair</th>\n",
              "      <td>36679</td>\n",
              "    </tr>\n",
              "    <tr>\n",
              "      <th>System - Device Down</th>\n",
              "      <td>863</td>\n",
              "    </tr>\n",
              "    <tr>\n",
              "      <th>System - Device Degraded</th>\n",
              "      <td>396</td>\n",
              "    </tr>\n",
              "    <tr>\n",
              "      <th>PMCS</th>\n",
              "      <td>257</td>\n",
              "    </tr>\n",
              "  </tbody>\n",
              "</table>\n",
              "</div>"
            ],
            "text/plain": [
              "                          work_order_priority_description\n",
              "Corrective Maintenance                              46412\n",
              "Bench/Depot Repair                                  36679\n",
              "System - Device Down                                  863\n",
              "System - Device Degraded                              396\n",
              "PMCS                                                  257"
            ]
          },
          "metadata": {
            "tags": []
          },
          "execution_count": 60
        }
      ]
    },
    {
      "cell_type": "code",
      "metadata": {
        "id": "controversial-shelter"
      },
      "source": [
        "# Set label size for plots\n",
        "matplotlib.rc('xtick', labelsize=10)\n",
        "matplotlib.rc('ytick', labelsize=10)\n",
        "sns.set_context(\"poster\")\n",
        "# plt.rcParams.update({'font.size': 10})"
      ],
      "id": "controversial-shelter",
      "execution_count": 61,
      "outputs": []
    },
    {
      "cell_type": "code",
      "metadata": {
        "colab": {
          "base_uri": "https://localhost:8080/",
          "height": 54
        },
        "id": "patient-adobe",
        "outputId": "e1e71bc8-619f-46a4-97fd-c0de5d561b6c"
      },
      "source": [
        "plt.barh('Total Records',total_records, color = 'k',log=True)\n",
        "plt.barh('Corrective COR',wo_typedesc_df.loc['Corrective COR'][0],color = 'b',label = 'Work Order Type')\n",
        "plt.barh('Preventive PM',wo_typedesc_df.loc['Preventive PM'][0],color = 'b')\n",
        "plt.barh('System - Device Down',wo_prioritydesc_df.loc['System - Device Down'][0],color = 'r',label = 'Work Order Priority')\n",
        "plt.barh('System - Device Degraded',wo_prioritydesc_df.loc['System - Device Degraded'][0],color = 'r')\n",
        "\n",
        "values = [total_records,wo_typedesc_df.loc['Corrective COR'][0],wo_typedesc_df.loc['Preventive PM'][0],wo_prioritydesc_df.loc['System - Device Down'][0],wo_prioritydesc_df.loc['System - Device Degraded'][0]]\n",
        "i = 1\n",
        "j = 50\n",
        "for i in range(len(values)):\n",
        "    plt.annotate(values[i], (values[i] + j, -0.1 + i), fontsize=12)\n",
        "\n",
        "plt.title('Remaining Record Numbers (Log Plot)',fontsize=20)\n",
        "plt.xlabel('Number of Records',fontsize=14)\n",
        "plt.legend(borderpad=0.2,prop={'size':12})\n",
        "plt.xticks(fontsize=14)\n",
        "plt.yticks(fontsize=12)\n",
        "# plt.xlim(0,10^6)\n",
        "# plt.figsize=(20, 20)\n",
        "# plt.savefig('Remaining_Records.png',dpi=120, facecolor='w',orientation='potrait', bbox_inches=\"tight\")\n",
        "plt.show()"
      ],
      "id": "patient-adobe",
      "execution_count": 62,
      "outputs": [
        {
          "output_type": "display_data",
          "data": {
            "image/png": "[encoded data removed]",
            "text/plain": [
              "<Figure size 432x288 with 1 Axes>"
            ]
          },
          "metadata": {
            "tags": [],
            "needs_background": "light"
          }
        }
      ]
    },
    {
      "cell_type": "markdown",
      "metadata": {
        "id": "meaningful-croatia"
      },
      "source": [
        "## <font color=dark red> Exploratory Data Analysis (EDA) </font>"
      ],
      "id": "meaningful-croatia"
    },
    {
      "cell_type": "markdown",
      "metadata": {
        "id": "revised-samba"
      },
      "source": [
        "#### <font color=blue> Step 1 - Generating a view that displays the minimum and maximum Problem Reported Dates.</font>"
      ],
      "id": "revised-samba"
    },
    {
      "cell_type": "code",
      "metadata": {
        "colab": {
          "base_uri": "https://localhost:8080/"
        },
        "id": "extended-bride",
        "outputId": "3471d444-d2a9-4a3b-ac9e-86eb57321828"
      },
      "source": [
        "# Earliest and latest problem reported dates for all the records\n",
        "\n",
        "df_main['problem_reported'].agg(['min','max'])"
      ],
      "id": "extended-bride",
      "execution_count": 63,
      "outputs": [
        {
          "output_type": "execute_result",
          "data": {
            "text/plain": [
              "min    2009-03-07\n",
              "max    2015-11-12\n",
              "Name: problem_reported, dtype: object"
            ]
          },
          "metadata": {
            "tags": []
          },
          "execution_count": 63
        }
      ]
    },
    {
      "cell_type": "code",
      "metadata": {
        "colab": {
          "base_uri": "https://localhost:8080/"
        },
        "id": "popular-kitty",
        "outputId": "5f6b341d-7efa-4e88-d470-c7427aa1d358"
      },
      "source": [
        "# The least number of problems reported for any day was 1 , and the maximum number of problems were reported\n",
        "# on March 3, 2014. A total of 311 problems reported.\n",
        "\n",
        "df_main['problem_reported'].value_counts(ascending=True)"
      ],
      "id": "popular-kitty",
      "execution_count": 64,
      "outputs": [
        {
          "output_type": "execute_result",
          "data": {
            "text/plain": [
              "2013-01-26      1\n",
              "2013-01-01      1\n",
              "2013-08-04      1\n",
              "2013-10-12      1\n",
              "2011-10-02      1\n",
              "             ... \n",
              "2014-03-04    269\n",
              "2014-10-06    280\n",
              "2013-03-15    297\n",
              "2014-03-31    301\n",
              "2014-12-03    311\n",
              "Name: problem_reported, Length: 1052, dtype: int64"
            ]
          },
          "metadata": {
            "tags": []
          },
          "execution_count": 64
        }
      ]
    },
    {
      "cell_type": "code",
      "metadata": {
        "colab": {
          "base_uri": "https://localhost:8080/",
          "height": 196
        },
        "id": "agricultural-saturn",
        "outputId": "96cb3e5c-b81b-4f2b-d4db-0095db385138"
      },
      "source": [
        "#Earliest and latest problem reported dates for records in 'wo_type_description' group.\n",
        "df_main.groupby('wo_type_description').problem_reported.agg(['min','max'])"
      ],
      "id": "agricultural-saturn",
      "execution_count": 65,
      "outputs": [
        {
          "output_type": "execute_result",
          "data": {
            "text/html": [
              "<div>\n",
              "<style scoped>\n",
              "    .dataframe tbody tr th:only-of-type {\n",
              "        vertical-align: middle;\n",
              "    }\n",
              "\n",
              "    .dataframe tbody tr th {\n",
              "        vertical-align: top;\n",
              "    }\n",
              "\n",
              "    .dataframe thead th {\n",
              "        text-align: right;\n",
              "    }\n",
              "</style>\n",
              "<table border=\"1\" class=\"dataframe\">\n",
              "  <thead>\n",
              "    <tr style=\"text-align: right;\">\n",
              "      <th></th>\n",
              "      <th>min</th>\n",
              "      <th>max</th>\n",
              "    </tr>\n",
              "    <tr>\n",
              "      <th>wo_type_description</th>\n",
              "      <th></th>\n",
              "      <th></th>\n",
              "    </tr>\n",
              "  </thead>\n",
              "  <tbody>\n",
              "    <tr>\n",
              "      <th>Corrective COR</th>\n",
              "      <td>2009-03-07</td>\n",
              "      <td>2015-11-12</td>\n",
              "    </tr>\n",
              "    <tr>\n",
              "      <th>Preventive PM</th>\n",
              "      <td>2012-05-16</td>\n",
              "      <td>2015-04-27</td>\n",
              "    </tr>\n",
              "  </tbody>\n",
              "</table>\n",
              "</div>"
            ],
            "text/plain": [
              "                            min         max\n",
              "wo_type_description                        \n",
              "Corrective COR       2009-03-07  2015-11-12\n",
              "Preventive PM        2012-05-16  2015-04-27"
            ]
          },
          "metadata": {
            "tags": []
          },
          "execution_count": 65
        }
      ]
    },
    {
      "cell_type": "code",
      "metadata": {
        "colab": {
          "base_uri": "https://localhost:8080/",
          "height": 340
        },
        "id": "chronic-longer",
        "outputId": "095f83c4-edfe-4418-db66-a925b60fc296"
      },
      "source": [
        "#Earliest and latest problem reported dates for records in 'work_order_priority_description' group.\n",
        "df_main.groupby('work_order_priority_description').problem_reported.agg(['min','max'])"
      ],
      "id": "chronic-longer",
      "execution_count": 66,
      "outputs": [
        {
          "output_type": "execute_result",
          "data": {
            "text/html": [
              "<div>\n",
              "<style scoped>\n",
              "    .dataframe tbody tr th:only-of-type {\n",
              "        vertical-align: middle;\n",
              "    }\n",
              "\n",
              "    .dataframe tbody tr th {\n",
              "        vertical-align: top;\n",
              "    }\n",
              "\n",
              "    .dataframe thead th {\n",
              "        text-align: right;\n",
              "    }\n",
              "</style>\n",
              "<table border=\"1\" class=\"dataframe\">\n",
              "  <thead>\n",
              "    <tr style=\"text-align: right;\">\n",
              "      <th></th>\n",
              "      <th>min</th>\n",
              "      <th>max</th>\n",
              "    </tr>\n",
              "    <tr>\n",
              "      <th>work_order_priority_description</th>\n",
              "      <th></th>\n",
              "      <th></th>\n",
              "    </tr>\n",
              "  </thead>\n",
              "  <tbody>\n",
              "    <tr>\n",
              "      <th>Bench/Depot Repair</th>\n",
              "      <td>2010-02-16</td>\n",
              "      <td>2015-07-13</td>\n",
              "    </tr>\n",
              "    <tr>\n",
              "      <th>Corrective Maintenance</th>\n",
              "      <td>2009-03-07</td>\n",
              "      <td>2015-11-12</td>\n",
              "    </tr>\n",
              "    <tr>\n",
              "      <th>PMCS</th>\n",
              "      <td>2012-05-16</td>\n",
              "      <td>2015-04-27</td>\n",
              "    </tr>\n",
              "    <tr>\n",
              "      <th>System - Device Degraded</th>\n",
              "      <td>2011-09-12</td>\n",
              "      <td>2015-04-30</td>\n",
              "    </tr>\n",
              "    <tr>\n",
              "      <th>System - Device Down</th>\n",
              "      <td>2012-05-01</td>\n",
              "      <td>2015-04-30</td>\n",
              "    </tr>\n",
              "  </tbody>\n",
              "</table>\n",
              "</div>"
            ],
            "text/plain": [
              "                                        min         max\n",
              "work_order_priority_description                        \n",
              "Bench/Depot Repair               2010-02-16  2015-07-13\n",
              "Corrective Maintenance           2009-03-07  2015-11-12\n",
              "PMCS                             2012-05-16  2015-04-27\n",
              "System - Device Degraded         2011-09-12  2015-04-30\n",
              "System - Device Down             2012-05-01  2015-04-30"
            ]
          },
          "metadata": {
            "tags": []
          },
          "execution_count": 66
        }
      ]
    },
    {
      "cell_type": "markdown",
      "metadata": {
        "id": "fatty-performer"
      },
      "source": [
        "#### <font color=blue> Step 2 - Generating a view that displays the total parts used by adding 'num_parts_from_storeroom' + 'num_parts_from_po'.</font>"
      ],
      "id": "fatty-performer"
    },
    {
      "cell_type": "code",
      "metadata": {
        "id": "extra-conclusion"
      },
      "source": [
        "df_main['total_parts_used'] = df_main['num_parts_from_storeroom'] + df_main['num_parts_from_po']"
      ],
      "id": "extra-conclusion",
      "execution_count": 67,
      "outputs": []
    },
    {
      "cell_type": "code",
      "metadata": {
        "colab": {
          "base_uri": "https://localhost:8080/"
        },
        "id": "average-valley",
        "outputId": "84fc8ef2-5d23-4884-f93f-b40899c86bb2"
      },
      "source": [
        "#Additional column added with the name 'total_parts_used'\n",
        "df_main.shape"
      ],
      "id": "average-valley",
      "execution_count": 68,
      "outputs": [
        {
          "output_type": "execute_result",
          "data": {
            "text/plain": [
              "(84607, 14)"
            ]
          },
          "metadata": {
            "tags": []
          },
          "execution_count": 68
        }
      ]
    },
    {
      "cell_type": "code",
      "metadata": {
        "colab": {
          "base_uri": "https://localhost:8080/"
        },
        "id": "muslim-budget",
        "outputId": "5c1e28fd-699c-42eb-b84f-cfd74a902f3c"
      },
      "source": [
        "df_main['repair_part_stocktype'].unique()"
      ],
      "id": "muslim-budget",
      "execution_count": 69,
      "outputs": [
        {
          "output_type": "execute_result",
          "data": {
            "text/plain": [
              "array(['CONSUMABLE', 'REPAIRABLE', 'No Parts Issued from Inventory'],\n",
              "      dtype=object)"
            ]
          },
          "metadata": {
            "tags": []
          },
          "execution_count": 69
        }
      ]
    },
    {
      "cell_type": "code",
      "metadata": {
        "colab": {
          "base_uri": "https://localhost:8080/",
          "height": 162
        },
        "id": "cardiac-concrete",
        "outputId": "e859d1ca-944f-4ff7-e551-d7805b6a4c81"
      },
      "source": [
        "df_main.groupby(['wo_type_description']).total_parts_used.sum().to_frame()"
      ],
      "id": "cardiac-concrete",
      "execution_count": 70,
      "outputs": [
        {
          "output_type": "execute_result",
          "data": {
            "text/html": [
              "<div>\n",
              "<style scoped>\n",
              "    .dataframe tbody tr th:only-of-type {\n",
              "        vertical-align: middle;\n",
              "    }\n",
              "\n",
              "    .dataframe tbody tr th {\n",
              "        vertical-align: top;\n",
              "    }\n",
              "\n",
              "    .dataframe thead th {\n",
              "        text-align: right;\n",
              "    }\n",
              "</style>\n",
              "<table border=\"1\" class=\"dataframe\">\n",
              "  <thead>\n",
              "    <tr style=\"text-align: right;\">\n",
              "      <th></th>\n",
              "      <th>total_parts_used</th>\n",
              "    </tr>\n",
              "    <tr>\n",
              "      <th>wo_type_description</th>\n",
              "      <th></th>\n",
              "    </tr>\n",
              "  </thead>\n",
              "  <tbody>\n",
              "    <tr>\n",
              "      <th>Corrective COR</th>\n",
              "      <td>277942</td>\n",
              "    </tr>\n",
              "    <tr>\n",
              "      <th>Preventive PM</th>\n",
              "      <td>697</td>\n",
              "    </tr>\n",
              "  </tbody>\n",
              "</table>\n",
              "</div>"
            ],
            "text/plain": [
              "                     total_parts_used\n",
              "wo_type_description                  \n",
              "Corrective COR                 277942\n",
              "Preventive PM                     697"
            ]
          },
          "metadata": {
            "tags": []
          },
          "execution_count": 70
        }
      ]
    },
    {
      "cell_type": "markdown",
      "metadata": {
        "id": "outstanding-silicon"
      },
      "source": [
        "<font color = green> Additional Request for Milestone 1 added.</font>"
      ],
      "id": "outstanding-silicon"
    },
    {
      "cell_type": "code",
      "metadata": {
        "colab": {
          "base_uri": "https://localhost:8080/",
          "height": 272
        },
        "id": "green-valve",
        "outputId": "f084e311-228c-4f99-99b4-16f98562f2ca"
      },
      "source": [
        "df_main.groupby(['wo_type_description','repair_part_stocktype']).total_parts_used.sum().to_frame()"
      ],
      "id": "green-valve",
      "execution_count": 71,
      "outputs": [
        {
          "output_type": "execute_result",
          "data": {
            "text/html": [
              "<div>\n",
              "<style scoped>\n",
              "    .dataframe tbody tr th:only-of-type {\n",
              "        vertical-align: middle;\n",
              "    }\n",
              "\n",
              "    .dataframe tbody tr th {\n",
              "        vertical-align: top;\n",
              "    }\n",
              "\n",
              "    .dataframe thead th {\n",
              "        text-align: right;\n",
              "    }\n",
              "</style>\n",
              "<table border=\"1\" class=\"dataframe\">\n",
              "  <thead>\n",
              "    <tr style=\"text-align: right;\">\n",
              "      <th></th>\n",
              "      <th></th>\n",
              "      <th>total_parts_used</th>\n",
              "    </tr>\n",
              "    <tr>\n",
              "      <th>wo_type_description</th>\n",
              "      <th>repair_part_stocktype</th>\n",
              "      <th></th>\n",
              "    </tr>\n",
              "  </thead>\n",
              "  <tbody>\n",
              "    <tr>\n",
              "      <th rowspan=\"3\" valign=\"top\">Corrective COR</th>\n",
              "      <th>CONSUMABLE</th>\n",
              "      <td>257620</td>\n",
              "    </tr>\n",
              "    <tr>\n",
              "      <th>No Parts Issued from Inventory</th>\n",
              "      <td>1358</td>\n",
              "    </tr>\n",
              "    <tr>\n",
              "      <th>REPAIRABLE</th>\n",
              "      <td>18964</td>\n",
              "    </tr>\n",
              "    <tr>\n",
              "      <th rowspan=\"2\" valign=\"top\">Preventive PM</th>\n",
              "      <th>CONSUMABLE</th>\n",
              "      <td>687</td>\n",
              "    </tr>\n",
              "    <tr>\n",
              "      <th>REPAIRABLE</th>\n",
              "      <td>10</td>\n",
              "    </tr>\n",
              "  </tbody>\n",
              "</table>\n",
              "</div>"
            ],
            "text/plain": [
              "                                                    total_parts_used\n",
              "wo_type_description repair_part_stocktype                           \n",
              "Corrective COR      CONSUMABLE                                257620\n",
              "                    No Parts Issued from Inventory              1358\n",
              "                    REPAIRABLE                                 18964\n",
              "Preventive PM       CONSUMABLE                                   687\n",
              "                    REPAIRABLE                                    10"
            ]
          },
          "metadata": {
            "tags": []
          },
          "execution_count": 71
        }
      ]
    },
    {
      "cell_type": "code",
      "metadata": {
        "colab": {
          "base_uri": "https://localhost:8080/",
          "height": 255
        },
        "id": "acoustic-adult",
        "outputId": "fec11292-189f-4739-f93a-475c89ee8743"
      },
      "source": [
        "df_main.groupby('work_order_priority_description').total_parts_used.sum().to_frame()"
      ],
      "id": "acoustic-adult",
      "execution_count": 72,
      "outputs": [
        {
          "output_type": "execute_result",
          "data": {
            "text/html": [
              "<div>\n",
              "<style scoped>\n",
              "    .dataframe tbody tr th:only-of-type {\n",
              "        vertical-align: middle;\n",
              "    }\n",
              "\n",
              "    .dataframe tbody tr th {\n",
              "        vertical-align: top;\n",
              "    }\n",
              "\n",
              "    .dataframe thead th {\n",
              "        text-align: right;\n",
              "    }\n",
              "</style>\n",
              "<table border=\"1\" class=\"dataframe\">\n",
              "  <thead>\n",
              "    <tr style=\"text-align: right;\">\n",
              "      <th></th>\n",
              "      <th>total_parts_used</th>\n",
              "    </tr>\n",
              "    <tr>\n",
              "      <th>work_order_priority_description</th>\n",
              "      <th></th>\n",
              "    </tr>\n",
              "  </thead>\n",
              "  <tbody>\n",
              "    <tr>\n",
              "      <th>Bench/Depot Repair</th>\n",
              "      <td>163057</td>\n",
              "    </tr>\n",
              "    <tr>\n",
              "      <th>Corrective Maintenance</th>\n",
              "      <td>112150</td>\n",
              "    </tr>\n",
              "    <tr>\n",
              "      <th>PMCS</th>\n",
              "      <td>889</td>\n",
              "    </tr>\n",
              "    <tr>\n",
              "      <th>System - Device Degraded</th>\n",
              "      <td>709</td>\n",
              "    </tr>\n",
              "    <tr>\n",
              "      <th>System - Device Down</th>\n",
              "      <td>1834</td>\n",
              "    </tr>\n",
              "  </tbody>\n",
              "</table>\n",
              "</div>"
            ],
            "text/plain": [
              "                                 total_parts_used\n",
              "work_order_priority_description                  \n",
              "Bench/Depot Repair                         163057\n",
              "Corrective Maintenance                     112150\n",
              "PMCS                                          889\n",
              "System - Device Degraded                      709\n",
              "System - Device Down                         1834"
            ]
          },
          "metadata": {
            "tags": []
          },
          "execution_count": 72
        }
      ]
    },
    {
      "cell_type": "markdown",
      "metadata": {
        "id": "labeled-milton"
      },
      "source": [
        "<font color = green> Additional Request for Milestone 1 added.</font>"
      ],
      "id": "labeled-milton"
    },
    {
      "cell_type": "code",
      "metadata": {
        "colab": {
          "base_uri": "https://localhost:8080/",
          "height": 602
        },
        "id": "vulnerable-publication",
        "outputId": "7c5083d9-236c-4741-ab68-f1b8bf1a4842"
      },
      "source": [
        "df_main.groupby(['work_order_priority_description','repair_part_stocktype']).total_parts_used.sum().to_frame()"
      ],
      "id": "vulnerable-publication",
      "execution_count": 73,
      "outputs": [
        {
          "output_type": "execute_result",
          "data": {
            "text/html": [
              "<div>\n",
              "<style scoped>\n",
              "    .dataframe tbody tr th:only-of-type {\n",
              "        vertical-align: middle;\n",
              "    }\n",
              "\n",
              "    .dataframe tbody tr th {\n",
              "        vertical-align: top;\n",
              "    }\n",
              "\n",
              "    .dataframe thead th {\n",
              "        text-align: right;\n",
              "    }\n",
              "</style>\n",
              "<table border=\"1\" class=\"dataframe\">\n",
              "  <thead>\n",
              "    <tr style=\"text-align: right;\">\n",
              "      <th></th>\n",
              "      <th></th>\n",
              "      <th>total_parts_used</th>\n",
              "    </tr>\n",
              "    <tr>\n",
              "      <th>work_order_priority_description</th>\n",
              "      <th>repair_part_stocktype</th>\n",
              "      <th></th>\n",
              "    </tr>\n",
              "  </thead>\n",
              "  <tbody>\n",
              "    <tr>\n",
              "      <th rowspan=\"3\" valign=\"top\">Bench/Depot Repair</th>\n",
              "      <th>CONSUMABLE</th>\n",
              "      <td>155093</td>\n",
              "    </tr>\n",
              "    <tr>\n",
              "      <th>No Parts Issued from Inventory</th>\n",
              "      <td>1266</td>\n",
              "    </tr>\n",
              "    <tr>\n",
              "      <th>REPAIRABLE</th>\n",
              "      <td>6698</td>\n",
              "    </tr>\n",
              "    <tr>\n",
              "      <th rowspan=\"3\" valign=\"top\">Corrective Maintenance</th>\n",
              "      <th>CONSUMABLE</th>\n",
              "      <td>100496</td>\n",
              "    </tr>\n",
              "    <tr>\n",
              "      <th>No Parts Issued from Inventory</th>\n",
              "      <td>86</td>\n",
              "    </tr>\n",
              "    <tr>\n",
              "      <th>REPAIRABLE</th>\n",
              "      <td>11568</td>\n",
              "    </tr>\n",
              "    <tr>\n",
              "      <th rowspan=\"3\" valign=\"top\">PMCS</th>\n",
              "      <th>CONSUMABLE</th>\n",
              "      <td>854</td>\n",
              "    </tr>\n",
              "    <tr>\n",
              "      <th>No Parts Issued from Inventory</th>\n",
              "      <td>4</td>\n",
              "    </tr>\n",
              "    <tr>\n",
              "      <th>REPAIRABLE</th>\n",
              "      <td>31</td>\n",
              "    </tr>\n",
              "    <tr>\n",
              "      <th rowspan=\"3\" valign=\"top\">System - Device Degraded</th>\n",
              "      <th>CONSUMABLE</th>\n",
              "      <td>512</td>\n",
              "    </tr>\n",
              "    <tr>\n",
              "      <th>No Parts Issued from Inventory</th>\n",
              "      <td>2</td>\n",
              "    </tr>\n",
              "    <tr>\n",
              "      <th>REPAIRABLE</th>\n",
              "      <td>195</td>\n",
              "    </tr>\n",
              "    <tr>\n",
              "      <th rowspan=\"2\" valign=\"top\">System - Device Down</th>\n",
              "      <th>CONSUMABLE</th>\n",
              "      <td>1352</td>\n",
              "    </tr>\n",
              "    <tr>\n",
              "      <th>REPAIRABLE</th>\n",
              "      <td>482</td>\n",
              "    </tr>\n",
              "  </tbody>\n",
              "</table>\n",
              "</div>"
            ],
            "text/plain": [
              "                                                                total_parts_used\n",
              "work_order_priority_description repair_part_stocktype                           \n",
              "Bench/Depot Repair              CONSUMABLE                                155093\n",
              "                                No Parts Issued from Inventory              1266\n",
              "                                REPAIRABLE                                  6698\n",
              "Corrective Maintenance          CONSUMABLE                                100496\n",
              "                                No Parts Issued from Inventory                86\n",
              "                                REPAIRABLE                                 11568\n",
              "PMCS                            CONSUMABLE                                   854\n",
              "                                No Parts Issued from Inventory                 4\n",
              "                                REPAIRABLE                                    31\n",
              "System - Device Degraded        CONSUMABLE                                   512\n",
              "                                No Parts Issued from Inventory                 2\n",
              "                                REPAIRABLE                                   195\n",
              "System - Device Down            CONSUMABLE                                  1352\n",
              "                                REPAIRABLE                                   482"
            ]
          },
          "metadata": {
            "tags": []
          },
          "execution_count": 73
        }
      ]
    },
    {
      "cell_type": "markdown",
      "metadata": {
        "id": "fifth-exercise"
      },
      "source": [
        "#### <font color=blue> Step 3 - Generating a view that displays the count of different parts used by distinct 'repair_part_number'.</font>"
      ],
      "id": "fifth-exercise"
    },
    {
      "cell_type": "code",
      "metadata": {
        "id": "material-moderator"
      },
      "source": [
        "pd.set_option('display.max_rows',10)"
      ],
      "id": "material-moderator",
      "execution_count": 74,
      "outputs": []
    },
    {
      "cell_type": "code",
      "metadata": {
        "colab": {
          "base_uri": "https://localhost:8080/",
          "height": 538
        },
        "id": "naughty-comparative",
        "outputId": "8e1117f3-0386-4181-eb3e-0db7e687dbee"
      },
      "source": [
        "df_main.groupby('wo_type_description').repair_part_number.value_counts().to_frame()"
      ],
      "id": "naughty-comparative",
      "execution_count": 75,
      "outputs": [
        {
          "output_type": "execute_result",
          "data": {
            "text/html": [
              "<div>\n",
              "<style scoped>\n",
              "    .dataframe tbody tr th:only-of-type {\n",
              "        vertical-align: middle;\n",
              "    }\n",
              "\n",
              "    .dataframe tbody tr th {\n",
              "        vertical-align: top;\n",
              "    }\n",
              "\n",
              "    .dataframe thead th {\n",
              "        text-align: right;\n",
              "    }\n",
              "</style>\n",
              "<table border=\"1\" class=\"dataframe\">\n",
              "  <thead>\n",
              "    <tr style=\"text-align: right;\">\n",
              "      <th></th>\n",
              "      <th></th>\n",
              "      <th>repair_part_number</th>\n",
              "    </tr>\n",
              "    <tr>\n",
              "      <th>wo_type_description</th>\n",
              "      <th>repair_part_number</th>\n",
              "      <th></th>\n",
              "    </tr>\n",
              "  </thead>\n",
              "  <tbody>\n",
              "    <tr>\n",
              "      <th rowspan=\"5\" valign=\"top\">Corrective COR</th>\n",
              "      <th>924013066</th>\n",
              "      <td>6447</td>\n",
              "    </tr>\n",
              "    <tr>\n",
              "      <th>1021502</th>\n",
              "      <td>3536</td>\n",
              "    </tr>\n",
              "    <tr>\n",
              "      <th>91253A104</th>\n",
              "      <td>3061</td>\n",
              "    </tr>\n",
              "    <tr>\n",
              "      <th>921342660</th>\n",
              "      <td>1857</td>\n",
              "    </tr>\n",
              "    <tr>\n",
              "      <th>93135A076</th>\n",
              "      <td>1667</td>\n",
              "    </tr>\n",
              "    <tr>\n",
              "      <th>...</th>\n",
              "      <th>...</th>\n",
              "      <td>...</td>\n",
              "    </tr>\n",
              "    <tr>\n",
              "      <th rowspan=\"5\" valign=\"top\">Preventive PM</th>\n",
              "      <th>GMA-15A</th>\n",
              "      <td>1</td>\n",
              "    </tr>\n",
              "    <tr>\n",
              "      <th>KQ2H16-03S</th>\n",
              "      <td>1</td>\n",
              "    </tr>\n",
              "    <tr>\n",
              "      <th>KQ2H16-UO3</th>\n",
              "      <td>1</td>\n",
              "    </tr>\n",
              "    <tr>\n",
              "      <th>LRA911-CR-B/250N</th>\n",
              "      <td>1</td>\n",
              "    </tr>\n",
              "    <tr>\n",
              "      <th>M23053/5-108-0</th>\n",
              "      <td>1</td>\n",
              "    </tr>\n",
              "  </tbody>\n",
              "</table>\n",
              "<p>2575 rows × 1 columns</p>\n",
              "</div>"
            ],
            "text/plain": [
              "                                        repair_part_number\n",
              "wo_type_description repair_part_number                    \n",
              "Corrective COR      924013066                         6447\n",
              "                    1021502                           3536\n",
              "                    91253A104                         3061\n",
              "                    921342660                         1857\n",
              "                    93135A076                         1667\n",
              "...                                                    ...\n",
              "Preventive PM       GMA-15A                              1\n",
              "                    KQ2H16-03S                           1\n",
              "                    KQ2H16-UO3                           1\n",
              "                    LRA911-CR-B/250N                     1\n",
              "                    M23053/5-108-0                       1\n",
              "\n",
              "[2575 rows x 1 columns]"
            ]
          },
          "metadata": {
            "tags": []
          },
          "execution_count": 75
        }
      ]
    },
    {
      "cell_type": "code",
      "metadata": {
        "colab": {
          "base_uri": "https://localhost:8080/",
          "height": 538
        },
        "id": "convinced-directory",
        "outputId": "a24211a9-0bad-4576-a46b-249f1ca04526"
      },
      "source": [
        "df_main.groupby('work_order_priority_description').repair_part_number.value_counts().to_frame()"
      ],
      "id": "convinced-directory",
      "execution_count": 76,
      "outputs": [
        {
          "output_type": "execute_result",
          "data": {
            "text/html": [
              "<div>\n",
              "<style scoped>\n",
              "    .dataframe tbody tr th:only-of-type {\n",
              "        vertical-align: middle;\n",
              "    }\n",
              "\n",
              "    .dataframe tbody tr th {\n",
              "        vertical-align: top;\n",
              "    }\n",
              "\n",
              "    .dataframe thead th {\n",
              "        text-align: right;\n",
              "    }\n",
              "</style>\n",
              "<table border=\"1\" class=\"dataframe\">\n",
              "  <thead>\n",
              "    <tr style=\"text-align: right;\">\n",
              "      <th></th>\n",
              "      <th></th>\n",
              "      <th>repair_part_number</th>\n",
              "    </tr>\n",
              "    <tr>\n",
              "      <th>work_order_priority_description</th>\n",
              "      <th>repair_part_number</th>\n",
              "      <th></th>\n",
              "    </tr>\n",
              "  </thead>\n",
              "  <tbody>\n",
              "    <tr>\n",
              "      <th rowspan=\"5\" valign=\"top\">Bench/Depot Repair</th>\n",
              "      <th>924013066</th>\n",
              "      <td>2409</td>\n",
              "    </tr>\n",
              "    <tr>\n",
              "      <th>91253A104</th>\n",
              "      <td>1343</td>\n",
              "    </tr>\n",
              "    <tr>\n",
              "      <th>95647A111</th>\n",
              "      <td>1040</td>\n",
              "    </tr>\n",
              "    <tr>\n",
              "      <th>1021502</th>\n",
              "      <td>891</td>\n",
              "    </tr>\n",
              "    <tr>\n",
              "      <th>93135A076</th>\n",
              "      <td>717</td>\n",
              "    </tr>\n",
              "    <tr>\n",
              "      <th>...</th>\n",
              "      <th>...</th>\n",
              "      <td>...</td>\n",
              "    </tr>\n",
              "    <tr>\n",
              "      <th rowspan=\"5\" valign=\"top\">System - Device Down</th>\n",
              "      <th>MS3367-4-9</th>\n",
              "      <td>1</td>\n",
              "    </tr>\n",
              "    <tr>\n",
              "      <th>PS2-MOUSE</th>\n",
              "      <td>1</td>\n",
              "    </tr>\n",
              "    <tr>\n",
              "      <th>R724075</th>\n",
              "      <td>1</td>\n",
              "    </tr>\n",
              "    <tr>\n",
              "      <th>R9010344</th>\n",
              "      <td>1</td>\n",
              "    </tr>\n",
              "    <tr>\n",
              "      <th>R9023011</th>\n",
              "      <td>1</td>\n",
              "    </tr>\n",
              "  </tbody>\n",
              "</table>\n",
              "<p>3594 rows × 1 columns</p>\n",
              "</div>"
            ],
            "text/plain": [
              "                                                    repair_part_number\n",
              "work_order_priority_description repair_part_number                    \n",
              "Bench/Depot Repair              924013066                         2409\n",
              "                                91253A104                         1343\n",
              "                                95647A111                         1040\n",
              "                                1021502                            891\n",
              "                                93135A076                          717\n",
              "...                                                                ...\n",
              "System - Device Down            MS3367-4-9                           1\n",
              "                                PS2-MOUSE                            1\n",
              "                                R724075                              1\n",
              "                                R9010344                             1\n",
              "                                R9023011                             1\n",
              "\n",
              "[3594 rows x 1 columns]"
            ]
          },
          "metadata": {
            "tags": []
          },
          "execution_count": 76
        }
      ]
    },
    {
      "cell_type": "markdown",
      "metadata": {
        "id": "departmental-router"
      },
      "source": [
        "## <font color=dark red> Data Preparation  </font>"
      ],
      "id": "departmental-router"
    },
    {
      "cell_type": "markdown",
      "metadata": {
        "id": "noticed-simon"
      },
      "source": [
        "#### <font color=blue> Step 1 - Creating 4 new columns for Demand Interval. Abbreviate to DI-COR, DI-PM, DI-NMC, DI-PMC</font>"
      ],
      "id": "noticed-simon"
    },
    {
      "cell_type": "code",
      "metadata": {
        "colab": {
          "base_uri": "https://localhost:8080/",
          "height": 898
        },
        "id": "afraid-explanation",
        "outputId": "4be33337-6c0b-49bc-8b42-15b20bae74f4"
      },
      "source": [
        "df_main"
      ],
      "id": "afraid-explanation",
      "execution_count": 77,
      "outputs": [
        {
          "output_type": "execute_result",
          "data": {
            "text/html": [
              "<div>\n",
              "<style scoped>\n",
              "    .dataframe tbody tr th:only-of-type {\n",
              "        vertical-align: middle;\n",
              "    }\n",
              "\n",
              "    .dataframe tbody tr th {\n",
              "        vertical-align: top;\n",
              "    }\n",
              "\n",
              "    .dataframe thead th {\n",
              "        text-align: right;\n",
              "    }\n",
              "</style>\n",
              "<table border=\"1\" class=\"dataframe\">\n",
              "  <thead>\n",
              "    <tr style=\"text-align: right;\">\n",
              "      <th></th>\n",
              "      <th>device_number</th>\n",
              "      <th>device_description</th>\n",
              "      <th>site</th>\n",
              "      <th>work_order_number</th>\n",
              "      <th>work_order_priority_description</th>\n",
              "      <th>wo_type_description</th>\n",
              "      <th>problem_reported</th>\n",
              "      <th>lot_year</th>\n",
              "      <th>num_parts_from_storeroom</th>\n",
              "      <th>num_parts_from_po</th>\n",
              "      <th>repair_part_number</th>\n",
              "      <th>repair_part_name</th>\n",
              "      <th>repair_part_stocktype</th>\n",
              "      <th>total_parts_used</th>\n",
              "    </tr>\n",
              "  </thead>\n",
              "  <tbody>\n",
              "    <tr>\n",
              "      <th>3</th>\n",
              "      <td>07-129</td>\n",
              "      <td>Engagement Skills Trainer (EST) 2000</td>\n",
              "      <td>Ft Leonard Wood, MO</td>\n",
              "      <td>6425405</td>\n",
              "      <td>Corrective Maintenance</td>\n",
              "      <td>Corrective COR</td>\n",
              "      <td>2014-08-19</td>\n",
              "      <td>6</td>\n",
              "      <td>2</td>\n",
              "      <td>0</td>\n",
              "      <td>93135A076</td>\n",
              "      <td>SCREW, NYLON MOUNTING, SENSOR BOARD (CUBIC) M1...</td>\n",
              "      <td>CONSUMABLE</td>\n",
              "      <td>2</td>\n",
              "    </tr>\n",
              "    <tr>\n",
              "      <th>4</th>\n",
              "      <td>07-129</td>\n",
              "      <td>Engagement Skills Trainer (EST) 2000</td>\n",
              "      <td>Ft Leonard Wood, MO</td>\n",
              "      <td>6425405</td>\n",
              "      <td>Corrective Maintenance</td>\n",
              "      <td>Corrective COR</td>\n",
              "      <td>2014-08-19</td>\n",
              "      <td>6</td>\n",
              "      <td>2</td>\n",
              "      <td>0</td>\n",
              "      <td>924013066</td>\n",
              "      <td>BOARD,  SENSOR , M4 / M16 ,  CUBIC</td>\n",
              "      <td>REPAIRABLE</td>\n",
              "      <td>2</td>\n",
              "    </tr>\n",
              "    <tr>\n",
              "      <th>5</th>\n",
              "      <td>07-129</td>\n",
              "      <td>Engagement Skills Trainer (EST) 2000</td>\n",
              "      <td>Ft Leonard Wood, MO</td>\n",
              "      <td>6425405</td>\n",
              "      <td>Corrective Maintenance</td>\n",
              "      <td>Corrective COR</td>\n",
              "      <td>2014-08-19</td>\n",
              "      <td>6</td>\n",
              "      <td>2</td>\n",
              "      <td>0</td>\n",
              "      <td>94812A111</td>\n",
              "      <td>NUT, NYLON, HEX,.086-56UNC-2B (0400256HN), MCM...</td>\n",
              "      <td>CONSUMABLE</td>\n",
              "      <td>2</td>\n",
              "    </tr>\n",
              "    <tr>\n",
              "      <th>6</th>\n",
              "      <td>07-129</td>\n",
              "      <td>Engagement Skills Trainer (EST) 2000</td>\n",
              "      <td>Ft Leonard Wood, MO</td>\n",
              "      <td>6425405</td>\n",
              "      <td>Corrective Maintenance</td>\n",
              "      <td>Corrective COR</td>\n",
              "      <td>2014-08-19</td>\n",
              "      <td>6</td>\n",
              "      <td>1</td>\n",
              "      <td>0</td>\n",
              "      <td>6002ST</td>\n",
              "      <td>TAG, SHOE / REPAIR (102 TAGS)</td>\n",
              "      <td>CONSUMABLE</td>\n",
              "      <td>1</td>\n",
              "    </tr>\n",
              "    <tr>\n",
              "      <th>7</th>\n",
              "      <td>07-129</td>\n",
              "      <td>Engagement Skills Trainer (EST) 2000</td>\n",
              "      <td>Ft Dix, NJ</td>\n",
              "      <td>6480767</td>\n",
              "      <td>Corrective Maintenance</td>\n",
              "      <td>Corrective COR</td>\n",
              "      <td>2014-09-19</td>\n",
              "      <td>6</td>\n",
              "      <td>1</td>\n",
              "      <td>0</td>\n",
              "      <td>921341194</td>\n",
              "      <td>SELECTOR ASSY, CUBIC</td>\n",
              "      <td>CONSUMABLE</td>\n",
              "      <td>1</td>\n",
              "    </tr>\n",
              "    <tr>\n",
              "      <th>...</th>\n",
              "      <td>...</td>\n",
              "      <td>...</td>\n",
              "      <td>...</td>\n",
              "      <td>...</td>\n",
              "      <td>...</td>\n",
              "      <td>...</td>\n",
              "      <td>...</td>\n",
              "      <td>...</td>\n",
              "      <td>...</td>\n",
              "      <td>...</td>\n",
              "      <td>...</td>\n",
              "      <td>...</td>\n",
              "      <td>...</td>\n",
              "      <td>...</td>\n",
              "    </tr>\n",
              "    <tr>\n",
              "      <th>109572</th>\n",
              "      <td>07-129</td>\n",
              "      <td>Engagement Skills Trainer (EST) 2000</td>\n",
              "      <td>Warfighter Support Center</td>\n",
              "      <td>6668843</td>\n",
              "      <td>Bench/Depot Repair</td>\n",
              "      <td>Corrective COR</td>\n",
              "      <td>2015-05-01</td>\n",
              "      <td>6</td>\n",
              "      <td>6</td>\n",
              "      <td>0</td>\n",
              "      <td>APSC6R3ETD152MJB5S</td>\n",
              "      <td>CAPACITOR, ALUMINUM ORGANIC POLYMER, 1500 UF 6...</td>\n",
              "      <td>CONSUMABLE</td>\n",
              "      <td>6</td>\n",
              "    </tr>\n",
              "    <tr>\n",
              "      <th>109573</th>\n",
              "      <td>07-129</td>\n",
              "      <td>Engagement Skills Trainer (EST) 2000</td>\n",
              "      <td>Warfighter Support Center</td>\n",
              "      <td>6668843</td>\n",
              "      <td>Bench/Depot Repair</td>\n",
              "      <td>Corrective COR</td>\n",
              "      <td>2015-05-01</td>\n",
              "      <td>6</td>\n",
              "      <td>8</td>\n",
              "      <td>0</td>\n",
              "      <td>28301</td>\n",
              "      <td>SCREW, 6-32X3/8 IN. PHILLIPS FLATHEAD MACHINE,...</td>\n",
              "      <td>CONSUMABLE</td>\n",
              "      <td>8</td>\n",
              "    </tr>\n",
              "    <tr>\n",
              "      <th>109577</th>\n",
              "      <td>07-129</td>\n",
              "      <td>Engagement Skills Trainer (EST) 2000</td>\n",
              "      <td>Warfighter Support Center</td>\n",
              "      <td>DR6560719</td>\n",
              "      <td>Bench/Depot Repair</td>\n",
              "      <td>Corrective COR</td>\n",
              "      <td>2014-12-19</td>\n",
              "      <td>6</td>\n",
              "      <td>1</td>\n",
              "      <td>0</td>\n",
              "      <td>KA10F09</td>\n",
              "      <td>FILTER, COALESCING (FILTER ONLY), JUN-AIR</td>\n",
              "      <td>CONSUMABLE</td>\n",
              "      <td>1</td>\n",
              "    </tr>\n",
              "    <tr>\n",
              "      <th>109578</th>\n",
              "      <td>07-129</td>\n",
              "      <td>Engagement Skills Trainer (EST) 2000</td>\n",
              "      <td>Warfighter Support Center</td>\n",
              "      <td>DR6560719</td>\n",
              "      <td>Bench/Depot Repair</td>\n",
              "      <td>Corrective COR</td>\n",
              "      <td>2014-12-19</td>\n",
              "      <td>6</td>\n",
              "      <td>1</td>\n",
              "      <td>0</td>\n",
              "      <td>201112</td>\n",
              "      <td>CONNECTOR, T-JOINT , GRAINGER</td>\n",
              "      <td>CONSUMABLE</td>\n",
              "      <td>1</td>\n",
              "    </tr>\n",
              "    <tr>\n",
              "      <th>109579</th>\n",
              "      <td>07-129</td>\n",
              "      <td>Engagement Skills Trainer (EST) 2000</td>\n",
              "      <td>Warfighter Support Center</td>\n",
              "      <td>DR6560719</td>\n",
              "      <td>Bench/Depot Repair</td>\n",
              "      <td>Corrective COR</td>\n",
              "      <td>2014-12-19</td>\n",
              "      <td>6</td>\n",
              "      <td>3</td>\n",
              "      <td>0</td>\n",
              "      <td>70MDD</td>\n",
              "      <td>GAUGE , AIR COMPRESSOR, Y-PACK, JUN-AIR</td>\n",
              "      <td>CONSUMABLE</td>\n",
              "      <td>3</td>\n",
              "    </tr>\n",
              "  </tbody>\n",
              "</table>\n",
              "<p>84607 rows × 14 columns</p>\n",
              "</div>"
            ],
            "text/plain": [
              "       device_number  ... total_parts_used\n",
              "3             07-129  ...                2\n",
              "4             07-129  ...                2\n",
              "5             07-129  ...                2\n",
              "6             07-129  ...                1\n",
              "7             07-129  ...                1\n",
              "...              ...  ...              ...\n",
              "109572        07-129  ...                6\n",
              "109573        07-129  ...                8\n",
              "109577        07-129  ...                1\n",
              "109578        07-129  ...                1\n",
              "109579        07-129  ...                3\n",
              "\n",
              "[84607 rows x 14 columns]"
            ]
          },
          "metadata": {
            "tags": []
          },
          "execution_count": 77
        }
      ]
    },
    {
      "cell_type": "code",
      "metadata": {
        "id": "developing-burke"
      },
      "source": [
        "# # Lets create separate dataframes for COR, PM, NMC, PMC for convenience and subsequent plotting of Demand Intervals. \n",
        "\n",
        "df_cor = df_main[df_main.wo_type_description.str.contains('Corrective COR')].copy()\n",
        "df_pm = df_main[df_main.wo_type_description.str.contains('Preventive PM')].copy()\n",
        "df_nmc = df_main[df_main.work_order_priority_description.str.contains('System - Device Down')].copy()\n",
        "df_pmc = df_main[df_main.work_order_priority_description.str.contains('System - Device Degraded')].copy()"
      ],
      "id": "developing-burke",
      "execution_count": 78,
      "outputs": []
    },
    {
      "cell_type": "markdown",
      "metadata": {
        "id": "tutorial-parking"
      },
      "source": [
        "#### <font color=blue> Step 2 - Sort by problem_reported.</font>"
      ],
      "id": "tutorial-parking"
    },
    {
      "cell_type": "code",
      "metadata": {
        "colab": {
          "base_uri": "https://localhost:8080/",
          "height": 898
        },
        "id": "numeric-colleague",
        "outputId": "7589be91-cdef-4f28-cb11-140203715e37"
      },
      "source": [
        "df_cor"
      ],
      "id": "numeric-colleague",
      "execution_count": 79,
      "outputs": [
        {
          "output_type": "execute_result",
          "data": {
            "text/html": [
              "<div>\n",
              "<style scoped>\n",
              "    .dataframe tbody tr th:only-of-type {\n",
              "        vertical-align: middle;\n",
              "    }\n",
              "\n",
              "    .dataframe tbody tr th {\n",
              "        vertical-align: top;\n",
              "    }\n",
              "\n",
              "    .dataframe thead th {\n",
              "        text-align: right;\n",
              "    }\n",
              "</style>\n",
              "<table border=\"1\" class=\"dataframe\">\n",
              "  <thead>\n",
              "    <tr style=\"text-align: right;\">\n",
              "      <th></th>\n",
              "      <th>device_number</th>\n",
              "      <th>device_description</th>\n",
              "      <th>site</th>\n",
              "      <th>work_order_number</th>\n",
              "      <th>work_order_priority_description</th>\n",
              "      <th>wo_type_description</th>\n",
              "      <th>problem_reported</th>\n",
              "      <th>lot_year</th>\n",
              "      <th>num_parts_from_storeroom</th>\n",
              "      <th>num_parts_from_po</th>\n",
              "      <th>repair_part_number</th>\n",
              "      <th>repair_part_name</th>\n",
              "      <th>repair_part_stocktype</th>\n",
              "      <th>total_parts_used</th>\n",
              "    </tr>\n",
              "  </thead>\n",
              "  <tbody>\n",
              "    <tr>\n",
              "      <th>3</th>\n",
              "      <td>07-129</td>\n",
              "      <td>Engagement Skills Trainer (EST) 2000</td>\n",
              "      <td>Ft Leonard Wood, MO</td>\n",
              "      <td>6425405</td>\n",
              "      <td>Corrective Maintenance</td>\n",
              "      <td>Corrective COR</td>\n",
              "      <td>2014-08-19</td>\n",
              "      <td>6</td>\n",
              "      <td>2</td>\n",
              "      <td>0</td>\n",
              "      <td>93135A076</td>\n",
              "      <td>SCREW, NYLON MOUNTING, SENSOR BOARD (CUBIC) M1...</td>\n",
              "      <td>CONSUMABLE</td>\n",
              "      <td>2</td>\n",
              "    </tr>\n",
              "    <tr>\n",
              "      <th>4</th>\n",
              "      <td>07-129</td>\n",
              "      <td>Engagement Skills Trainer (EST) 2000</td>\n",
              "      <td>Ft Leonard Wood, MO</td>\n",
              "      <td>6425405</td>\n",
              "      <td>Corrective Maintenance</td>\n",
              "      <td>Corrective COR</td>\n",
              "      <td>2014-08-19</td>\n",
              "      <td>6</td>\n",
              "      <td>2</td>\n",
              "      <td>0</td>\n",
              "      <td>924013066</td>\n",
              "      <td>BOARD,  SENSOR , M4 / M16 ,  CUBIC</td>\n",
              "      <td>REPAIRABLE</td>\n",
              "      <td>2</td>\n",
              "    </tr>\n",
              "    <tr>\n",
              "      <th>5</th>\n",
              "      <td>07-129</td>\n",
              "      <td>Engagement Skills Trainer (EST) 2000</td>\n",
              "      <td>Ft Leonard Wood, MO</td>\n",
              "      <td>6425405</td>\n",
              "      <td>Corrective Maintenance</td>\n",
              "      <td>Corrective COR</td>\n",
              "      <td>2014-08-19</td>\n",
              "      <td>6</td>\n",
              "      <td>2</td>\n",
              "      <td>0</td>\n",
              "      <td>94812A111</td>\n",
              "      <td>NUT, NYLON, HEX,.086-56UNC-2B (0400256HN), MCM...</td>\n",
              "      <td>CONSUMABLE</td>\n",
              "      <td>2</td>\n",
              "    </tr>\n",
              "    <tr>\n",
              "      <th>6</th>\n",
              "      <td>07-129</td>\n",
              "      <td>Engagement Skills Trainer (EST) 2000</td>\n",
              "      <td>Ft Leonard Wood, MO</td>\n",
              "      <td>6425405</td>\n",
              "      <td>Corrective Maintenance</td>\n",
              "      <td>Corrective COR</td>\n",
              "      <td>2014-08-19</td>\n",
              "      <td>6</td>\n",
              "      <td>1</td>\n",
              "      <td>0</td>\n",
              "      <td>6002ST</td>\n",
              "      <td>TAG, SHOE / REPAIR (102 TAGS)</td>\n",
              "      <td>CONSUMABLE</td>\n",
              "      <td>1</td>\n",
              "    </tr>\n",
              "    <tr>\n",
              "      <th>7</th>\n",
              "      <td>07-129</td>\n",
              "      <td>Engagement Skills Trainer (EST) 2000</td>\n",
              "      <td>Ft Dix, NJ</td>\n",
              "      <td>6480767</td>\n",
              "      <td>Corrective Maintenance</td>\n",
              "      <td>Corrective COR</td>\n",
              "      <td>2014-09-19</td>\n",
              "      <td>6</td>\n",
              "      <td>1</td>\n",
              "      <td>0</td>\n",
              "      <td>921341194</td>\n",
              "      <td>SELECTOR ASSY, CUBIC</td>\n",
              "      <td>CONSUMABLE</td>\n",
              "      <td>1</td>\n",
              "    </tr>\n",
              "    <tr>\n",
              "      <th>...</th>\n",
              "      <td>...</td>\n",
              "      <td>...</td>\n",
              "      <td>...</td>\n",
              "      <td>...</td>\n",
              "      <td>...</td>\n",
              "      <td>...</td>\n",
              "      <td>...</td>\n",
              "      <td>...</td>\n",
              "      <td>...</td>\n",
              "      <td>...</td>\n",
              "      <td>...</td>\n",
              "      <td>...</td>\n",
              "      <td>...</td>\n",
              "      <td>...</td>\n",
              "    </tr>\n",
              "    <tr>\n",
              "      <th>109572</th>\n",
              "      <td>07-129</td>\n",
              "      <td>Engagement Skills Trainer (EST) 2000</td>\n",
              "      <td>Warfighter Support Center</td>\n",
              "      <td>6668843</td>\n",
              "      <td>Bench/Depot Repair</td>\n",
              "      <td>Corrective COR</td>\n",
              "      <td>2015-05-01</td>\n",
              "      <td>6</td>\n",
              "      <td>6</td>\n",
              "      <td>0</td>\n",
              "      <td>APSC6R3ETD152MJB5S</td>\n",
              "      <td>CAPACITOR, ALUMINUM ORGANIC POLYMER, 1500 UF 6...</td>\n",
              "      <td>CONSUMABLE</td>\n",
              "      <td>6</td>\n",
              "    </tr>\n",
              "    <tr>\n",
              "      <th>109573</th>\n",
              "      <td>07-129</td>\n",
              "      <td>Engagement Skills Trainer (EST) 2000</td>\n",
              "      <td>Warfighter Support Center</td>\n",
              "      <td>6668843</td>\n",
              "      <td>Bench/Depot Repair</td>\n",
              "      <td>Corrective COR</td>\n",
              "      <td>2015-05-01</td>\n",
              "      <td>6</td>\n",
              "      <td>8</td>\n",
              "      <td>0</td>\n",
              "      <td>28301</td>\n",
              "      <td>SCREW, 6-32X3/8 IN. PHILLIPS FLATHEAD MACHINE,...</td>\n",
              "      <td>CONSUMABLE</td>\n",
              "      <td>8</td>\n",
              "    </tr>\n",
              "    <tr>\n",
              "      <th>109577</th>\n",
              "      <td>07-129</td>\n",
              "      <td>Engagement Skills Trainer (EST) 2000</td>\n",
              "      <td>Warfighter Support Center</td>\n",
              "      <td>DR6560719</td>\n",
              "      <td>Bench/Depot Repair</td>\n",
              "      <td>Corrective COR</td>\n",
              "      <td>2014-12-19</td>\n",
              "      <td>6</td>\n",
              "      <td>1</td>\n",
              "      <td>0</td>\n",
              "      <td>KA10F09</td>\n",
              "      <td>FILTER, COALESCING (FILTER ONLY), JUN-AIR</td>\n",
              "      <td>CONSUMABLE</td>\n",
              "      <td>1</td>\n",
              "    </tr>\n",
              "    <tr>\n",
              "      <th>109578</th>\n",
              "      <td>07-129</td>\n",
              "      <td>Engagement Skills Trainer (EST) 2000</td>\n",
              "      <td>Warfighter Support Center</td>\n",
              "      <td>DR6560719</td>\n",
              "      <td>Bench/Depot Repair</td>\n",
              "      <td>Corrective COR</td>\n",
              "      <td>2014-12-19</td>\n",
              "      <td>6</td>\n",
              "      <td>1</td>\n",
              "      <td>0</td>\n",
              "      <td>201112</td>\n",
              "      <td>CONNECTOR, T-JOINT , GRAINGER</td>\n",
              "      <td>CONSUMABLE</td>\n",
              "      <td>1</td>\n",
              "    </tr>\n",
              "    <tr>\n",
              "      <th>109579</th>\n",
              "      <td>07-129</td>\n",
              "      <td>Engagement Skills Trainer (EST) 2000</td>\n",
              "      <td>Warfighter Support Center</td>\n",
              "      <td>DR6560719</td>\n",
              "      <td>Bench/Depot Repair</td>\n",
              "      <td>Corrective COR</td>\n",
              "      <td>2014-12-19</td>\n",
              "      <td>6</td>\n",
              "      <td>3</td>\n",
              "      <td>0</td>\n",
              "      <td>70MDD</td>\n",
              "      <td>GAUGE , AIR COMPRESSOR, Y-PACK, JUN-AIR</td>\n",
              "      <td>CONSUMABLE</td>\n",
              "      <td>3</td>\n",
              "    </tr>\n",
              "  </tbody>\n",
              "</table>\n",
              "<p>84417 rows × 14 columns</p>\n",
              "</div>"
            ],
            "text/plain": [
              "       device_number  ... total_parts_used\n",
              "3             07-129  ...                2\n",
              "4             07-129  ...                2\n",
              "5             07-129  ...                2\n",
              "6             07-129  ...                1\n",
              "7             07-129  ...                1\n",
              "...              ...  ...              ...\n",
              "109572        07-129  ...                6\n",
              "109573        07-129  ...                8\n",
              "109577        07-129  ...                1\n",
              "109578        07-129  ...                1\n",
              "109579        07-129  ...                3\n",
              "\n",
              "[84417 rows x 14 columns]"
            ]
          },
          "metadata": {
            "tags": []
          },
          "execution_count": 79
        }
      ]
    },
    {
      "cell_type": "code",
      "metadata": {
        "id": "concrete-winner"
      },
      "source": [
        "df_cor = df_cor.sort_values('problem_reported').copy()\n",
        "df_pm = df_pm.sort_values('problem_reported').copy()\n",
        "df_nmc = df_nmc.sort_values('problem_reported').copy()\n",
        "df_pmc = df_pmc.sort_values('problem_reported').copy()"
      ],
      "id": "concrete-winner",
      "execution_count": 80,
      "outputs": []
    },
    {
      "cell_type": "markdown",
      "metadata": {
        "id": "silent-commodity"
      },
      "source": [
        "## <font color=dark red>Exploratory Data Analysis</font>"
      ],
      "id": "silent-commodity"
    },
    {
      "cell_type": "markdown",
      "metadata": {
        "id": "minute-designer"
      },
      "source": [
        "#### <font color=\"blue\">Step 1 - Calculate time interval between problem_reported dates.</font>"
      ],
      "id": "minute-designer"
    },
    {
      "cell_type": "code",
      "metadata": {
        "id": "reasonable-values"
      },
      "source": [
        "# I have named the demand interval columns using lowercase and underscore. \n",
        "# Let me know if you want to change it to what you suggested (DI-COR etc.)"
      ],
      "id": "reasonable-values",
      "execution_count": 81,
      "outputs": []
    },
    {
      "cell_type": "code",
      "metadata": {
        "id": "missing-fetish"
      },
      "source": [
        "df_cor['demand_interval_cor'] = df_cor['problem_reported'].diff() / np.timedelta64(1, 'M')\n",
        "df_pm['demand_interval_pm'] = df_pm['problem_reported'].diff() / np.timedelta64(7, 'D')\n",
        "df_nmc['demand_interval_nmc'] = df_nmc['problem_reported'].diff() / np.timedelta64(7, 'D')\n",
        "df_pmc['demand_interval_pmc'] = df_pmc['problem_reported'].diff() / np.timedelta64(7, 'D')"
      ],
      "id": "missing-fetish",
      "execution_count": 109,
      "outputs": []
    },
    {
      "cell_type": "code",
      "metadata": {
        "colab": {
          "base_uri": "https://localhost:8080/"
        },
        "id": "chinese-shirt",
        "outputId": "fa4a7069-466f-4c14-8356-deec5f59fdf8"
      },
      "source": [
        "df_cor['demand_interval_cor'].unique(), df_cor.shape"
      ],
      "id": "chinese-shirt",
      "execution_count": 110,
      "outputs": [
        {
          "output_type": "execute_result",
          "data": {
            "text/plain": [
              "(array([        nan, 11.36778989,  0.        , 17.21595926,  1.60988932,\n",
              "         0.45996838,  0.1971293 ,  1.77416374,  1.2484856 ,  0.03285488,\n",
              "         0.09856465,  0.06570977,  0.22998419,  0.59138791,  0.13141954,\n",
              "         0.16427442,  0.36140372,  4.00829586]), (84417, 15))"
            ]
          },
          "metadata": {
            "tags": []
          },
          "execution_count": 110
        }
      ]
    },
    {
      "cell_type": "code",
      "metadata": {
        "colab": {
          "base_uri": "https://localhost:8080/"
        },
        "id": "assisted-gibraltar",
        "outputId": "87254353-1769-4fce-ad45-2fa93fb3f677"
      },
      "source": [
        "df_pm['demand_interval_pm'].unique(), df_pm.shape"
      ],
      "id": "assisted-gibraltar",
      "execution_count": 100,
      "outputs": [
        {
          "output_type": "execute_result",
          "data": {
            "text/plain": [
              "(array([        nan,  1.28571429,  0.        ,  0.71428571,  1.71428571,\n",
              "         2.57142857,  0.85714286,  0.14285714,  0.28571429,  2.42857143,\n",
              "         2.14285714,  1.        ,  1.14285714,  0.42857143,  0.57142857,\n",
              "         2.        ,  6.71428571,  4.85714286,  2.71428571,  3.57142857,\n",
              "        12.57142857,  3.42857143,  4.57142857,  1.42857143,  5.85714286,\n",
              "         4.14285714,  4.71428571, 13.28571429,  3.71428571,  8.        ,\n",
              "         1.85714286,  6.57142857,  5.        ,  2.28571429]), (190, 15))"
            ]
          },
          "metadata": {
            "tags": []
          },
          "execution_count": 100
        }
      ]
    },
    {
      "cell_type": "code",
      "metadata": {
        "colab": {
          "base_uri": "https://localhost:8080/"
        },
        "id": "geological-inspector",
        "outputId": "aba1f7a7-3deb-4097-c9b7-096dbc096909"
      },
      "source": [
        "df_nmc['demand_interval_nmc'].unique(), df_nmc.shape"
      ],
      "id": "geological-inspector",
      "execution_count": 101,
      "outputs": [
        {
          "output_type": "execute_result",
          "data": {
            "text/plain": [
              "(array([       nan, 0.        , 0.14285714, 0.71428571, 0.28571429,\n",
              "        0.85714286, 0.57142857, 2.14285714, 1.        , 1.28571429,\n",
              "        1.14285714, 0.42857143, 1.71428571, 2.        , 1.42857143,\n",
              "        2.71428571]), (863, 15))"
            ]
          },
          "metadata": {
            "tags": []
          },
          "execution_count": 101
        }
      ]
    },
    {
      "cell_type": "code",
      "metadata": {
        "colab": {
          "base_uri": "https://localhost:8080/"
        },
        "id": "lasting-telephone",
        "outputId": "c1dd20ee-71a0-4392-c264-44c5bd63f3e8"
      },
      "source": [
        "df_pmc['demand_interval_pmc'].unique(), df_pmc.shape"
      ],
      "id": "lasting-telephone",
      "execution_count": 102,
      "outputs": [
        {
          "output_type": "execute_result",
          "data": {
            "text/plain": [
              "(array([        nan, 28.42857143,  4.        ,  0.14285714,  0.        ,\n",
              "         0.57142857,  1.28571429,  0.71428571,  1.14285714,  2.71428571,\n",
              "         0.28571429,  0.42857143,  0.85714286,  2.        ,  1.        ,\n",
              "         1.71428571,  2.14285714,  1.42857143,  2.85714286,  2.42857143,\n",
              "         1.85714286,  3.        ,  2.28571429]), (396, 15))"
            ]
          },
          "metadata": {
            "tags": []
          },
          "execution_count": 102
        }
      ]
    },
    {
      "cell_type": "markdown",
      "metadata": {
        "id": "worth-sword"
      },
      "source": [
        "#### <font color=\"blue\">Step 2 - Scatter Plot of Interval and Size (Raw Numbers no averages for this plot) </font>"
      ],
      "id": "worth-sword"
    },
    {
      "cell_type": "code",
      "metadata": {
        "id": "south-schedule"
      },
      "source": [
        "sns.set_context(\"poster\")\n"
      ],
      "id": "south-schedule",
      "execution_count": 111,
      "outputs": []
    },
    {
      "cell_type": "code",
      "metadata": {
        "colab": {
          "base_uri": "https://localhost:8080/",
          "height": 305
        },
        "id": "fresh-malpractice",
        "outputId": "d8128088-76ea-43d6-9124-c8873b11a576"
      },
      "source": [
        "fig = plt.figure()\n",
        "ax = plt.gca()\n",
        "ax.scatter(df_cor['demand_interval_cor'],df_cor['total_parts_used'], c='aqua',marker='.',edgecolor='k');\n",
        "ax.set_title('Demand Interval Vs Total Parts Used (Corrective COR)',size=18);\n",
        "ax.set_ylabel('Total Number of Parts', fontsize = 16);\n",
        "ax.set_xlabel('Demand Interval in Periods', fontsize = 16);\n",
        "ax.tick_params(direction='out', length=6, width=2, labelsize=11, pad=1.5)\n",
        "# ax.set_xscale('log')\n",
        "# ax.axis(xmin=0,xmax=0.0001)"
      ],
      "id": "fresh-malpractice",
      "execution_count": 112,
      "outputs": [
        {
          "output_type": "display_data",
          "data": {
            "image/png": "[encoded data removed]",
            "text/plain": [
              "<Figure size 432x288 with 1 Axes>"
            ]
          },
          "metadata": {
            "tags": [],
            "needs_background": "light"
          }
        }
      ]
    },
    {
      "cell_type": "code",
      "metadata": {
        "colab": {
          "base_uri": "https://localhost:8080/",
          "height": 305
        },
        "id": "nuclear-paper",
        "outputId": "8bb89298-0879-4746-fb2e-4c80abb6d2b5"
      },
      "source": [
        "fig = plt.figure()\n",
        "ax = plt.gca()\n",
        "ax.scatter(df_pm['demand_interval_pm'],df_pm['total_parts_used'], c='orange',marker='.',edgecolor='k')\n",
        "ax.set_title('Demand Interval Vs Total Parts Used (Preventive PM)',size=18);\n",
        "ax.set_ylabel('Total Number of Parts', fontsize = 16);\n",
        "ax.set_xlabel('Demand Interval in Periods', fontsize = 16);\n",
        "ax.tick_params(direction='out', length=6, width=2, labelsize=11, pad=1.5);"
      ],
      "id": "nuclear-paper",
      "execution_count": 89,
      "outputs": [
        {
          "output_type": "display_data",
          "data": {
            "image/png": "[encoded data removed]",
            "text/plain": [
              "<Figure size 432x288 with 1 Axes>"
            ]
          },
          "metadata": {
            "tags": [],
            "needs_background": "light"
          }
        }
      ]
    },
    {
      "cell_type": "code",
      "metadata": {
        "colab": {
          "base_uri": "https://localhost:8080/",
          "height": 305
        },
        "id": "exceptional-picking",
        "outputId": "7fe04d3c-f386-4972-85be-bafd0d106bb7"
      },
      "source": [
        "fig = plt.figure()\n",
        "ax = plt.gca()\n",
        "ax.scatter(df_nmc['demand_interval_nmc'],df_nmc['total_parts_used'], c='k',marker='.',edgecolor='k')\n",
        "ax.set_title('Demand Interval Vs Total Parts Used (System - Device Down)',size=18);\n",
        "ax.set_ylabel('Total Number of Parts', fontsize = 16);\n",
        "ax.set_xlabel('Demand Interval in Periods', fontsize = 16);\n",
        "ax.tick_params(direction='out', length=6, width=2, labelsize=11, pad=1.5);"
      ],
      "id": "exceptional-picking",
      "execution_count": 90,
      "outputs": [
        {
          "output_type": "display_data",
          "data": {
            "image/png": "[encoded data removed]",
            "text/plain": [
              "<Figure size 432x288 with 1 Axes>"
            ]
          },
          "metadata": {
            "tags": [],
            "needs_background": "light"
          }
        }
      ]
    },
    {
      "cell_type": "code",
      "metadata": {
        "colab": {
          "base_uri": "https://localhost:8080/",
          "height": 305
        },
        "id": "swedish-floor",
        "outputId": "50e16965-381e-45f8-9ab2-7e589c0d6bda"
      },
      "source": [
        "fig = plt.figure()\n",
        "ax = plt.gca()\n",
        "# ax.set_xscale('log')\n",
        "ax.scatter(df_pmc['demand_interval_pmc'],df_pmc['total_parts_used'], c='lime',marker='.',edgecolor='k')\n",
        "ax.set_title('Demand Interval Vs Total Parts Used (System - Device Degraded)',size=18);\n",
        "ax.set_ylabel('Total Number of Parts', fontsize = 16);\n",
        "ax.set_xlabel('Demand Interval in Periods', fontsize = 16);\n",
        "ax.tick_params(direction='out', length=6, width=2, labelsize=11, pad=1.5);"
      ],
      "id": "swedish-floor",
      "execution_count": 91,
      "outputs": [
        {
          "output_type": "display_data",
          "data": {
            "image/png": "[encoded data removed]",
            "text/plain": [
              "<Figure size 432x288 with 1 Axes>"
            ]
          },
          "metadata": {
            "tags": [],
            "needs_background": "light"
          }
        }
      ]
    },
    {
      "cell_type": "markdown",
      "metadata": {
        "id": "specified-louisiana"
      },
      "source": [
        "#### <font color=\"blue\">Step 3 - Looking for seasonality. </font>"
      ],
      "id": "specified-louisiana"
    },
    {
      "cell_type": "code",
      "metadata": {
        "colab": {
          "base_uri": "https://localhost:8080/",
          "height": 304
        },
        "id": "promising-excess",
        "outputId": "a0e21993-d9d2-4f83-caa6-f6ba7e156e86"
      },
      "source": [
        "fig = plt.figure()\n",
        "ax = plt.gca()\n",
        "ax.bar(df_cor['problem_reported'],df_cor['total_parts_used'],color='darkturquoise');\n",
        "ax.set_title('Problem Reported Vs Total Parts Used (Corrective COR)',size=18);\n",
        "ax.set_ylabel('Total Number of Parts (log)', fontsize = 16);\n",
        "ax.set_xlabel('Problem Reported', fontsize = 16);\n",
        "ax.tick_params(direction='out', length=6, width=2, labelsize=8, pad=1.5)\n",
        "ax.set_yscale('log');\n",
        "# plt.scatter(df_cor['problem_reported'],df_cor['demand_interval_cor'])"
      ],
      "id": "promising-excess",
      "execution_count": 105,
      "outputs": [
        {
          "output_type": "display_data",
          "data": {
            "image/png": "[encoded data removed]",
            "text/plain": [
              "<Figure size 432x288 with 1 Axes>"
            ]
          },
          "metadata": {
            "tags": [],
            "needs_background": "light"
          }
        }
      ]
    },
    {
      "cell_type": "code",
      "metadata": {
        "colab": {
          "base_uri": "https://localhost:8080/",
          "height": 304
        },
        "id": "caroline-blame",
        "outputId": "7b888c18-af5d-4897-9c75-feb74f7abc9b"
      },
      "source": [
        "fig = plt.figure()\n",
        "ax = plt.gca()\n",
        "ax.bar(df_pm['problem_reported'],df_pm['total_parts_used'], color='orangered');\n",
        "ax.set_title('Demand Interval Vs Total Parts Used (Preventive PM)',size=18);\n",
        "ax.set_ylabel('Total Number of Parts (log)', fontsize = 16);\n",
        "ax.set_xlabel('Demand Interval in Periods', fontsize = 16);\n",
        "ax.tick_params(direction='out', length=6, width=2, labelsize=8, pad=1.5)\n",
        "ax.set_yscale('log');"
      ],
      "id": "caroline-blame",
      "execution_count": 93,
      "outputs": [
        {
          "output_type": "display_data",
          "data": {
            "image/png": "[encoded data removed]",
            "text/plain": [
              "<Figure size 432x288 with 1 Axes>"
            ]
          },
          "metadata": {
            "tags": [],
            "needs_background": "light"
          }
        }
      ]
    },
    {
      "cell_type": "code",
      "metadata": {
        "colab": {
          "base_uri": "https://localhost:8080/",
          "height": 304
        },
        "id": "tropical-glasgow",
        "outputId": "caaa1077-22d9-420f-9298-b6768a199779"
      },
      "source": [
        "fig = plt.figure()\n",
        "ax = plt.gca()\n",
        "ax.bar(df_nmc['problem_reported'],df_nmc['total_parts_used'], color='k');\n",
        "ax.set_title('Demand Interval Vs Total Parts Used (System - Device Down)',size=18);\n",
        "ax.set_ylabel('Total Number of Parts (log)', fontsize = 16);\n",
        "ax.set_xlabel('Demand Interval in Periods', fontsize = 16);\n",
        "ax.tick_params(direction='out', length=6, width=2, labelsize=8, pad=1.5)\n",
        "ax.set_yscale('log');"
      ],
      "id": "tropical-glasgow",
      "execution_count": 94,
      "outputs": [
        {
          "output_type": "display_data",
          "data": {
            "image/png": "[encoded data removed]",
            "text/plain": [
              "<Figure size 432x288 with 1 Axes>"
            ]
          },
          "metadata": {
            "tags": [],
            "needs_background": "light"
          }
        }
      ]
    },
    {
      "cell_type": "code",
      "metadata": {
        "colab": {
          "base_uri": "https://localhost:8080/",
          "height": 304
        },
        "id": "loaded-chile",
        "outputId": "5a2c61b0-074e-4655-9168-e1ccb70fdef5"
      },
      "source": [
        "fig = plt.figure()\n",
        "ax = plt.gca()\n",
        "ax.bar(df_pmc['problem_reported'],df_pmc['total_parts_used'], color='green');\n",
        "ax.set_title('Demand Interval Vs Total Parts Used (System - Device Degraded)',size=18);\n",
        "ax.set_ylabel('Total Number of Parts (log)', fontsize = 16);\n",
        "ax.set_xlabel('Demand Interval in Periods', fontsize = 16);\n",
        "ax.tick_params(direction='out', length=6, width=2, labelsize=8, pad=1.5)\n",
        "ax.set_yscale('log');"
      ],
      "id": "loaded-chile",
      "execution_count": 95,
      "outputs": [
        {
          "output_type": "display_data",
          "data": {
            "image/png": "[encoded data removed]",
            "text/plain": [
              "<Figure size 432x288 with 1 Axes>"
            ]
          },
          "metadata": {
            "tags": [],
            "needs_background": "light"
          }
        }
      ]
    },
    {
      "cell_type": "markdown",
      "metadata": {
        "id": "third-canada"
      },
      "source": [
        "#### <font color=\"blue\">Step 4 - Scatter Plot of ADI vs CV2 by group </font>"
      ],
      "id": "third-canada"
    },
    {
      "cell_type": "code",
      "metadata": {
        "id": "fundamental-williams"
      },
      "source": [
        ""
      ],
      "id": "fundamental-williams",
      "execution_count": 95,
      "outputs": []
    }
  ]
}