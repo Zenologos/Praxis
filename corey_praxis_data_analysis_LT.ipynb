{
  "nbformat": 4,
  "nbformat_minor": 5,
  "metadata": {
    "kernelspec": {
      "display_name": "Python 3",
      "language": "python",
      "name": "python3"
    },
    "language_info": {
      "codemirror_mode": {
        "name": "ipython",
        "version": 3
      },
      "file_extension": ".py",
      "mimetype": "text/x-python",
      "name": "python",
      "nbconvert_exporter": "python",
      "pygments_lexer": "ipython3",
      "version": "3.8.5"
    },
    "colab": {
      "name": "corey_praxis_data_analysis_LT.ipynb",
      "provenance": [],
      "collapsed_sections": [
        "seasonal-style",
        "numerical-council",
        "blond-background",
        "israeli-column",
        "reported-butler",
        "threatened-whole",
        "enhanced-server",
        "contrary-roller",
        "amino-sapphire",
        "revised-samba",
        "fatty-performer",
        "noticed-simon",
        "tutorial-parking",
        "minute-designer",
        "third-canada"
      ],
      "include_colab_link": true
    }
  },
  "cells": [
    {
      "cell_type": "markdown",
      "metadata": {
        "id": "view-in-github",
        "colab_type": "text"
      },
      "source": [
        "<a href=\"https://colab.research.google.com/github/Zenologos/Praxis/blob/main/corey_praxis_data_analysis_LT.ipynb\" target=\"_parent\"><img src=\"https://colab.research.google.com/assets/colab-badge.svg\" alt=\"Open In Colab\"/></a>"
      ]
    },
    {
      "cell_type": "markdown",
      "metadata": {
        "id": "frozen-thumbnail"
      },
      "source": [
        "## <font color=dark red> Data Loading </font>"
      ],
      "id": "frozen-thumbnail"
    },
    {
      "cell_type": "markdown",
      "metadata": {
        "id": "moderate-gibson"
      },
      "source": [
        "#### <font color=blue> Step 1 - Load EST 1 and EST 2 files. </font>"
      ],
      "id": "moderate-gibson"
    },
    {
      "cell_type": "code",
      "metadata": {
        "id": "recreational-politics"
      },
      "source": [
        "# Import data\n",
        "\n",
        "import pandas as pd\n",
        "import numpy as np\n",
        "import matplotlib\n",
        "import matplotlib.pyplot as plt\n",
        "%matplotlib inline\n",
        "import seaborn as sns\n",
        "\n",
        "columns_of_interest = ['device_number','device_description','site','work_order_number','work_order_priority_description','wo_type_description','problem_reported','lot_year','num_parts_from_storeroom','num_parts_from_po','repair_part_number','repair_part_name','repair_part_stocktype']"
      ],
      "id": "recreational-politics",
      "execution_count": 6,
      "outputs": []
    },
    {
      "cell_type": "markdown",
      "metadata": {
        "id": "infinite-novelty"
      },
      "source": [
        "<font color = green> Additional Request for Milestone 1 added.</font>"
      ],
      "id": "infinite-novelty"
    },
    {
      "cell_type": "code",
      "metadata": {
        "colab": {
          "base_uri": "https://localhost:8080/"
        },
        "id": "adjusted-cross",
        "outputId": "25e5bb9a-2d24-4fd8-8e93-cb5d62381d39"
      },
      "source": [
        "len(columns_of_interest)"
      ],
      "id": "adjusted-cross",
      "execution_count": 7,
      "outputs": [
        {
          "output_type": "execute_result",
          "data": {
            "text/plain": [
              "13"
            ]
          },
          "metadata": {
            "tags": []
          },
          "execution_count": 7
        }
      ]
    },
    {
      "cell_type": "code",
      "metadata": {
        "id": "stylish-flush"
      },
      "source": [
        "# Update file path below - Use repairable for live. System down and degraded is commented Need to check that it holds with SNS\n",
        "\n",
        "df1 = pd.read_excel('NTC.xlsx')\n",
        "df2 = pd.read_excel('JMRC.xlsx')"
      ],
      "id": "stylish-flush",
      "execution_count": 8,
      "outputs": []
    },
    {
      "cell_type": "code",
      "metadata": {
        "colab": {
          "base_uri": "https://localhost:8080/"
        },
        "id": "secondary-looking",
        "outputId": "79b44fef-5d3d-4442-ccb7-90cc58efb229"
      },
      "source": [
        "df1.shape"
      ],
      "id": "secondary-looking",
      "execution_count": 9,
      "outputs": [
        {
          "output_type": "execute_result",
          "data": {
            "text/plain": [
              "(77121, 56)"
            ]
          },
          "metadata": {
            "tags": []
          },
          "execution_count": 9
        }
      ]
    },
    {
      "cell_type": "code",
      "metadata": {
        "colab": {
          "base_uri": "https://localhost:8080/"
        },
        "id": "optical-enclosure",
        "outputId": "9e075675-44d4-48fc-b598-96470da5ff51"
      },
      "source": [
        "df2.shape"
      ],
      "id": "optical-enclosure",
      "execution_count": 10,
      "outputs": [
        {
          "output_type": "execute_result",
          "data": {
            "text/plain": [
              "(22314, 35)"
            ]
          },
          "metadata": {
            "tags": []
          },
          "execution_count": 10
        }
      ]
    },
    {
      "cell_type": "code",
      "metadata": {
        "colab": {
          "base_uri": "https://localhost:8080/"
        },
        "id": "micro-sleeve",
        "outputId": "d64db54d-20d9-4a4b-a972-3748325b5c22"
      },
      "source": [
        "df1.columns"
      ],
      "id": "micro-sleeve",
      "execution_count": 11,
      "outputs": [
        {
          "output_type": "execute_result",
          "data": {
            "text/plain": [
              "Index(['TFA', 'SUBTFA', 'SYSTEMID', 'DEVICE NUMBER', 'DEVICE DESCRIPTION',\n",
              "       'DEVICE SERIAL NUMER', 'SITE', 'WORK ORDER NUMBER',\n",
              "       'WORK ORDER DESCRIPTION', 'WORK ORDER PRIORITY DESCRIPTION',\n",
              "       'WOTYPE_DESCRIPTION', 'FUNCTIONAL LOCATION DRILL DOWN',\n",
              "       'FUNCTIONAL LOCATION DESCRIPTION', 'PROBLEMREPORTED', 'ACTIONCOMPLETED',\n",
              "       'TIME TO RETURN (Days.% of 24hrs)', 'LOT YEAR',\n",
              "       'AFFECTED PART UNIQUE IDENTIFIER', 'AFFECTED PART NUMBER',\n",
              "       'AFFECTED PART NAME', 'AFFECTED PART SERIAL NUMBER',\n",
              "       'MAINTENANCE ACTION', 'NUMPARTSFROMSTOREROOM', 'NUMPARTSFROMPO',\n",
              "       'DATE SENT TO VENDOR', 'DATE RECEIVED FROM VENDOR',\n",
              "       'REPAIR PART OWNERSHIP', 'REPAIR PART NUMBER', 'REPAIR PART NAME',\n",
              "       'REPAIR PART SERIAL NUMBER', 'REPAIR PART STOCKTYPE', 'REPAIR CATEGORY',\n",
              "       'REPAIR PART FARCODE', 'TOTAL WORK ORDER LABOR', 'LONG DESCRIPTION',\n",
              "       'Unnamed: 35', 'Unnamed: 36', 'Unnamed: 37', 'Unnamed: 38',\n",
              "       'Unnamed: 39', 'Unnamed: 40', 'Unnamed: 41', 'Unnamed: 42',\n",
              "       'Unnamed: 43', 'Unnamed: 44', 'Unnamed: 45', 'Unnamed: 46',\n",
              "       'Unnamed: 47', 'Unnamed: 48', 'Unnamed: 49', 'Unnamed: 50',\n",
              "       'Unnamed: 51', 'Unnamed: 52', 'Unnamed: 53', 'Unnamed: 54',\n",
              "       'Unnamed: 55'],\n",
              "      dtype='object')"
            ]
          },
          "metadata": {
            "tags": []
          },
          "execution_count": 11
        }
      ]
    },
    {
      "cell_type": "code",
      "metadata": {
        "colab": {
          "base_uri": "https://localhost:8080/"
        },
        "id": "ideal-malpractice",
        "outputId": "b654cc41-a5af-450d-aab8-56e50cd8798d"
      },
      "source": [
        "df2.columns"
      ],
      "id": "ideal-malpractice",
      "execution_count": 12,
      "outputs": [
        {
          "output_type": "execute_result",
          "data": {
            "text/plain": [
              "Index(['TFA', 'SUBTFA', 'SYSTEMID', 'DEVICE NUMBER', 'DEVICE DESCRIPTION',\n",
              "       'DEVICE SERIAL NUMER', 'SITE', 'WORK ORDER NUMBER',\n",
              "       'WORK ORDER DESCRIPTION', 'WORK ORDER PRIORITY DESCRIPTION',\n",
              "       'WOTYPE_DESCRIPTION', 'FUNCTIONAL LOCATION DRILL DOWN',\n",
              "       'FUNCTIONAL LOCATION DESCRIPTION', 'PROBLEMREPORTED', 'ACTIONCOMPLETED',\n",
              "       'TIME TO RETURN (Days.% of 24hrs)', 'LOT YEAR',\n",
              "       'AFFECTED PART UNIQUE IDENTIFIER', 'AFFECTED PART NUMBER',\n",
              "       'AFFECTED PART NAME', 'AFFECTED PART SERIAL NUMBER',\n",
              "       'MAINTENANCE ACTION', 'NUMPARTSFROMSTOREROOM', 'NUMPARTSFROMPO',\n",
              "       'DATE SENT TO VENDOR', 'DATE RECEIVED FROM VENDOR',\n",
              "       'REPAIR PART OWNERSHIP', 'REPAIR PART NUMBER', 'REPAIR PART NAME',\n",
              "       'REPAIR PART SERIAL NUMBER', 'REPAIR PART STOCKTYPE', 'REPAIR CATEGORY',\n",
              "       'REPAIR PART FARCODE', 'TOTAL WORK ORDER LABOR', 'LONG DESCRIPTION'],\n",
              "      dtype='object')"
            ]
          },
          "metadata": {
            "tags": []
          },
          "execution_count": 12
        }
      ]
    },
    {
      "cell_type": "markdown",
      "metadata": {
        "id": "seasonal-style"
      },
      "source": [
        "#### <font color=blue> Step 2 - Rename columns names by replacing whitespace with underscore, coverting to lowercase. </font>"
      ],
      "id": "seasonal-style"
    },
    {
      "cell_type": "code",
      "metadata": {
        "id": "involved-expert"
      },
      "source": [
        "df1.columns = df1.columns.str.strip().str.lower().str.replace(\" \",\"_\")\n",
        "df2.columns = df2.columns.str.strip().str.lower().str.replace(\" \",\"_\")"
      ],
      "id": "involved-expert",
      "execution_count": 13,
      "outputs": []
    },
    {
      "cell_type": "code",
      "metadata": {
        "scrolled": true,
        "colab": {
          "base_uri": "https://localhost:8080/"
        },
        "id": "technical-finder",
        "outputId": "8aaeccdd-5aba-4d8d-fa51-639057883621"
      },
      "source": [
        "df1.columns"
      ],
      "id": "technical-finder",
      "execution_count": 14,
      "outputs": [
        {
          "output_type": "execute_result",
          "data": {
            "text/plain": [
              "Index(['tfa', 'subtfa', 'systemid', 'device_number', 'device_description',\n",
              "       'device_serial_numer', 'site', 'work_order_number',\n",
              "       'work_order_description', 'work_order_priority_description',\n",
              "       'wotype_description', 'functional_location_drill_down',\n",
              "       'functional_location_description', 'problemreported', 'actioncompleted',\n",
              "       'time_to_return_(days.%_of_24hrs)', 'lot_year',\n",
              "       'affected_part_unique_identifier', 'affected_part_number',\n",
              "       'affected_part_name', 'affected_part_serial_number',\n",
              "       'maintenance_action', 'numpartsfromstoreroom', 'numpartsfrompo',\n",
              "       'date_sent_to_vendor', 'date_received_from_vendor',\n",
              "       'repair_part_ownership', 'repair_part_number', 'repair_part_name',\n",
              "       'repair_part_serial_number', 'repair_part_stocktype', 'repair_category',\n",
              "       'repair_part_farcode', 'total_work_order_labor', 'long_description',\n",
              "       'unnamed:_35', 'unnamed:_36', 'unnamed:_37', 'unnamed:_38',\n",
              "       'unnamed:_39', 'unnamed:_40', 'unnamed:_41', 'unnamed:_42',\n",
              "       'unnamed:_43', 'unnamed:_44', 'unnamed:_45', 'unnamed:_46',\n",
              "       'unnamed:_47', 'unnamed:_48', 'unnamed:_49', 'unnamed:_50',\n",
              "       'unnamed:_51', 'unnamed:_52', 'unnamed:_53', 'unnamed:_54',\n",
              "       'unnamed:_55'],\n",
              "      dtype='object')"
            ]
          },
          "metadata": {
            "tags": []
          },
          "execution_count": 14
        }
      ]
    },
    {
      "cell_type": "code",
      "metadata": {
        "id": "convinced-contest"
      },
      "source": [
        "df1 = df1.rename({'wotype_description':'wo_type_description','problemreported':'problem_reported',\\\n",
        "           'numpartsfromstoreroom':'num_parts_from_storeroom','numpartsfrompo':'num_parts_from_po'},axis='columns',errors=\"raise\")\n",
        "df2 = df2.rename({'wotype_description':'wo_type_description','problemreported':'problem_reported',\\\n",
        "           'numpartsfromstoreroom':'num_parts_from_storeroom','numpartsfrompo':'num_parts_from_po'},axis='columns',errors=\"raise\")"
      ],
      "id": "convinced-contest",
      "execution_count": 15,
      "outputs": []
    },
    {
      "cell_type": "code",
      "metadata": {
        "colab": {
          "base_uri": "https://localhost:8080/"
        },
        "id": "abstract-commerce",
        "outputId": "fe9094d4-bc57-4601-b89c-b883be4b8347"
      },
      "source": [
        "df1.columns"
      ],
      "id": "abstract-commerce",
      "execution_count": 16,
      "outputs": [
        {
          "output_type": "execute_result",
          "data": {
            "text/plain": [
              "Index(['tfa', 'subtfa', 'systemid', 'device_number', 'device_description',\n",
              "       'device_serial_numer', 'site', 'work_order_number',\n",
              "       'work_order_description', 'work_order_priority_description',\n",
              "       'wo_type_description', 'functional_location_drill_down',\n",
              "       'functional_location_description', 'problem_reported',\n",
              "       'actioncompleted', 'time_to_return_(days.%_of_24hrs)', 'lot_year',\n",
              "       'affected_part_unique_identifier', 'affected_part_number',\n",
              "       'affected_part_name', 'affected_part_serial_number',\n",
              "       'maintenance_action', 'num_parts_from_storeroom', 'num_parts_from_po',\n",
              "       'date_sent_to_vendor', 'date_received_from_vendor',\n",
              "       'repair_part_ownership', 'repair_part_number', 'repair_part_name',\n",
              "       'repair_part_serial_number', 'repair_part_stocktype', 'repair_category',\n",
              "       'repair_part_farcode', 'total_work_order_labor', 'long_description',\n",
              "       'unnamed:_35', 'unnamed:_36', 'unnamed:_37', 'unnamed:_38',\n",
              "       'unnamed:_39', 'unnamed:_40', 'unnamed:_41', 'unnamed:_42',\n",
              "       'unnamed:_43', 'unnamed:_44', 'unnamed:_45', 'unnamed:_46',\n",
              "       'unnamed:_47', 'unnamed:_48', 'unnamed:_49', 'unnamed:_50',\n",
              "       'unnamed:_51', 'unnamed:_52', 'unnamed:_53', 'unnamed:_54',\n",
              "       'unnamed:_55'],\n",
              "      dtype='object')"
            ]
          },
          "metadata": {
            "tags": []
          },
          "execution_count": 16
        }
      ]
    },
    {
      "cell_type": "markdown",
      "metadata": {
        "id": "numerical-council"
      },
      "source": [
        "#### <font color=blue> Step 3 - Filter out unwanted columns from dataframes. </font>"
      ],
      "id": "numerical-council"
    },
    {
      "cell_type": "code",
      "metadata": {
        "id": "purple-window"
      },
      "source": [
        "df1_new = df1[df1.columns.intersection(columns_of_interest)].copy()\n",
        "df2_new = df2[df2.columns.intersection(columns_of_interest)].copy()"
      ],
      "id": "purple-window",
      "execution_count": 17,
      "outputs": []
    },
    {
      "cell_type": "code",
      "metadata": {
        "colab": {
          "base_uri": "https://localhost:8080/"
        },
        "id": "configured-factor",
        "outputId": "912d5451-2b64-4df6-cf7f-82857f246f76"
      },
      "source": [
        "df1_new.columns"
      ],
      "id": "configured-factor",
      "execution_count": 18,
      "outputs": [
        {
          "output_type": "execute_result",
          "data": {
            "text/plain": [
              "Index(['device_number', 'device_description', 'site', 'work_order_number',\n",
              "       'work_order_priority_description', 'wo_type_description',\n",
              "       'problem_reported', 'lot_year', 'num_parts_from_storeroom',\n",
              "       'num_parts_from_po', 'repair_part_number', 'repair_part_name',\n",
              "       'repair_part_stocktype'],\n",
              "      dtype='object')"
            ]
          },
          "metadata": {
            "tags": []
          },
          "execution_count": 18
        }
      ]
    },
    {
      "cell_type": "code",
      "metadata": {
        "colab": {
          "base_uri": "https://localhost:8080/"
        },
        "id": "stuffed-elephant",
        "outputId": "05af93d5-184f-4a35-894b-24bb49b10e1f"
      },
      "source": [
        "len(df1_new.columns)"
      ],
      "id": "stuffed-elephant",
      "execution_count": 19,
      "outputs": [
        {
          "output_type": "execute_result",
          "data": {
            "text/plain": [
              "13"
            ]
          },
          "metadata": {
            "tags": []
          },
          "execution_count": 19
        }
      ]
    },
    {
      "cell_type": "code",
      "metadata": {
        "colab": {
          "base_uri": "https://localhost:8080/"
        },
        "id": "municipal-backup",
        "outputId": "3d0ba654-ab36-4410-b311-a5ed4659b794"
      },
      "source": [
        "df1_new.shape"
      ],
      "id": "municipal-backup",
      "execution_count": 20,
      "outputs": [
        {
          "output_type": "execute_result",
          "data": {
            "text/plain": [
              "(77121, 13)"
            ]
          },
          "metadata": {
            "tags": []
          },
          "execution_count": 20
        }
      ]
    },
    {
      "cell_type": "code",
      "metadata": {
        "colab": {
          "base_uri": "https://localhost:8080/"
        },
        "id": "competent-handbook",
        "outputId": "f9c30ab3-a31e-4ded-916c-cd9cd5e449e2"
      },
      "source": [
        "len(df2_new.columns)"
      ],
      "id": "competent-handbook",
      "execution_count": 21,
      "outputs": [
        {
          "output_type": "execute_result",
          "data": {
            "text/plain": [
              "13"
            ]
          },
          "metadata": {
            "tags": []
          },
          "execution_count": 21
        }
      ]
    },
    {
      "cell_type": "code",
      "metadata": {
        "colab": {
          "base_uri": "https://localhost:8080/"
        },
        "id": "informational-socket",
        "outputId": "ee2ad916-2204-4fbe-a384-e075d6debf4a"
      },
      "source": [
        "df2_new.columns"
      ],
      "id": "informational-socket",
      "execution_count": 22,
      "outputs": [
        {
          "output_type": "execute_result",
          "data": {
            "text/plain": [
              "Index(['device_number', 'device_description', 'site', 'work_order_number',\n",
              "       'work_order_priority_description', 'wo_type_description',\n",
              "       'problem_reported', 'lot_year', 'num_parts_from_storeroom',\n",
              "       'num_parts_from_po', 'repair_part_number', 'repair_part_name',\n",
              "       'repair_part_stocktype'],\n",
              "      dtype='object')"
            ]
          },
          "metadata": {
            "tags": []
          },
          "execution_count": 22
        }
      ]
    },
    {
      "cell_type": "code",
      "metadata": {
        "colab": {
          "base_uri": "https://localhost:8080/"
        },
        "id": "referenced-darwin",
        "outputId": "25de8d38-dde2-40bb-91cb-5214f5b5b0e7"
      },
      "source": [
        "df2_new.shape"
      ],
      "id": "referenced-darwin",
      "execution_count": 23,
      "outputs": [
        {
          "output_type": "execute_result",
          "data": {
            "text/plain": [
              "(22314, 13)"
            ]
          },
          "metadata": {
            "tags": []
          },
          "execution_count": 23
        }
      ]
    },
    {
      "cell_type": "markdown",
      "metadata": {
        "id": "blond-background"
      },
      "source": [
        "#### <font color=blue> Step 4 - Concatenate the two datasets </font>"
      ],
      "id": "blond-background"
    },
    {
      "cell_type": "code",
      "metadata": {
        "colab": {
          "base_uri": "https://localhost:8080/"
        },
        "id": "normal-rolling",
        "outputId": "4b9d4538-f81f-4293-dab2-3caee25365e8"
      },
      "source": [
        "type(df2_new)"
      ],
      "id": "normal-rolling",
      "execution_count": 24,
      "outputs": [
        {
          "output_type": "execute_result",
          "data": {
            "text/plain": [
              "pandas.core.frame.DataFrame"
            ]
          },
          "metadata": {
            "tags": []
          },
          "execution_count": 24
        }
      ]
    },
    {
      "cell_type": "code",
      "metadata": {
        "id": "velvet-flash"
      },
      "source": [
        "df_main = pd.concat([df1_new,df2_new],axis=0,ignore_index = True)"
      ],
      "id": "velvet-flash",
      "execution_count": 25,
      "outputs": []
    },
    {
      "cell_type": "code",
      "metadata": {
        "colab": {
          "base_uri": "https://localhost:8080/"
        },
        "id": "known-proportion",
        "outputId": "41141772-0f04-4c53-bd09-2000b1e23641"
      },
      "source": [
        "df_main.shape"
      ],
      "id": "known-proportion",
      "execution_count": 26,
      "outputs": [
        {
          "output_type": "execute_result",
          "data": {
            "text/plain": [
              "(99435, 13)"
            ]
          },
          "metadata": {
            "tags": []
          },
          "execution_count": 26
        }
      ]
    },
    {
      "cell_type": "code",
      "metadata": {
        "colab": {
          "base_uri": "https://localhost:8080/",
          "height": 394
        },
        "id": "indoor-champagne",
        "outputId": "8edbfe8e-8a28-4b34-ab37-9b20218db59d"
      },
      "source": [
        "df_main.head()"
      ],
      "id": "indoor-champagne",
      "execution_count": 27,
      "outputs": [
        {
          "output_type": "execute_result",
          "data": {
            "text/html": [
              "<div>\n",
              "<style scoped>\n",
              "    .dataframe tbody tr th:only-of-type {\n",
              "        vertical-align: middle;\n",
              "    }\n",
              "\n",
              "    .dataframe tbody tr th {\n",
              "        vertical-align: top;\n",
              "    }\n",
              "\n",
              "    .dataframe thead th {\n",
              "        text-align: right;\n",
              "    }\n",
              "</style>\n",
              "<table border=\"1\" class=\"dataframe\">\n",
              "  <thead>\n",
              "    <tr style=\"text-align: right;\">\n",
              "      <th></th>\n",
              "      <th>device_number</th>\n",
              "      <th>device_description</th>\n",
              "      <th>site</th>\n",
              "      <th>work_order_number</th>\n",
              "      <th>work_order_priority_description</th>\n",
              "      <th>wo_type_description</th>\n",
              "      <th>problem_reported</th>\n",
              "      <th>lot_year</th>\n",
              "      <th>num_parts_from_storeroom</th>\n",
              "      <th>num_parts_from_po</th>\n",
              "      <th>repair_part_number</th>\n",
              "      <th>repair_part_name</th>\n",
              "      <th>repair_part_stocktype</th>\n",
              "    </tr>\n",
              "  </thead>\n",
              "  <tbody>\n",
              "    <tr>\n",
              "      <th>0</th>\n",
              "      <td>71-11</td>\n",
              "      <td>NTC Instrumentation System</td>\n",
              "      <td>Ft Irwin, CA</td>\n",
              "      <td>5197810</td>\n",
              "      <td>Bench/Depot Repair</td>\n",
              "      <td>Corrective COR</td>\n",
              "      <td>2012-05-06</td>\n",
              "      <td>4</td>\n",
              "      <td>0</td>\n",
              "      <td>0</td>\n",
              "      <td>No parts issued to workorder</td>\n",
              "      <td>No parts issued to workorder</td>\n",
              "      <td>No Parts Issued from Inventory</td>\n",
              "    </tr>\n",
              "    <tr>\n",
              "      <th>1</th>\n",
              "      <td>71-11</td>\n",
              "      <td>NTC Instrumentation System</td>\n",
              "      <td>Ft Irwin, CA</td>\n",
              "      <td>5215505</td>\n",
              "      <td>Bench/Depot Repair</td>\n",
              "      <td>Corrective COR</td>\n",
              "      <td>2012-05-17</td>\n",
              "      <td>4</td>\n",
              "      <td>0</td>\n",
              "      <td>0</td>\n",
              "      <td>No parts issued to workorder</td>\n",
              "      <td>No parts issued to workorder</td>\n",
              "      <td>No Parts Issued from Inventory</td>\n",
              "    </tr>\n",
              "    <tr>\n",
              "      <th>2</th>\n",
              "      <td>71-11</td>\n",
              "      <td>NTC Instrumentation System</td>\n",
              "      <td>Ft Irwin, CA</td>\n",
              "      <td>5215504</td>\n",
              "      <td>Bench/Depot Repair</td>\n",
              "      <td>Corrective COR</td>\n",
              "      <td>2012-05-17</td>\n",
              "      <td>4</td>\n",
              "      <td>0</td>\n",
              "      <td>0</td>\n",
              "      <td>No parts issued to workorder</td>\n",
              "      <td>No parts issued to workorder</td>\n",
              "      <td>No Parts Issued from Inventory</td>\n",
              "    </tr>\n",
              "    <tr>\n",
              "      <th>3</th>\n",
              "      <td>71-11</td>\n",
              "      <td>NTC Instrumentation System</td>\n",
              "      <td>Ft Irwin, CA</td>\n",
              "      <td>5215503</td>\n",
              "      <td>Bench/Depot Repair</td>\n",
              "      <td>Corrective COR</td>\n",
              "      <td>2012-05-17</td>\n",
              "      <td>4</td>\n",
              "      <td>0</td>\n",
              "      <td>0</td>\n",
              "      <td>No parts issued to workorder</td>\n",
              "      <td>No parts issued to workorder</td>\n",
              "      <td>No Parts Issued from Inventory</td>\n",
              "    </tr>\n",
              "    <tr>\n",
              "      <th>4</th>\n",
              "      <td>71-11</td>\n",
              "      <td>NTC Instrumentation System</td>\n",
              "      <td>Ft Irwin, CA</td>\n",
              "      <td>5215501</td>\n",
              "      <td>Bench/Depot Repair</td>\n",
              "      <td>Corrective COR</td>\n",
              "      <td>2012-05-17</td>\n",
              "      <td>4</td>\n",
              "      <td>0</td>\n",
              "      <td>0</td>\n",
              "      <td>No parts issued to workorder</td>\n",
              "      <td>No parts issued to workorder</td>\n",
              "      <td>No Parts Issued from Inventory</td>\n",
              "    </tr>\n",
              "  </tbody>\n",
              "</table>\n",
              "</div>"
            ],
            "text/plain": [
              "  device_number  ...           repair_part_stocktype\n",
              "0         71-11  ...  No Parts Issued from Inventory\n",
              "1         71-11  ...  No Parts Issued from Inventory\n",
              "2         71-11  ...  No Parts Issued from Inventory\n",
              "3         71-11  ...  No Parts Issued from Inventory\n",
              "4         71-11  ...  No Parts Issued from Inventory\n",
              "\n",
              "[5 rows x 13 columns]"
            ]
          },
          "metadata": {
            "tags": []
          },
          "execution_count": 27
        }
      ]
    },
    {
      "cell_type": "markdown",
      "metadata": {
        "id": "israeli-column"
      },
      "source": [
        "## <font color=dark red> Data Cleansing </font>"
      ],
      "id": "israeli-column"
    },
    {
      "cell_type": "markdown",
      "metadata": {
        "id": "reported-butler"
      },
      "source": [
        "#### <font color=blue> Step 1 - Convert problem_reported column to date column. The column values are already of datetime type.</font>"
      ],
      "id": "reported-butler"
    },
    {
      "cell_type": "code",
      "metadata": {
        "colab": {
          "base_uri": "https://localhost:8080/"
        },
        "id": "pointed-response",
        "outputId": "cee89e95-0515-4753-9db3-da211b3dbb78"
      },
      "source": [
        "df_main['problem_reported'], type(df_main['problem_reported'])"
      ],
      "id": "pointed-response",
      "execution_count": 28,
      "outputs": [
        {
          "output_type": "execute_result",
          "data": {
            "text/plain": [
              "(0       2012-05-06 00:00:00\n",
              " 1       2012-05-17 00:00:00\n",
              " 2       2012-05-17 00:00:00\n",
              " 3       2012-05-17 00:00:00\n",
              " 4       2012-05-17 00:00:00\n",
              "                 ...        \n",
              " 99430   2013-01-08 04:59:50\n",
              " 99431   2012-06-21 07:53:56\n",
              " 99432   2012-08-08 00:32:52\n",
              " 99433   2012-05-14 08:13:55\n",
              " 99434   2012-11-28 03:27:59\n",
              " Name: problem_reported, Length: 99435, dtype: datetime64[ns],\n",
              " pandas.core.series.Series)"
            ]
          },
          "metadata": {
            "tags": []
          },
          "execution_count": 28
        }
      ]
    },
    {
      "cell_type": "code",
      "metadata": {
        "id": "alpine-calendar"
      },
      "source": [
        "df_main['problem_reported'] = df_main.problem_reported.dt.date"
      ],
      "id": "alpine-calendar",
      "execution_count": 29,
      "outputs": []
    },
    {
      "cell_type": "code",
      "metadata": {
        "colab": {
          "base_uri": "https://localhost:8080/"
        },
        "id": "sonic-repair",
        "outputId": "e3958df4-e125-43d9-c8a1-489383ede3f5"
      },
      "source": [
        "df_main['problem_reported']"
      ],
      "id": "sonic-repair",
      "execution_count": 30,
      "outputs": [
        {
          "output_type": "execute_result",
          "data": {
            "text/plain": [
              "0        2012-05-06\n",
              "1        2012-05-17\n",
              "2        2012-05-17\n",
              "3        2012-05-17\n",
              "4        2012-05-17\n",
              "            ...    \n",
              "99430    2013-01-08\n",
              "99431    2012-06-21\n",
              "99432    2012-08-08\n",
              "99433    2012-05-14\n",
              "99434    2012-11-28\n",
              "Name: problem_reported, Length: 99435, dtype: object"
            ]
          },
          "metadata": {
            "tags": []
          },
          "execution_count": 30
        }
      ]
    },
    {
      "cell_type": "code",
      "metadata": {
        "id": "simplified-riverside"
      },
      "source": [
        "# df_main = df_main.rename({'problem_reported':'date'},axis='columns',errors=\"raise\")"
      ],
      "id": "simplified-riverside",
      "execution_count": 31,
      "outputs": []
    },
    {
      "cell_type": "code",
      "metadata": {
        "colab": {
          "base_uri": "https://localhost:8080/"
        },
        "id": "extra-equilibrium",
        "outputId": "c9507bc2-345d-4634-8ce6-4c112c9dde8a"
      },
      "source": [
        "df_main['problem_reported']"
      ],
      "id": "extra-equilibrium",
      "execution_count": 32,
      "outputs": [
        {
          "output_type": "execute_result",
          "data": {
            "text/plain": [
              "0        2012-05-06\n",
              "1        2012-05-17\n",
              "2        2012-05-17\n",
              "3        2012-05-17\n",
              "4        2012-05-17\n",
              "            ...    \n",
              "99430    2013-01-08\n",
              "99431    2012-06-21\n",
              "99432    2012-08-08\n",
              "99433    2012-05-14\n",
              "99434    2012-11-28\n",
              "Name: problem_reported, Length: 99435, dtype: object"
            ]
          },
          "metadata": {
            "tags": []
          },
          "execution_count": 32
        }
      ]
    },
    {
      "cell_type": "markdown",
      "metadata": {
        "id": "threatened-whole"
      },
      "source": [
        "#### <font color=blue> Step 2 - Removing all records that have a description of 'Modification Government' & 'Operational Support' & 'Exercise Support' & 'Log Problem' & 'Operational Support'.</font>\n",
        "<font color = green> Additional Request for Milestone 1 added.</font>"
      ],
      "id": "threatened-whole"
    },
    {
      "cell_type": "code",
      "metadata": {
        "colab": {
          "base_uri": "https://localhost:8080/"
        },
        "id": "about-cheat",
        "outputId": "1366c665-a4ff-4b0d-dd0d-639228851847"
      },
      "source": [
        "df_main.wo_type_description.unique()"
      ],
      "id": "about-cheat",
      "execution_count": 33,
      "outputs": [
        {
          "output_type": "execute_result",
          "data": {
            "text/plain": [
              "array(['Corrective COR', 'Exercise Support', 'Operational Support',\n",
              "       'Preventive PM', 'Modification Government'], dtype=object)"
            ]
          },
          "metadata": {
            "tags": []
          },
          "execution_count": 33
        }
      ]
    },
    {
      "cell_type": "code",
      "metadata": {
        "colab": {
          "base_uri": "https://localhost:8080/"
        },
        "id": "arabic-christian",
        "outputId": "e2c3d74d-b3d7-498a-d6ce-a940e98f6214"
      },
      "source": [
        "df_main.shape"
      ],
      "id": "arabic-christian",
      "execution_count": 34,
      "outputs": [
        {
          "output_type": "execute_result",
          "data": {
            "text/plain": [
              "(99435, 13)"
            ]
          },
          "metadata": {
            "tags": []
          },
          "execution_count": 34
        }
      ]
    },
    {
      "cell_type": "code",
      "metadata": {
        "id": "local-badge"
      },
      "source": [
        "df_main = df_main.drop(df_main.index[df_main['wo_type_description'].str.\n",
        "                                     contains('Modification Government|Operational Support|Exercise Support|Log Problem|Operational Support', na=False)])"
      ],
      "id": "local-badge",
      "execution_count": 35,
      "outputs": []
    },
    {
      "cell_type": "code",
      "metadata": {
        "colab": {
          "base_uri": "https://localhost:8080/"
        },
        "id": "furnished-juice",
        "outputId": "317b909d-1c1b-47c5-ef42-34b698546eb7"
      },
      "source": [
        "df_main.shape"
      ],
      "id": "furnished-juice",
      "execution_count": 36,
      "outputs": [
        {
          "output_type": "execute_result",
          "data": {
            "text/plain": [
              "(85656, 13)"
            ]
          },
          "metadata": {
            "tags": []
          },
          "execution_count": 36
        }
      ]
    },
    {
      "cell_type": "code",
      "metadata": {
        "colab": {
          "base_uri": "https://localhost:8080/"
        },
        "id": "coordinated-stevens",
        "outputId": "c37ad534-089e-4deb-da87-b93290a9fa27"
      },
      "source": [
        "df_main.wo_type_description.unique()"
      ],
      "id": "coordinated-stevens",
      "execution_count": 37,
      "outputs": [
        {
          "output_type": "execute_result",
          "data": {
            "text/plain": [
              "array(['Corrective COR', 'Preventive PM'], dtype=object)"
            ]
          },
          "metadata": {
            "tags": []
          },
          "execution_count": 37
        }
      ]
    },
    {
      "cell_type": "markdown",
      "metadata": {
        "id": "enhanced-server"
      },
      "source": [
        "#### <font color=blue> Step 3 - Removing all rows that have values of 'Move/Modify/Upgrade' & 'Exercise/Operational Support' in the 'work_order_priority_description' column. </font>"
      ],
      "id": "enhanced-server"
    },
    {
      "cell_type": "markdown",
      "metadata": {
        "id": "possible-murray"
      },
      "source": [
        "<font color = green> Additional Request for Milestone 1 added.</font>"
      ],
      "id": "possible-murray"
    },
    {
      "cell_type": "code",
      "metadata": {
        "colab": {
          "base_uri": "https://localhost:8080/"
        },
        "id": "declared-northeast",
        "outputId": "4902465c-8f55-4568-afcb-1f6b575682fb"
      },
      "source": [
        "df_main.work_order_priority_description.unique()"
      ],
      "id": "declared-northeast",
      "execution_count": 38,
      "outputs": [
        {
          "output_type": "execute_result",
          "data": {
            "text/plain": [
              "array(['Bench/Depot Repair', 'Corrective Maintenance', 'PMCS',\n",
              "       'System - Device Degraded', 'System - Device Down'], dtype=object)"
            ]
          },
          "metadata": {
            "tags": []
          },
          "execution_count": 38
        }
      ]
    },
    {
      "cell_type": "code",
      "metadata": {
        "colab": {
          "base_uri": "https://localhost:8080/"
        },
        "id": "revolutionary-congo",
        "outputId": "3ae482df-94c1-4449-fd5a-64910655aba8"
      },
      "source": [
        "df_main.shape"
      ],
      "id": "revolutionary-congo",
      "execution_count": 39,
      "outputs": [
        {
          "output_type": "execute_result",
          "data": {
            "text/plain": [
              "(85656, 13)"
            ]
          },
          "metadata": {
            "tags": []
          },
          "execution_count": 39
        }
      ]
    },
    {
      "cell_type": "code",
      "metadata": {
        "id": "bigger-spread"
      },
      "source": [
        "df_main = df_main.drop(df_main.index[df_main['work_order_priority_description'].str.contains('Move/Modify/Upgrade|Exercise/Operational Support', na=False)])"
      ],
      "id": "bigger-spread",
      "execution_count": 40,
      "outputs": []
    },
    {
      "cell_type": "code",
      "metadata": {
        "colab": {
          "base_uri": "https://localhost:8080/"
        },
        "id": "accurate-index",
        "outputId": "3cf5ac59-3319-4bd8-93c7-d5e5cdc37ce0"
      },
      "source": [
        "df_main.shape"
      ],
      "id": "accurate-index",
      "execution_count": 41,
      "outputs": [
        {
          "output_type": "execute_result",
          "data": {
            "text/plain": [
              "(85656, 13)"
            ]
          },
          "metadata": {
            "tags": []
          },
          "execution_count": 41
        }
      ]
    },
    {
      "cell_type": "code",
      "metadata": {
        "colab": {
          "base_uri": "https://localhost:8080/"
        },
        "id": "based-testing",
        "outputId": "021ca46b-d394-4e08-8694-2e499e93625a"
      },
      "source": [
        "df_main.work_order_priority_description.unique()"
      ],
      "id": "based-testing",
      "execution_count": 42,
      "outputs": [
        {
          "output_type": "execute_result",
          "data": {
            "text/plain": [
              "array(['Bench/Depot Repair', 'Corrective Maintenance', 'PMCS',\n",
              "       'System - Device Degraded', 'System - Device Down'], dtype=object)"
            ]
          },
          "metadata": {
            "tags": []
          },
          "execution_count": 42
        }
      ]
    },
    {
      "cell_type": "markdown",
      "metadata": {
        "id": "contrary-roller"
      },
      "source": [
        "#### <font color=blue> Step 4 - Removing all rows that have values of 'No parts issued to workorder'in the 'repair_part_number' column. </font>"
      ],
      "id": "contrary-roller"
    },
    {
      "cell_type": "code",
      "metadata": {
        "colab": {
          "base_uri": "https://localhost:8080/"
        },
        "id": "seeing-modem",
        "outputId": "7a93be4f-65f6-4b6e-9ffe-789646024001"
      },
      "source": [
        "df_main.repair_part_number.unique()"
      ],
      "id": "seeing-modem",
      "execution_count": 43,
      "outputs": [
        {
          "output_type": "execute_result",
          "data": {
            "text/plain": [
              "array(['No parts issued to workorder', '1210 AW-6', '290135-1', ...,\n",
              "       'DCH-500P-S2-IP', 'ENC-300-HDSDI', 'IP-6610-E120-4ETH-BR'],\n",
              "      dtype=object)"
            ]
          },
          "metadata": {
            "tags": []
          },
          "execution_count": 43
        }
      ]
    },
    {
      "cell_type": "code",
      "metadata": {
        "id": "speaking-worship"
      },
      "source": [
        "df_main = df_main.drop(df_main.index[df_main['repair_part_number'].str.contains('No parts issued to workorder', na=False)])"
      ],
      "id": "speaking-worship",
      "execution_count": 44,
      "outputs": []
    },
    {
      "cell_type": "code",
      "metadata": {
        "colab": {
          "base_uri": "https://localhost:8080/"
        },
        "id": "thermal-tutorial",
        "outputId": "5d976699-d7da-416d-b49e-19eaf0000980"
      },
      "source": [
        "df_main.shape"
      ],
      "id": "thermal-tutorial",
      "execution_count": 45,
      "outputs": [
        {
          "output_type": "execute_result",
          "data": {
            "text/plain": [
              "(42506, 13)"
            ]
          },
          "metadata": {
            "tags": []
          },
          "execution_count": 45
        }
      ]
    },
    {
      "cell_type": "markdown",
      "metadata": {
        "id": "amino-sapphire"
      },
      "source": [
        "#### <font color=blue> Before we move onto the next step, lets check for nan values.</font>"
      ],
      "id": "amino-sapphire"
    },
    {
      "cell_type": "code",
      "metadata": {
        "colab": {
          "base_uri": "https://localhost:8080/",
          "height": 411
        },
        "id": "advanced-pendant",
        "outputId": "6f0c9566-e779-4c25-90c1-3226d644fd3e"
      },
      "source": [
        "df_main.tail()"
      ],
      "id": "advanced-pendant",
      "execution_count": 46,
      "outputs": [
        {
          "output_type": "execute_result",
          "data": {
            "text/html": [
              "<div>\n",
              "<style scoped>\n",
              "    .dataframe tbody tr th:only-of-type {\n",
              "        vertical-align: middle;\n",
              "    }\n",
              "\n",
              "    .dataframe tbody tr th {\n",
              "        vertical-align: top;\n",
              "    }\n",
              "\n",
              "    .dataframe thead th {\n",
              "        text-align: right;\n",
              "    }\n",
              "</style>\n",
              "<table border=\"1\" class=\"dataframe\">\n",
              "  <thead>\n",
              "    <tr style=\"text-align: right;\">\n",
              "      <th></th>\n",
              "      <th>device_number</th>\n",
              "      <th>device_description</th>\n",
              "      <th>site</th>\n",
              "      <th>work_order_number</th>\n",
              "      <th>work_order_priority_description</th>\n",
              "      <th>wo_type_description</th>\n",
              "      <th>problem_reported</th>\n",
              "      <th>lot_year</th>\n",
              "      <th>num_parts_from_storeroom</th>\n",
              "      <th>num_parts_from_po</th>\n",
              "      <th>repair_part_number</th>\n",
              "      <th>repair_part_name</th>\n",
              "      <th>repair_part_stocktype</th>\n",
              "    </tr>\n",
              "  </thead>\n",
              "  <tbody>\n",
              "    <tr>\n",
              "      <th>98193</th>\n",
              "      <td>71-06</td>\n",
              "      <td>JMRC Instrumentation System</td>\n",
              "      <td>Germany - Hohenfels</td>\n",
              "      <td>6181845</td>\n",
              "      <td>Corrective Maintenance</td>\n",
              "      <td>Corrective COR</td>\n",
              "      <td>2014-03-17</td>\n",
              "      <td>5</td>\n",
              "      <td>1</td>\n",
              "      <td>0</td>\n",
              "      <td>60-336-11</td>\n",
              "      <td>SWITCHER, CROSSPOINT450 PLUS 88 HVA</td>\n",
              "      <td>REPAIRABLE</td>\n",
              "    </tr>\n",
              "    <tr>\n",
              "      <th>98256</th>\n",
              "      <td>71-06</td>\n",
              "      <td>JMRC Instrumentation System</td>\n",
              "      <td>Germany - Hohenfels</td>\n",
              "      <td>6156674</td>\n",
              "      <td>PMCS</td>\n",
              "      <td>Preventive PM</td>\n",
              "      <td>2014-03-03</td>\n",
              "      <td>5</td>\n",
              "      <td>1</td>\n",
              "      <td>0</td>\n",
              "      <td>DCH-500P-S2-IP</td>\n",
              "      <td>1 RU RACKMOUNT HDTV PROCESSOR FOR H264 AND MPE...</td>\n",
              "      <td>CONSUMABLE</td>\n",
              "    </tr>\n",
              "    <tr>\n",
              "      <th>98257</th>\n",
              "      <td>71-06</td>\n",
              "      <td>JMRC Instrumentation System</td>\n",
              "      <td>Germany - Hohenfels</td>\n",
              "      <td>6156674</td>\n",
              "      <td>PMCS</td>\n",
              "      <td>Preventive PM</td>\n",
              "      <td>2014-03-03</td>\n",
              "      <td>5</td>\n",
              "      <td>1</td>\n",
              "      <td>0</td>\n",
              "      <td>ENC-300-HDSDI</td>\n",
              "      <td>H.264 HD/SD ENCODER BLADE WITH SDI</td>\n",
              "      <td>CONSUMABLE</td>\n",
              "    </tr>\n",
              "    <tr>\n",
              "      <th>99208</th>\n",
              "      <td>71-06</td>\n",
              "      <td>JMRC Instrumentation System</td>\n",
              "      <td>Germany - Hohenfels</td>\n",
              "      <td>DR5971923</td>\n",
              "      <td>Bench/Depot Repair</td>\n",
              "      <td>Corrective COR</td>\n",
              "      <td>2013-10-11</td>\n",
              "      <td>5</td>\n",
              "      <td>1</td>\n",
              "      <td>0</td>\n",
              "      <td>MS27144-2</td>\n",
              "      <td>Connector, Plug, Electrical-Socket Contact</td>\n",
              "      <td>CONSUMABLE</td>\n",
              "    </tr>\n",
              "    <tr>\n",
              "      <th>99315</th>\n",
              "      <td>71-06</td>\n",
              "      <td>JMRC Instrumentation System</td>\n",
              "      <td>Germany - Hohenfels</td>\n",
              "      <td>6750646</td>\n",
              "      <td>Corrective Maintenance</td>\n",
              "      <td>Corrective COR</td>\n",
              "      <td>2015-03-26</td>\n",
              "      <td>6</td>\n",
              "      <td>1</td>\n",
              "      <td>0</td>\n",
              "      <td>IP-6610-E120-4ETH-BR</td>\n",
              "      <td>4 Port Ethernet Bridge Router</td>\n",
              "      <td>CONSUMABLE</td>\n",
              "    </tr>\n",
              "  </tbody>\n",
              "</table>\n",
              "</div>"
            ],
            "text/plain": [
              "      device_number  ... repair_part_stocktype\n",
              "98193         71-06  ...            REPAIRABLE\n",
              "98256         71-06  ...            CONSUMABLE\n",
              "98257         71-06  ...            CONSUMABLE\n",
              "99208         71-06  ...            CONSUMABLE\n",
              "99315         71-06  ...            CONSUMABLE\n",
              "\n",
              "[5 rows x 13 columns]"
            ]
          },
          "metadata": {
            "tags": []
          },
          "execution_count": 46
        }
      ]
    },
    {
      "cell_type": "code",
      "metadata": {
        "scrolled": true,
        "colab": {
          "base_uri": "https://localhost:8080/"
        },
        "id": "abstract-georgia",
        "outputId": "d499c46e-1b8b-4f9b-a45d-110b7423d17c"
      },
      "source": [
        "# for col in df_main:\n",
        "#     print(df_main[col].name,'=',df_main[col].unique())\n",
        "\n",
        "df_main.isnull().sum()"
      ],
      "id": "abstract-georgia",
      "execution_count": 47,
      "outputs": [
        {
          "output_type": "execute_result",
          "data": {
            "text/plain": [
              "device_number                      0\n",
              "device_description                 0\n",
              "site                               0\n",
              "work_order_number                  0\n",
              "work_order_priority_description    0\n",
              "wo_type_description                0\n",
              "problem_reported                   0\n",
              "lot_year                           0\n",
              "num_parts_from_storeroom           0\n",
              "num_parts_from_po                  0\n",
              "repair_part_number                 0\n",
              "repair_part_name                   0\n",
              "repair_part_stocktype              0\n",
              "dtype: int64"
            ]
          },
          "metadata": {
            "tags": []
          },
          "execution_count": 47
        }
      ]
    },
    {
      "cell_type": "code",
      "metadata": {
        "id": "lovely-estonia"
      },
      "source": [
        "# lets remove the two rows with nan values.\n",
        "df_main = df_main.dropna(axis=0)"
      ],
      "id": "lovely-estonia",
      "execution_count": 48,
      "outputs": []
    },
    {
      "cell_type": "code",
      "metadata": {
        "colab": {
          "base_uri": "https://localhost:8080/"
        },
        "id": "protecting-editor",
        "outputId": "e157e7ad-0804-4ee8-d1ec-9f77d94b1e06"
      },
      "source": [
        "df_main.shape"
      ],
      "id": "protecting-editor",
      "execution_count": 49,
      "outputs": [
        {
          "output_type": "execute_result",
          "data": {
            "text/plain": [
              "(42506, 13)"
            ]
          },
          "metadata": {
            "tags": []
          },
          "execution_count": 49
        }
      ]
    },
    {
      "cell_type": "markdown",
      "metadata": {
        "id": "tough-netscape"
      },
      "source": [
        "## <font color=dark red> Reporting </font>"
      ],
      "id": "tough-netscape"
    },
    {
      "cell_type": "markdown",
      "metadata": {
        "id": "lesbian-european"
      },
      "source": [
        "#### <font color=blue> Generating a view that displays the number of remaining records.</font>"
      ],
      "id": "lesbian-european"
    },
    {
      "cell_type": "code",
      "metadata": {
        "id": "suspected-montgomery"
      },
      "source": [
        "total_records = df_main.shape[0]"
      ],
      "id": "suspected-montgomery",
      "execution_count": 50,
      "outputs": []
    },
    {
      "cell_type": "code",
      "metadata": {
        "colab": {
          "base_uri": "https://localhost:8080/"
        },
        "id": "advanced-recording",
        "outputId": "bd8caa65-e23d-4bfe-c461-f66382f7e797"
      },
      "source": [
        "total_records"
      ],
      "id": "advanced-recording",
      "execution_count": 58,
      "outputs": [
        {
          "output_type": "execute_result",
          "data": {
            "text/plain": [
              "42506"
            ]
          },
          "metadata": {
            "tags": []
          },
          "execution_count": 58
        }
      ]
    },
    {
      "cell_type": "code",
      "metadata": {
        "id": "precise-royalty"
      },
      "source": [
        "wo_typedesc_df = df_main['wo_type_description'].value_counts().to_frame()"
      ],
      "id": "precise-royalty",
      "execution_count": 59,
      "outputs": []
    },
    {
      "cell_type": "code",
      "metadata": {
        "colab": {
          "base_uri": "https://localhost:8080/",
          "height": 111
        },
        "id": "cooperative-presence",
        "outputId": "e2d732c0-3047-4f9f-c695-64e269ab529d"
      },
      "source": [
        "wo_typedesc_df"
      ],
      "id": "cooperative-presence",
      "execution_count": 60,
      "outputs": [
        {
          "output_type": "execute_result",
          "data": {
            "text/html": [
              "<div>\n",
              "<style scoped>\n",
              "    .dataframe tbody tr th:only-of-type {\n",
              "        vertical-align: middle;\n",
              "    }\n",
              "\n",
              "    .dataframe tbody tr th {\n",
              "        vertical-align: top;\n",
              "    }\n",
              "\n",
              "    .dataframe thead th {\n",
              "        text-align: right;\n",
              "    }\n",
              "</style>\n",
              "<table border=\"1\" class=\"dataframe\">\n",
              "  <thead>\n",
              "    <tr style=\"text-align: right;\">\n",
              "      <th></th>\n",
              "      <th>wo_type_description</th>\n",
              "    </tr>\n",
              "  </thead>\n",
              "  <tbody>\n",
              "    <tr>\n",
              "      <th>Corrective COR</th>\n",
              "      <td>33318</td>\n",
              "    </tr>\n",
              "    <tr>\n",
              "      <th>Preventive PM</th>\n",
              "      <td>9188</td>\n",
              "    </tr>\n",
              "  </tbody>\n",
              "</table>\n",
              "</div>"
            ],
            "text/plain": [
              "                wo_type_description\n",
              "Corrective COR                33318\n",
              "Preventive PM                  9188"
            ]
          },
          "metadata": {
            "tags": []
          },
          "execution_count": 60
        }
      ]
    },
    {
      "cell_type": "code",
      "metadata": {
        "id": "expensive-incident"
      },
      "source": [
        "wo_prioritydesc_df = df_main['work_order_priority_description'].value_counts().to_frame()"
      ],
      "id": "expensive-incident",
      "execution_count": 61,
      "outputs": []
    },
    {
      "cell_type": "code",
      "metadata": {
        "colab": {
          "base_uri": "https://localhost:8080/",
          "height": 142
        },
        "id": "laden-single",
        "outputId": "f46b06fc-fafc-47e6-d583-47c2675f6395"
      },
      "source": [
        "wo_prioritydesc_df"
      ],
      "id": "laden-single",
      "execution_count": 62,
      "outputs": [
        {
          "output_type": "execute_result",
          "data": {
            "text/html": [
              "<div>\n",
              "<style scoped>\n",
              "    .dataframe tbody tr th:only-of-type {\n",
              "        vertical-align: middle;\n",
              "    }\n",
              "\n",
              "    .dataframe tbody tr th {\n",
              "        vertical-align: top;\n",
              "    }\n",
              "\n",
              "    .dataframe thead th {\n",
              "        text-align: right;\n",
              "    }\n",
              "</style>\n",
              "<table border=\"1\" class=\"dataframe\">\n",
              "  <thead>\n",
              "    <tr style=\"text-align: right;\">\n",
              "      <th></th>\n",
              "      <th>work_order_priority_description</th>\n",
              "    </tr>\n",
              "  </thead>\n",
              "  <tbody>\n",
              "    <tr>\n",
              "      <th>Corrective Maintenance</th>\n",
              "      <td>23596</td>\n",
              "    </tr>\n",
              "    <tr>\n",
              "      <th>Bench/Depot Repair</th>\n",
              "      <td>9722</td>\n",
              "    </tr>\n",
              "    <tr>\n",
              "      <th>PMCS</th>\n",
              "      <td>9188</td>\n",
              "    </tr>\n",
              "  </tbody>\n",
              "</table>\n",
              "</div>"
            ],
            "text/plain": [
              "                        work_order_priority_description\n",
              "Corrective Maintenance                            23596\n",
              "Bench/Depot Repair                                 9722\n",
              "PMCS                                               9188"
            ]
          },
          "metadata": {
            "tags": []
          },
          "execution_count": 62
        }
      ]
    },
    {
      "cell_type": "code",
      "metadata": {
        "id": "controversial-shelter"
      },
      "source": [
        "# Set label size for plots\n",
        "matplotlib.rc('xtick', labelsize=10)\n",
        "matplotlib.rc('ytick', labelsize=10)\n",
        "sns.set_context(\"poster\")\n",
        "# plt.rcParams.update({'font.size': 10})"
      ],
      "id": "controversial-shelter",
      "execution_count": 56,
      "outputs": []
    },
    {
      "cell_type": "code",
      "metadata": {
        "colab": {
          "base_uri": "https://localhost:8080/",
          "height": 324
        },
        "id": "patient-adobe",
        "outputId": "b8652d3a-03aa-4a39-8c71-fec03efb7f77"
      },
      "source": [
        "plt.barh('Total Records',total_records, color = 'k',log=True)\n",
        "plt.barh('Corrective COR',wo_typedesc_df.loc['Corrective COR'][0],color = 'b',label = 'Work Order Type')\n",
        "plt.barh('Preventive PM',wo_typedesc_df.loc['Preventive PM'][0],color = 'b')\n",
        "#plt.barh('System - Device Down',wo_prioritydesc_df.loc['System - Device Down'][0],color = 'r',label = 'Work Order Priority')\n",
        "#plt.barh('System - Device Degraded',wo_prioritydesc_df.loc['System - Device Degraded'][0],color = 'r')\n",
        "\n",
        "values = [total_records,wo_typedesc_df.loc['Corrective COR'][0],wo_typedesc_df.loc['Preventive PM'][0]]\n",
        "          #wo_prioritydesc_df.loc['System - Device Down'][0],wo_prioritydesc_df.loc['System - Device Degraded'][0]]\n",
        "i = 1\n",
        "j = 50\n",
        "for i in range(len(values)):\n",
        "    plt.annotate(values[i], (values[i] + j, -0.1 + i), fontsize=12)\n",
        "\n",
        "plt.title('Remaining Record Numbers (Log Plot)',fontsize=20)\n",
        "plt.xlabel('Number of Records',fontsize=14)\n",
        "plt.legend(borderpad=0.2,prop={'size':12})\n",
        "plt.xticks(fontsize=14)\n",
        "plt.yticks(fontsize=12)\n",
        "# plt.xlim(0,10^6)\n",
        "# plt.figsize=(20, 20)\n",
        "# plt.savefig('Remaining_Records.png',dpi=120, facecolor='w',orientation='potrait', bbox_inches=\"tight\")\n",
        "plt.show()"
      ],
      "id": "patient-adobe",
      "execution_count": 67,
      "outputs": [
        {
          "output_type": "display_data",
          "data": {
            "image/png": "[encoded data removed]",
            "text/plain": [
              "<Figure size 432x288 with 1 Axes>"
            ]
          },
          "metadata": {
            "tags": [],
            "needs_background": "light"
          }
        }
      ]
    },
    {
      "cell_type": "markdown",
      "metadata": {
        "id": "meaningful-croatia"
      },
      "source": [
        "## <font color=dark red> Exploratory Data Analysis (EDA) </font>"
      ],
      "id": "meaningful-croatia"
    },
    {
      "cell_type": "markdown",
      "metadata": {
        "id": "revised-samba"
      },
      "source": [
        "#### <font color=blue> Step 1 - Generating a view that displays the minimum and maximum Problem Reported Dates.</font>"
      ],
      "id": "revised-samba"
    },
    {
      "cell_type": "code",
      "metadata": {
        "colab": {
          "base_uri": "https://localhost:8080/"
        },
        "id": "extended-bride",
        "outputId": "3f69bb0d-930e-4fc2-8b3c-daa8544146a3"
      },
      "source": [
        "# Earliest and latest problem reported dates for all the records\n",
        "\n",
        "df_main['problem_reported'].agg(['min','max'])"
      ],
      "id": "extended-bride",
      "execution_count": 68,
      "outputs": [
        {
          "output_type": "execute_result",
          "data": {
            "text/plain": [
              "min    2011-07-31\n",
              "max    2015-07-16\n",
              "Name: problem_reported, dtype: object"
            ]
          },
          "metadata": {
            "tags": []
          },
          "execution_count": 68
        }
      ]
    },
    {
      "cell_type": "code",
      "metadata": {
        "colab": {
          "base_uri": "https://localhost:8080/"
        },
        "id": "popular-kitty",
        "outputId": "e4c9241b-727f-4aa6-e263-8d7b1495f2b8"
      },
      "source": [
        "# The least number of problems reported for any day was 1 , and the maximum number of problems were reported\n",
        "# on March 3, 2014. A total of 311 problems reported.\n",
        "\n",
        "df_main['problem_reported'].value_counts(ascending=True)"
      ],
      "id": "popular-kitty",
      "execution_count": 69,
      "outputs": [
        {
          "output_type": "execute_result",
          "data": {
            "text/plain": [
              "2013-04-06      1\n",
              "2014-02-22      1\n",
              "2013-12-15      1\n",
              "2013-01-27      1\n",
              "2015-01-18      1\n",
              "             ... \n",
              "2015-02-03    165\n",
              "2015-01-30    168\n",
              "2013-07-17    189\n",
              "2013-11-26    235\n",
              "2014-02-21    321\n",
              "Name: problem_reported, Length: 976, dtype: int64"
            ]
          },
          "metadata": {
            "tags": []
          },
          "execution_count": 69
        }
      ]
    },
    {
      "cell_type": "code",
      "metadata": {
        "colab": {
          "base_uri": "https://localhost:8080/",
          "height": 142
        },
        "id": "agricultural-saturn",
        "outputId": "cfc9b856-e07d-49e9-ae3b-7919b422c53f"
      },
      "source": [
        "#Earliest and latest problem reported dates for records in 'wo_type_description' group.\n",
        "df_main.groupby('wo_type_description').problem_reported.agg(['min','max'])"
      ],
      "id": "agricultural-saturn",
      "execution_count": 70,
      "outputs": [
        {
          "output_type": "execute_result",
          "data": {
            "text/html": [
              "<div>\n",
              "<style scoped>\n",
              "    .dataframe tbody tr th:only-of-type {\n",
              "        vertical-align: middle;\n",
              "    }\n",
              "\n",
              "    .dataframe tbody tr th {\n",
              "        vertical-align: top;\n",
              "    }\n",
              "\n",
              "    .dataframe thead th {\n",
              "        text-align: right;\n",
              "    }\n",
              "</style>\n",
              "<table border=\"1\" class=\"dataframe\">\n",
              "  <thead>\n",
              "    <tr style=\"text-align: right;\">\n",
              "      <th></th>\n",
              "      <th>min</th>\n",
              "      <th>max</th>\n",
              "    </tr>\n",
              "    <tr>\n",
              "      <th>wo_type_description</th>\n",
              "      <th></th>\n",
              "      <th></th>\n",
              "    </tr>\n",
              "  </thead>\n",
              "  <tbody>\n",
              "    <tr>\n",
              "      <th>Corrective COR</th>\n",
              "      <td>2011-07-31</td>\n",
              "      <td>2015-07-16</td>\n",
              "    </tr>\n",
              "    <tr>\n",
              "      <th>Preventive PM</th>\n",
              "      <td>2011-12-03</td>\n",
              "      <td>2015-05-11</td>\n",
              "    </tr>\n",
              "  </tbody>\n",
              "</table>\n",
              "</div>"
            ],
            "text/plain": [
              "                            min         max\n",
              "wo_type_description                        \n",
              "Corrective COR       2011-07-31  2015-07-16\n",
              "Preventive PM        2011-12-03  2015-05-11"
            ]
          },
          "metadata": {
            "tags": []
          },
          "execution_count": 70
        }
      ]
    },
    {
      "cell_type": "code",
      "metadata": {
        "colab": {
          "base_uri": "https://localhost:8080/",
          "height": 173
        },
        "id": "chronic-longer",
        "outputId": "735d97cf-2f9c-46e1-b09a-32743814e42a"
      },
      "source": [
        "#Earliest and latest problem reported dates for records in 'work_order_priority_description' group.\n",
        "df_main.groupby('work_order_priority_description').problem_reported.agg(['min','max'])"
      ],
      "id": "chronic-longer",
      "execution_count": 71,
      "outputs": [
        {
          "output_type": "execute_result",
          "data": {
            "text/html": [
              "<div>\n",
              "<style scoped>\n",
              "    .dataframe tbody tr th:only-of-type {\n",
              "        vertical-align: middle;\n",
              "    }\n",
              "\n",
              "    .dataframe tbody tr th {\n",
              "        vertical-align: top;\n",
              "    }\n",
              "\n",
              "    .dataframe thead th {\n",
              "        text-align: right;\n",
              "    }\n",
              "</style>\n",
              "<table border=\"1\" class=\"dataframe\">\n",
              "  <thead>\n",
              "    <tr style=\"text-align: right;\">\n",
              "      <th></th>\n",
              "      <th>min</th>\n",
              "      <th>max</th>\n",
              "    </tr>\n",
              "    <tr>\n",
              "      <th>work_order_priority_description</th>\n",
              "      <th></th>\n",
              "      <th></th>\n",
              "    </tr>\n",
              "  </thead>\n",
              "  <tbody>\n",
              "    <tr>\n",
              "      <th>Bench/Depot Repair</th>\n",
              "      <td>2012-02-29</td>\n",
              "      <td>2015-07-16</td>\n",
              "    </tr>\n",
              "    <tr>\n",
              "      <th>Corrective Maintenance</th>\n",
              "      <td>2011-07-31</td>\n",
              "      <td>2015-05-13</td>\n",
              "    </tr>\n",
              "    <tr>\n",
              "      <th>PMCS</th>\n",
              "      <td>2011-12-03</td>\n",
              "      <td>2015-05-11</td>\n",
              "    </tr>\n",
              "  </tbody>\n",
              "</table>\n",
              "</div>"
            ],
            "text/plain": [
              "                                        min         max\n",
              "work_order_priority_description                        \n",
              "Bench/Depot Repair               2012-02-29  2015-07-16\n",
              "Corrective Maintenance           2011-07-31  2015-05-13\n",
              "PMCS                             2011-12-03  2015-05-11"
            ]
          },
          "metadata": {
            "tags": []
          },
          "execution_count": 71
        }
      ]
    },
    {
      "cell_type": "markdown",
      "metadata": {
        "id": "fatty-performer"
      },
      "source": [
        "#### <font color=blue> Step 2 - Generating a view that displays the total parts used by adding 'num_parts_from_storeroom' + 'num_parts_from_po'.</font>"
      ],
      "id": "fatty-performer"
    },
    {
      "cell_type": "code",
      "metadata": {
        "id": "extra-conclusion"
      },
      "source": [
        "df_main['total_parts_used'] = df_main['num_parts_from_storeroom'] + df_main['num_parts_from_po']"
      ],
      "id": "extra-conclusion",
      "execution_count": 72,
      "outputs": []
    },
    {
      "cell_type": "code",
      "metadata": {
        "colab": {
          "base_uri": "https://localhost:8080/"
        },
        "id": "average-valley",
        "outputId": "2d3275b4-cffe-4929-e2db-eb652b0af26a"
      },
      "source": [
        "#Additional column added with the name 'total_parts_used'\n",
        "df_main.shape"
      ],
      "id": "average-valley",
      "execution_count": 73,
      "outputs": [
        {
          "output_type": "execute_result",
          "data": {
            "text/plain": [
              "(42506, 14)"
            ]
          },
          "metadata": {
            "tags": []
          },
          "execution_count": 73
        }
      ]
    },
    {
      "cell_type": "code",
      "metadata": {
        "colab": {
          "base_uri": "https://localhost:8080/"
        },
        "id": "muslim-budget",
        "outputId": "e6c59e47-faa1-426f-c33c-1d62ff1ebc9f"
      },
      "source": [
        "df_main['repair_part_stocktype'].unique()"
      ],
      "id": "muslim-budget",
      "execution_count": 74,
      "outputs": [
        {
          "output_type": "execute_result",
          "data": {
            "text/plain": [
              "array(['CONSUMABLE', 'REPAIRABLE', 'No Parts Issued from Inventory'],\n",
              "      dtype=object)"
            ]
          },
          "metadata": {
            "tags": []
          },
          "execution_count": 74
        }
      ]
    },
    {
      "cell_type": "code",
      "metadata": {
        "colab": {
          "base_uri": "https://localhost:8080/",
          "height": 142
        },
        "id": "cardiac-concrete",
        "outputId": "f793a803-d8bb-4d26-a690-9551c760bcd9"
      },
      "source": [
        "df_main.groupby(['wo_type_description']).total_parts_used.sum().to_frame()"
      ],
      "id": "cardiac-concrete",
      "execution_count": 75,
      "outputs": [
        {
          "output_type": "execute_result",
          "data": {
            "text/html": [
              "<div>\n",
              "<style scoped>\n",
              "    .dataframe tbody tr th:only-of-type {\n",
              "        vertical-align: middle;\n",
              "    }\n",
              "\n",
              "    .dataframe tbody tr th {\n",
              "        vertical-align: top;\n",
              "    }\n",
              "\n",
              "    .dataframe thead th {\n",
              "        text-align: right;\n",
              "    }\n",
              "</style>\n",
              "<table border=\"1\" class=\"dataframe\">\n",
              "  <thead>\n",
              "    <tr style=\"text-align: right;\">\n",
              "      <th></th>\n",
              "      <th>total_parts_used</th>\n",
              "    </tr>\n",
              "    <tr>\n",
              "      <th>wo_type_description</th>\n",
              "      <th></th>\n",
              "    </tr>\n",
              "  </thead>\n",
              "  <tbody>\n",
              "    <tr>\n",
              "      <th>Corrective COR</th>\n",
              "      <td>145137</td>\n",
              "    </tr>\n",
              "    <tr>\n",
              "      <th>Preventive PM</th>\n",
              "      <td>20532</td>\n",
              "    </tr>\n",
              "  </tbody>\n",
              "</table>\n",
              "</div>"
            ],
            "text/plain": [
              "                     total_parts_used\n",
              "wo_type_description                  \n",
              "Corrective COR                 145137\n",
              "Preventive PM                   20532"
            ]
          },
          "metadata": {
            "tags": []
          },
          "execution_count": 75
        }
      ]
    },
    {
      "cell_type": "markdown",
      "metadata": {
        "id": "outstanding-silicon"
      },
      "source": [
        "<font color = green> Additional Request for Milestone 1 added.</font>"
      ],
      "id": "outstanding-silicon"
    },
    {
      "cell_type": "code",
      "metadata": {
        "colab": {
          "base_uri": "https://localhost:8080/",
          "height": 266
        },
        "id": "green-valve",
        "outputId": "f64f138e-cdb5-4212-ca37-1766290fd3f7"
      },
      "source": [
        "df_main.groupby(['wo_type_description','repair_part_stocktype']).total_parts_used.sum().to_frame()"
      ],
      "id": "green-valve",
      "execution_count": 76,
      "outputs": [
        {
          "output_type": "execute_result",
          "data": {
            "text/html": [
              "<div>\n",
              "<style scoped>\n",
              "    .dataframe tbody tr th:only-of-type {\n",
              "        vertical-align: middle;\n",
              "    }\n",
              "\n",
              "    .dataframe tbody tr th {\n",
              "        vertical-align: top;\n",
              "    }\n",
              "\n",
              "    .dataframe thead th {\n",
              "        text-align: right;\n",
              "    }\n",
              "</style>\n",
              "<table border=\"1\" class=\"dataframe\">\n",
              "  <thead>\n",
              "    <tr style=\"text-align: right;\">\n",
              "      <th></th>\n",
              "      <th></th>\n",
              "      <th>total_parts_used</th>\n",
              "    </tr>\n",
              "    <tr>\n",
              "      <th>wo_type_description</th>\n",
              "      <th>repair_part_stocktype</th>\n",
              "      <th></th>\n",
              "    </tr>\n",
              "  </thead>\n",
              "  <tbody>\n",
              "    <tr>\n",
              "      <th rowspan=\"3\" valign=\"top\">Corrective COR</th>\n",
              "      <th>CONSUMABLE</th>\n",
              "      <td>132235</td>\n",
              "    </tr>\n",
              "    <tr>\n",
              "      <th>No Parts Issued from Inventory</th>\n",
              "      <td>5561</td>\n",
              "    </tr>\n",
              "    <tr>\n",
              "      <th>REPAIRABLE</th>\n",
              "      <td>7341</td>\n",
              "    </tr>\n",
              "    <tr>\n",
              "      <th rowspan=\"3\" valign=\"top\">Preventive PM</th>\n",
              "      <th>CONSUMABLE</th>\n",
              "      <td>20304</td>\n",
              "    </tr>\n",
              "    <tr>\n",
              "      <th>No Parts Issued from Inventory</th>\n",
              "      <td>200</td>\n",
              "    </tr>\n",
              "    <tr>\n",
              "      <th>REPAIRABLE</th>\n",
              "      <td>28</td>\n",
              "    </tr>\n",
              "  </tbody>\n",
              "</table>\n",
              "</div>"
            ],
            "text/plain": [
              "                                                    total_parts_used\n",
              "wo_type_description repair_part_stocktype                           \n",
              "Corrective COR      CONSUMABLE                                132235\n",
              "                    No Parts Issued from Inventory              5561\n",
              "                    REPAIRABLE                                  7341\n",
              "Preventive PM       CONSUMABLE                                 20304\n",
              "                    No Parts Issued from Inventory               200\n",
              "                    REPAIRABLE                                    28"
            ]
          },
          "metadata": {
            "tags": []
          },
          "execution_count": 76
        }
      ]
    },
    {
      "cell_type": "code",
      "metadata": {
        "colab": {
          "base_uri": "https://localhost:8080/",
          "height": 173
        },
        "id": "acoustic-adult",
        "outputId": "6cdbdb8f-bd95-4c38-a63e-d5f03d7f5fa3"
      },
      "source": [
        "df_main.groupby('work_order_priority_description').total_parts_used.sum().to_frame()"
      ],
      "id": "acoustic-adult",
      "execution_count": 77,
      "outputs": [
        {
          "output_type": "execute_result",
          "data": {
            "text/html": [
              "<div>\n",
              "<style scoped>\n",
              "    .dataframe tbody tr th:only-of-type {\n",
              "        vertical-align: middle;\n",
              "    }\n",
              "\n",
              "    .dataframe tbody tr th {\n",
              "        vertical-align: top;\n",
              "    }\n",
              "\n",
              "    .dataframe thead th {\n",
              "        text-align: right;\n",
              "    }\n",
              "</style>\n",
              "<table border=\"1\" class=\"dataframe\">\n",
              "  <thead>\n",
              "    <tr style=\"text-align: right;\">\n",
              "      <th></th>\n",
              "      <th>total_parts_used</th>\n",
              "    </tr>\n",
              "    <tr>\n",
              "      <th>work_order_priority_description</th>\n",
              "      <th></th>\n",
              "    </tr>\n",
              "  </thead>\n",
              "  <tbody>\n",
              "    <tr>\n",
              "      <th>Bench/Depot Repair</th>\n",
              "      <td>21939</td>\n",
              "    </tr>\n",
              "    <tr>\n",
              "      <th>Corrective Maintenance</th>\n",
              "      <td>123198</td>\n",
              "    </tr>\n",
              "    <tr>\n",
              "      <th>PMCS</th>\n",
              "      <td>20532</td>\n",
              "    </tr>\n",
              "  </tbody>\n",
              "</table>\n",
              "</div>"
            ],
            "text/plain": [
              "                                 total_parts_used\n",
              "work_order_priority_description                  \n",
              "Bench/Depot Repair                          21939\n",
              "Corrective Maintenance                     123198\n",
              "PMCS                                        20532"
            ]
          },
          "metadata": {
            "tags": []
          },
          "execution_count": 77
        }
      ]
    },
    {
      "cell_type": "markdown",
      "metadata": {
        "id": "labeled-milton"
      },
      "source": [
        "<font color = green> Additional Request for Milestone 1 added.</font>"
      ],
      "id": "labeled-milton"
    },
    {
      "cell_type": "code",
      "metadata": {
        "colab": {
          "base_uri": "https://localhost:8080/",
          "height": 359
        },
        "id": "vulnerable-publication",
        "outputId": "938e51c9-8caa-49e4-8640-6becea75c819"
      },
      "source": [
        "df_main.groupby(['work_order_priority_description','repair_part_stocktype']).total_parts_used.sum().to_frame()"
      ],
      "id": "vulnerable-publication",
      "execution_count": 78,
      "outputs": [
        {
          "output_type": "execute_result",
          "data": {
            "text/html": [
              "<div>\n",
              "<style scoped>\n",
              "    .dataframe tbody tr th:only-of-type {\n",
              "        vertical-align: middle;\n",
              "    }\n",
              "\n",
              "    .dataframe tbody tr th {\n",
              "        vertical-align: top;\n",
              "    }\n",
              "\n",
              "    .dataframe thead th {\n",
              "        text-align: right;\n",
              "    }\n",
              "</style>\n",
              "<table border=\"1\" class=\"dataframe\">\n",
              "  <thead>\n",
              "    <tr style=\"text-align: right;\">\n",
              "      <th></th>\n",
              "      <th></th>\n",
              "      <th>total_parts_used</th>\n",
              "    </tr>\n",
              "    <tr>\n",
              "      <th>work_order_priority_description</th>\n",
              "      <th>repair_part_stocktype</th>\n",
              "      <th></th>\n",
              "    </tr>\n",
              "  </thead>\n",
              "  <tbody>\n",
              "    <tr>\n",
              "      <th rowspan=\"3\" valign=\"top\">Bench/Depot Repair</th>\n",
              "      <th>CONSUMABLE</th>\n",
              "      <td>18613</td>\n",
              "    </tr>\n",
              "    <tr>\n",
              "      <th>No Parts Issued from Inventory</th>\n",
              "      <td>1</td>\n",
              "    </tr>\n",
              "    <tr>\n",
              "      <th>REPAIRABLE</th>\n",
              "      <td>3325</td>\n",
              "    </tr>\n",
              "    <tr>\n",
              "      <th rowspan=\"3\" valign=\"top\">Corrective Maintenance</th>\n",
              "      <th>CONSUMABLE</th>\n",
              "      <td>113622</td>\n",
              "    </tr>\n",
              "    <tr>\n",
              "      <th>No Parts Issued from Inventory</th>\n",
              "      <td>5560</td>\n",
              "    </tr>\n",
              "    <tr>\n",
              "      <th>REPAIRABLE</th>\n",
              "      <td>4016</td>\n",
              "    </tr>\n",
              "    <tr>\n",
              "      <th rowspan=\"3\" valign=\"top\">PMCS</th>\n",
              "      <th>CONSUMABLE</th>\n",
              "      <td>20304</td>\n",
              "    </tr>\n",
              "    <tr>\n",
              "      <th>No Parts Issued from Inventory</th>\n",
              "      <td>200</td>\n",
              "    </tr>\n",
              "    <tr>\n",
              "      <th>REPAIRABLE</th>\n",
              "      <td>28</td>\n",
              "    </tr>\n",
              "  </tbody>\n",
              "</table>\n",
              "</div>"
            ],
            "text/plain": [
              "                                                                total_parts_used\n",
              "work_order_priority_description repair_part_stocktype                           \n",
              "Bench/Depot Repair              CONSUMABLE                                 18613\n",
              "                                No Parts Issued from Inventory                 1\n",
              "                                REPAIRABLE                                  3325\n",
              "Corrective Maintenance          CONSUMABLE                                113622\n",
              "                                No Parts Issued from Inventory              5560\n",
              "                                REPAIRABLE                                  4016\n",
              "PMCS                            CONSUMABLE                                 20304\n",
              "                                No Parts Issued from Inventory               200\n",
              "                                REPAIRABLE                                    28"
            ]
          },
          "metadata": {
            "tags": []
          },
          "execution_count": 78
        }
      ]
    },
    {
      "cell_type": "markdown",
      "metadata": {
        "id": "fifth-exercise"
      },
      "source": [
        "#### <font color=blue> Step 3 - Generating a view that displays the count of different parts used by distinct 'repair_part_number'.</font>"
      ],
      "id": "fifth-exercise"
    },
    {
      "cell_type": "code",
      "metadata": {
        "id": "material-moderator"
      },
      "source": [
        "pd.set_option('display.max_rows',10)"
      ],
      "id": "material-moderator",
      "execution_count": 79,
      "outputs": []
    },
    {
      "cell_type": "code",
      "metadata": {
        "colab": {
          "base_uri": "https://localhost:8080/",
          "height": 450
        },
        "id": "naughty-comparative",
        "outputId": "0dcb77b3-d5d2-4b3a-bb48-23a2eee2d06f"
      },
      "source": [
        "df_main.groupby('wo_type_description').repair_part_number.value_counts().to_frame()"
      ],
      "id": "naughty-comparative",
      "execution_count": 80,
      "outputs": [
        {
          "output_type": "execute_result",
          "data": {
            "text/html": [
              "<div>\n",
              "<style scoped>\n",
              "    .dataframe tbody tr th:only-of-type {\n",
              "        vertical-align: middle;\n",
              "    }\n",
              "\n",
              "    .dataframe tbody tr th {\n",
              "        vertical-align: top;\n",
              "    }\n",
              "\n",
              "    .dataframe thead th {\n",
              "        text-align: right;\n",
              "    }\n",
              "</style>\n",
              "<table border=\"1\" class=\"dataframe\">\n",
              "  <thead>\n",
              "    <tr style=\"text-align: right;\">\n",
              "      <th></th>\n",
              "      <th></th>\n",
              "      <th>repair_part_number</th>\n",
              "    </tr>\n",
              "    <tr>\n",
              "      <th>wo_type_description</th>\n",
              "      <th>repair_part_number</th>\n",
              "      <th></th>\n",
              "    </tr>\n",
              "  </thead>\n",
              "  <tbody>\n",
              "    <tr>\n",
              "      <th rowspan=\"5\" valign=\"top\">Corrective COR</th>\n",
              "      <th>SP12V100MT</th>\n",
              "      <td>3747</td>\n",
              "    </tr>\n",
              "    <tr>\n",
              "      <th>CAM-CAL-205G-095</th>\n",
              "      <td>2214</td>\n",
              "    </tr>\n",
              "    <tr>\n",
              "      <th>112901-001LF</th>\n",
              "      <td>1931</td>\n",
              "    </tr>\n",
              "    <tr>\n",
              "      <th>SPM030P-A</th>\n",
              "      <td>1178</td>\n",
              "    </tr>\n",
              "    <tr>\n",
              "      <th>800-009-16ZN9-19SN</th>\n",
              "      <td>1027</td>\n",
              "    </tr>\n",
              "    <tr>\n",
              "      <th>...</th>\n",
              "      <th>...</th>\n",
              "      <td>...</td>\n",
              "    </tr>\n",
              "    <tr>\n",
              "      <th rowspan=\"5\" valign=\"top\">Preventive PM</th>\n",
              "      <th>W706599-S439</th>\n",
              "      <td>1</td>\n",
              "    </tr>\n",
              "    <tr>\n",
              "      <th>XT-5-QMC</th>\n",
              "      <td>1</td>\n",
              "    </tr>\n",
              "    <tr>\n",
              "      <th>XT-6-QSP</th>\n",
              "      <td>1</td>\n",
              "    </tr>\n",
              "    <tr>\n",
              "      <th>XU5Z-9030-MA</th>\n",
              "      <td>1</td>\n",
              "    </tr>\n",
              "    <tr>\n",
              "      <th>YC3Z2268AA</th>\n",
              "      <td>1</td>\n",
              "    </tr>\n",
              "  </tbody>\n",
              "</table>\n",
              "<p>3816 rows × 1 columns</p>\n",
              "</div>"
            ],
            "text/plain": [
              "                                        repair_part_number\n",
              "wo_type_description repair_part_number                    \n",
              "Corrective COR      SP12V100MT                        3747\n",
              "                    CAM-CAL-205G-095                  2214\n",
              "                    112901-001LF                      1931\n",
              "                    SPM030P-A                         1178\n",
              "                    800-009-16ZN9-19SN                1027\n",
              "...                                                    ...\n",
              "Preventive PM       W706599-S439                         1\n",
              "                    XT-5-QMC                             1\n",
              "                    XT-6-QSP                             1\n",
              "                    XU5Z-9030-MA                         1\n",
              "                    YC3Z2268AA                           1\n",
              "\n",
              "[3816 rows x 1 columns]"
            ]
          },
          "metadata": {
            "tags": []
          },
          "execution_count": 80
        }
      ]
    },
    {
      "cell_type": "code",
      "metadata": {
        "colab": {
          "base_uri": "https://localhost:8080/",
          "height": 450
        },
        "id": "convinced-directory",
        "outputId": "a3edfc35-6975-4478-e291-040b8abd3bd5"
      },
      "source": [
        "df_main.groupby('work_order_priority_description').repair_part_number.value_counts().to_frame()"
      ],
      "id": "convinced-directory",
      "execution_count": 82,
      "outputs": [
        {
          "output_type": "execute_result",
          "data": {
            "text/html": [
              "<div>\n",
              "<style scoped>\n",
              "    .dataframe tbody tr th:only-of-type {\n",
              "        vertical-align: middle;\n",
              "    }\n",
              "\n",
              "    .dataframe tbody tr th {\n",
              "        vertical-align: top;\n",
              "    }\n",
              "\n",
              "    .dataframe thead th {\n",
              "        text-align: right;\n",
              "    }\n",
              "</style>\n",
              "<table border=\"1\" class=\"dataframe\">\n",
              "  <thead>\n",
              "    <tr style=\"text-align: right;\">\n",
              "      <th></th>\n",
              "      <th></th>\n",
              "      <th>repair_part_number</th>\n",
              "    </tr>\n",
              "    <tr>\n",
              "      <th>work_order_priority_description</th>\n",
              "      <th>repair_part_number</th>\n",
              "      <th></th>\n",
              "    </tr>\n",
              "  </thead>\n",
              "  <tbody>\n",
              "    <tr>\n",
              "      <th rowspan=\"5\" valign=\"top\">Bench/Depot Repair</th>\n",
              "      <th>SP12V100MT</th>\n",
              "      <td>1867</td>\n",
              "    </tr>\n",
              "    <tr>\n",
              "      <th>112901-001LF</th>\n",
              "      <td>1002</td>\n",
              "    </tr>\n",
              "    <tr>\n",
              "      <th>LK162-12E</th>\n",
              "      <td>758</td>\n",
              "    </tr>\n",
              "    <tr>\n",
              "      <th>RAYTHEON MEMBRANE CIRCUIT</th>\n",
              "      <td>586</td>\n",
              "    </tr>\n",
              "    <tr>\n",
              "      <th>SPM030P-A</th>\n",
              "      <td>490</td>\n",
              "    </tr>\n",
              "    <tr>\n",
              "      <th>...</th>\n",
              "      <th>...</th>\n",
              "      <td>...</td>\n",
              "    </tr>\n",
              "    <tr>\n",
              "      <th rowspan=\"5\" valign=\"top\">PMCS</th>\n",
              "      <th>W706599-S439</th>\n",
              "      <td>1</td>\n",
              "    </tr>\n",
              "    <tr>\n",
              "      <th>XT-5-QMC</th>\n",
              "      <td>1</td>\n",
              "    </tr>\n",
              "    <tr>\n",
              "      <th>XT-6-QSP</th>\n",
              "      <td>1</td>\n",
              "    </tr>\n",
              "    <tr>\n",
              "      <th>XU5Z-9030-MA</th>\n",
              "      <td>1</td>\n",
              "    </tr>\n",
              "    <tr>\n",
              "      <th>YC3Z2268AA</th>\n",
              "      <td>1</td>\n",
              "    </tr>\n",
              "  </tbody>\n",
              "</table>\n",
              "<p>3948 rows × 1 columns</p>\n",
              "</div>"
            ],
            "text/plain": [
              "                                                           repair_part_number\n",
              "work_order_priority_description repair_part_number                           \n",
              "Bench/Depot Repair              SP12V100MT                               1867\n",
              "                                112901-001LF                             1002\n",
              "                                LK162-12E                                 758\n",
              "                                RAYTHEON MEMBRANE CIRCUIT                 586\n",
              "                                SPM030P-A                                 490\n",
              "...                                                                       ...\n",
              "PMCS                            W706599-S439                                1\n",
              "                                XT-5-QMC                                    1\n",
              "                                XT-6-QSP                                    1\n",
              "                                XU5Z-9030-MA                                1\n",
              "                                YC3Z2268AA                                  1\n",
              "\n",
              "[3948 rows x 1 columns]"
            ]
          },
          "metadata": {
            "tags": []
          },
          "execution_count": 82
        }
      ]
    },
    {
      "cell_type": "markdown",
      "metadata": {
        "id": "departmental-router"
      },
      "source": [
        "## <font color=dark red> Data Preparation  </font>"
      ],
      "id": "departmental-router"
    },
    {
      "cell_type": "markdown",
      "metadata": {
        "id": "noticed-simon"
      },
      "source": [
        "#### <font color=blue> Step 1 - Creating 4 new columns for Demand Interval. Abbreviate to DI-COR, DI-PM, DI-NMC, DI-PMC</font>"
      ],
      "id": "noticed-simon"
    },
    {
      "cell_type": "code",
      "metadata": {
        "colab": {
          "base_uri": "https://localhost:8080/",
          "height": 830
        },
        "id": "afraid-explanation",
        "outputId": "3a834cd1-b1eb-4107-a336-fbac2a10bded"
      },
      "source": [
        "df_main"
      ],
      "id": "afraid-explanation",
      "execution_count": 83,
      "outputs": [
        {
          "output_type": "execute_result",
          "data": {
            "text/html": [
              "<div>\n",
              "<style scoped>\n",
              "    .dataframe tbody tr th:only-of-type {\n",
              "        vertical-align: middle;\n",
              "    }\n",
              "\n",
              "    .dataframe tbody tr th {\n",
              "        vertical-align: top;\n",
              "    }\n",
              "\n",
              "    .dataframe thead th {\n",
              "        text-align: right;\n",
              "    }\n",
              "</style>\n",
              "<table border=\"1\" class=\"dataframe\">\n",
              "  <thead>\n",
              "    <tr style=\"text-align: right;\">\n",
              "      <th></th>\n",
              "      <th>device_number</th>\n",
              "      <th>device_description</th>\n",
              "      <th>site</th>\n",
              "      <th>work_order_number</th>\n",
              "      <th>work_order_priority_description</th>\n",
              "      <th>wo_type_description</th>\n",
              "      <th>problem_reported</th>\n",
              "      <th>lot_year</th>\n",
              "      <th>num_parts_from_storeroom</th>\n",
              "      <th>num_parts_from_po</th>\n",
              "      <th>repair_part_number</th>\n",
              "      <th>repair_part_name</th>\n",
              "      <th>repair_part_stocktype</th>\n",
              "      <th>total_parts_used</th>\n",
              "    </tr>\n",
              "  </thead>\n",
              "  <tbody>\n",
              "    <tr>\n",
              "      <th>38</th>\n",
              "      <td>71-11</td>\n",
              "      <td>NTC Instrumentation System</td>\n",
              "      <td>Ft Irwin, CA</td>\n",
              "      <td>5469134</td>\n",
              "      <td>Corrective Maintenance</td>\n",
              "      <td>Corrective COR</td>\n",
              "      <td>2012-11-02</td>\n",
              "      <td>4</td>\n",
              "      <td>1</td>\n",
              "      <td>0</td>\n",
              "      <td>1210 AW-6</td>\n",
              "      <td>ANTENNA, GPS  w/6\" CABLE AND SMA CONNECTORS</td>\n",
              "      <td>CONSUMABLE</td>\n",
              "      <td>1</td>\n",
              "    </tr>\n",
              "    <tr>\n",
              "      <th>39</th>\n",
              "      <td>71-11</td>\n",
              "      <td>NTC Instrumentation System</td>\n",
              "      <td>Ft Irwin, CA</td>\n",
              "      <td>5197349</td>\n",
              "      <td>Corrective Maintenance</td>\n",
              "      <td>Corrective COR</td>\n",
              "      <td>2012-05-04</td>\n",
              "      <td>4</td>\n",
              "      <td>1</td>\n",
              "      <td>0</td>\n",
              "      <td>290135-1</td>\n",
              "      <td>PROCESSOR, CCA</td>\n",
              "      <td>CONSUMABLE</td>\n",
              "      <td>1</td>\n",
              "    </tr>\n",
              "    <tr>\n",
              "      <th>40</th>\n",
              "      <td>71-11</td>\n",
              "      <td>NTC Instrumentation System</td>\n",
              "      <td>Ft Irwin, CA</td>\n",
              "      <td>5710321</td>\n",
              "      <td>Bench/Depot Repair</td>\n",
              "      <td>Corrective COR</td>\n",
              "      <td>2013-04-17</td>\n",
              "      <td>4</td>\n",
              "      <td>1</td>\n",
              "      <td>0</td>\n",
              "      <td>PT06A14-15S-SR</td>\n",
              "      <td>PLG STRT, W S/R 14.14#20.1#16 GLD PLTD SDR SCT...</td>\n",
              "      <td>CONSUMABLE</td>\n",
              "      <td>1</td>\n",
              "    </tr>\n",
              "    <tr>\n",
              "      <th>43</th>\n",
              "      <td>71-11</td>\n",
              "      <td>NTC Instrumentation System</td>\n",
              "      <td>Ft Irwin, CA</td>\n",
              "      <td>5356867</td>\n",
              "      <td>Corrective Maintenance</td>\n",
              "      <td>Corrective COR</td>\n",
              "      <td>2012-08-23</td>\n",
              "      <td>4</td>\n",
              "      <td>1</td>\n",
              "      <td>0</td>\n",
              "      <td>GXT2-7A48BATKIT</td>\n",
              "      <td>BATTERY, UPS, REPLACEMENT INTERNAL</td>\n",
              "      <td>CONSUMABLE</td>\n",
              "      <td>1</td>\n",
              "    </tr>\n",
              "    <tr>\n",
              "      <th>50</th>\n",
              "      <td>71-11</td>\n",
              "      <td>NTC Instrumentation System</td>\n",
              "      <td>Ft Irwin, CA</td>\n",
              "      <td>5221997</td>\n",
              "      <td>Corrective Maintenance</td>\n",
              "      <td>Corrective COR</td>\n",
              "      <td>2012-05-21</td>\n",
              "      <td>4</td>\n",
              "      <td>1</td>\n",
              "      <td>0</td>\n",
              "      <td>162330</td>\n",
              "      <td>PROCESSOR, CCA, VDD</td>\n",
              "      <td>REPAIRABLE</td>\n",
              "      <td>1</td>\n",
              "    </tr>\n",
              "    <tr>\n",
              "      <th>...</th>\n",
              "      <td>...</td>\n",
              "      <td>...</td>\n",
              "      <td>...</td>\n",
              "      <td>...</td>\n",
              "      <td>...</td>\n",
              "      <td>...</td>\n",
              "      <td>...</td>\n",
              "      <td>...</td>\n",
              "      <td>...</td>\n",
              "      <td>...</td>\n",
              "      <td>...</td>\n",
              "      <td>...</td>\n",
              "      <td>...</td>\n",
              "      <td>...</td>\n",
              "    </tr>\n",
              "    <tr>\n",
              "      <th>98193</th>\n",
              "      <td>71-06</td>\n",
              "      <td>JMRC Instrumentation System</td>\n",
              "      <td>Germany - Hohenfels</td>\n",
              "      <td>6181845</td>\n",
              "      <td>Corrective Maintenance</td>\n",
              "      <td>Corrective COR</td>\n",
              "      <td>2014-03-17</td>\n",
              "      <td>5</td>\n",
              "      <td>1</td>\n",
              "      <td>0</td>\n",
              "      <td>60-336-11</td>\n",
              "      <td>SWITCHER, CROSSPOINT450 PLUS 88 HVA</td>\n",
              "      <td>REPAIRABLE</td>\n",
              "      <td>1</td>\n",
              "    </tr>\n",
              "    <tr>\n",
              "      <th>98256</th>\n",
              "      <td>71-06</td>\n",
              "      <td>JMRC Instrumentation System</td>\n",
              "      <td>Germany - Hohenfels</td>\n",
              "      <td>6156674</td>\n",
              "      <td>PMCS</td>\n",
              "      <td>Preventive PM</td>\n",
              "      <td>2014-03-03</td>\n",
              "      <td>5</td>\n",
              "      <td>1</td>\n",
              "      <td>0</td>\n",
              "      <td>DCH-500P-S2-IP</td>\n",
              "      <td>1 RU RACKMOUNT HDTV PROCESSOR FOR H264 AND MPE...</td>\n",
              "      <td>CONSUMABLE</td>\n",
              "      <td>1</td>\n",
              "    </tr>\n",
              "    <tr>\n",
              "      <th>98257</th>\n",
              "      <td>71-06</td>\n",
              "      <td>JMRC Instrumentation System</td>\n",
              "      <td>Germany - Hohenfels</td>\n",
              "      <td>6156674</td>\n",
              "      <td>PMCS</td>\n",
              "      <td>Preventive PM</td>\n",
              "      <td>2014-03-03</td>\n",
              "      <td>5</td>\n",
              "      <td>1</td>\n",
              "      <td>0</td>\n",
              "      <td>ENC-300-HDSDI</td>\n",
              "      <td>H.264 HD/SD ENCODER BLADE WITH SDI</td>\n",
              "      <td>CONSUMABLE</td>\n",
              "      <td>1</td>\n",
              "    </tr>\n",
              "    <tr>\n",
              "      <th>99208</th>\n",
              "      <td>71-06</td>\n",
              "      <td>JMRC Instrumentation System</td>\n",
              "      <td>Germany - Hohenfels</td>\n",
              "      <td>DR5971923</td>\n",
              "      <td>Bench/Depot Repair</td>\n",
              "      <td>Corrective COR</td>\n",
              "      <td>2013-10-11</td>\n",
              "      <td>5</td>\n",
              "      <td>1</td>\n",
              "      <td>0</td>\n",
              "      <td>MS27144-2</td>\n",
              "      <td>Connector, Plug, Electrical-Socket Contact</td>\n",
              "      <td>CONSUMABLE</td>\n",
              "      <td>1</td>\n",
              "    </tr>\n",
              "    <tr>\n",
              "      <th>99315</th>\n",
              "      <td>71-06</td>\n",
              "      <td>JMRC Instrumentation System</td>\n",
              "      <td>Germany - Hohenfels</td>\n",
              "      <td>6750646</td>\n",
              "      <td>Corrective Maintenance</td>\n",
              "      <td>Corrective COR</td>\n",
              "      <td>2015-03-26</td>\n",
              "      <td>6</td>\n",
              "      <td>1</td>\n",
              "      <td>0</td>\n",
              "      <td>IP-6610-E120-4ETH-BR</td>\n",
              "      <td>4 Port Ethernet Bridge Router</td>\n",
              "      <td>CONSUMABLE</td>\n",
              "      <td>1</td>\n",
              "    </tr>\n",
              "  </tbody>\n",
              "</table>\n",
              "<p>42506 rows × 14 columns</p>\n",
              "</div>"
            ],
            "text/plain": [
              "      device_number  ... total_parts_used\n",
              "38            71-11  ...                1\n",
              "39            71-11  ...                1\n",
              "40            71-11  ...                1\n",
              "43            71-11  ...                1\n",
              "50            71-11  ...                1\n",
              "...             ...  ...              ...\n",
              "98193         71-06  ...                1\n",
              "98256         71-06  ...                1\n",
              "98257         71-06  ...                1\n",
              "99208         71-06  ...                1\n",
              "99315         71-06  ...                1\n",
              "\n",
              "[42506 rows x 14 columns]"
            ]
          },
          "metadata": {
            "tags": []
          },
          "execution_count": 83
        }
      ]
    },
    {
      "cell_type": "code",
      "metadata": {
        "id": "developing-burke"
      },
      "source": [
        "# # Lets create separate dataframes for COR, PM, NMC, PMC for convenience and subsequent plotting of Demand Intervals. \n",
        "\n",
        "df_cor = df_main[df_main.wo_type_description.str.contains('Corrective COR')].copy()\n",
        "df_pm = df_main[df_main.wo_type_description.str.contains('Preventive PM')].copy()\n",
        "df_nmc = df_main[df_main.work_order_priority_description.str.contains('System - Device Down')].copy()\n",
        "df_pmc = df_main[df_main.work_order_priority_description.str.contains('System - Device Degraded')].copy()"
      ],
      "id": "developing-burke",
      "execution_count": 84,
      "outputs": []
    },
    {
      "cell_type": "markdown",
      "metadata": {
        "id": "tutorial-parking"
      },
      "source": [
        "#### <font color=blue> Step 2 - Sort by problem_reported.</font>"
      ],
      "id": "tutorial-parking"
    },
    {
      "cell_type": "code",
      "metadata": {
        "colab": {
          "base_uri": "https://localhost:8080/",
          "height": 847
        },
        "id": "numeric-colleague",
        "outputId": "1590c23a-c661-4815-e950-b6589dbda083"
      },
      "source": [
        "df_cor"
      ],
      "id": "numeric-colleague",
      "execution_count": 85,
      "outputs": [
        {
          "output_type": "execute_result",
          "data": {
            "text/html": [
              "<div>\n",
              "<style scoped>\n",
              "    .dataframe tbody tr th:only-of-type {\n",
              "        vertical-align: middle;\n",
              "    }\n",
              "\n",
              "    .dataframe tbody tr th {\n",
              "        vertical-align: top;\n",
              "    }\n",
              "\n",
              "    .dataframe thead th {\n",
              "        text-align: right;\n",
              "    }\n",
              "</style>\n",
              "<table border=\"1\" class=\"dataframe\">\n",
              "  <thead>\n",
              "    <tr style=\"text-align: right;\">\n",
              "      <th></th>\n",
              "      <th>device_number</th>\n",
              "      <th>device_description</th>\n",
              "      <th>site</th>\n",
              "      <th>work_order_number</th>\n",
              "      <th>work_order_priority_description</th>\n",
              "      <th>wo_type_description</th>\n",
              "      <th>problem_reported</th>\n",
              "      <th>lot_year</th>\n",
              "      <th>num_parts_from_storeroom</th>\n",
              "      <th>num_parts_from_po</th>\n",
              "      <th>repair_part_number</th>\n",
              "      <th>repair_part_name</th>\n",
              "      <th>repair_part_stocktype</th>\n",
              "      <th>total_parts_used</th>\n",
              "    </tr>\n",
              "  </thead>\n",
              "  <tbody>\n",
              "    <tr>\n",
              "      <th>38</th>\n",
              "      <td>71-11</td>\n",
              "      <td>NTC Instrumentation System</td>\n",
              "      <td>Ft Irwin, CA</td>\n",
              "      <td>5469134</td>\n",
              "      <td>Corrective Maintenance</td>\n",
              "      <td>Corrective COR</td>\n",
              "      <td>2012-11-02</td>\n",
              "      <td>4</td>\n",
              "      <td>1</td>\n",
              "      <td>0</td>\n",
              "      <td>1210 AW-6</td>\n",
              "      <td>ANTENNA, GPS  w/6\" CABLE AND SMA CONNECTORS</td>\n",
              "      <td>CONSUMABLE</td>\n",
              "      <td>1</td>\n",
              "    </tr>\n",
              "    <tr>\n",
              "      <th>39</th>\n",
              "      <td>71-11</td>\n",
              "      <td>NTC Instrumentation System</td>\n",
              "      <td>Ft Irwin, CA</td>\n",
              "      <td>5197349</td>\n",
              "      <td>Corrective Maintenance</td>\n",
              "      <td>Corrective COR</td>\n",
              "      <td>2012-05-04</td>\n",
              "      <td>4</td>\n",
              "      <td>1</td>\n",
              "      <td>0</td>\n",
              "      <td>290135-1</td>\n",
              "      <td>PROCESSOR, CCA</td>\n",
              "      <td>CONSUMABLE</td>\n",
              "      <td>1</td>\n",
              "    </tr>\n",
              "    <tr>\n",
              "      <th>40</th>\n",
              "      <td>71-11</td>\n",
              "      <td>NTC Instrumentation System</td>\n",
              "      <td>Ft Irwin, CA</td>\n",
              "      <td>5710321</td>\n",
              "      <td>Bench/Depot Repair</td>\n",
              "      <td>Corrective COR</td>\n",
              "      <td>2013-04-17</td>\n",
              "      <td>4</td>\n",
              "      <td>1</td>\n",
              "      <td>0</td>\n",
              "      <td>PT06A14-15S-SR</td>\n",
              "      <td>PLG STRT, W S/R 14.14#20.1#16 GLD PLTD SDR SCT...</td>\n",
              "      <td>CONSUMABLE</td>\n",
              "      <td>1</td>\n",
              "    </tr>\n",
              "    <tr>\n",
              "      <th>43</th>\n",
              "      <td>71-11</td>\n",
              "      <td>NTC Instrumentation System</td>\n",
              "      <td>Ft Irwin, CA</td>\n",
              "      <td>5356867</td>\n",
              "      <td>Corrective Maintenance</td>\n",
              "      <td>Corrective COR</td>\n",
              "      <td>2012-08-23</td>\n",
              "      <td>4</td>\n",
              "      <td>1</td>\n",
              "      <td>0</td>\n",
              "      <td>GXT2-7A48BATKIT</td>\n",
              "      <td>BATTERY, UPS, REPLACEMENT INTERNAL</td>\n",
              "      <td>CONSUMABLE</td>\n",
              "      <td>1</td>\n",
              "    </tr>\n",
              "    <tr>\n",
              "      <th>50</th>\n",
              "      <td>71-11</td>\n",
              "      <td>NTC Instrumentation System</td>\n",
              "      <td>Ft Irwin, CA</td>\n",
              "      <td>5221997</td>\n",
              "      <td>Corrective Maintenance</td>\n",
              "      <td>Corrective COR</td>\n",
              "      <td>2012-05-21</td>\n",
              "      <td>4</td>\n",
              "      <td>1</td>\n",
              "      <td>0</td>\n",
              "      <td>162330</td>\n",
              "      <td>PROCESSOR, CCA, VDD</td>\n",
              "      <td>REPAIRABLE</td>\n",
              "      <td>1</td>\n",
              "    </tr>\n",
              "    <tr>\n",
              "      <th>...</th>\n",
              "      <td>...</td>\n",
              "      <td>...</td>\n",
              "      <td>...</td>\n",
              "      <td>...</td>\n",
              "      <td>...</td>\n",
              "      <td>...</td>\n",
              "      <td>...</td>\n",
              "      <td>...</td>\n",
              "      <td>...</td>\n",
              "      <td>...</td>\n",
              "      <td>...</td>\n",
              "      <td>...</td>\n",
              "      <td>...</td>\n",
              "      <td>...</td>\n",
              "    </tr>\n",
              "    <tr>\n",
              "      <th>97894</th>\n",
              "      <td>71-06</td>\n",
              "      <td>JMRC Instrumentation System</td>\n",
              "      <td>Germany - Hohenfels</td>\n",
              "      <td>DR6510365</td>\n",
              "      <td>Bench/Depot Repair</td>\n",
              "      <td>Corrective COR</td>\n",
              "      <td>2014-10-10</td>\n",
              "      <td>6</td>\n",
              "      <td>1</td>\n",
              "      <td>0</td>\n",
              "      <td>MS27144-2</td>\n",
              "      <td>CONNECTOR, PLUG, ELECTRICAL, MILITARY STANDARDS</td>\n",
              "      <td>CONSUMABLE</td>\n",
              "      <td>1</td>\n",
              "    </tr>\n",
              "    <tr>\n",
              "      <th>98152</th>\n",
              "      <td>71-06</td>\n",
              "      <td>JMRC Instrumentation System</td>\n",
              "      <td>Germany - Hohenfels</td>\n",
              "      <td>6013482</td>\n",
              "      <td>Corrective Maintenance</td>\n",
              "      <td>Corrective COR</td>\n",
              "      <td>2013-11-13</td>\n",
              "      <td>5</td>\n",
              "      <td>1</td>\n",
              "      <td>0</td>\n",
              "      <td>T23-129-075-1</td>\n",
              "      <td>LCD, 24 push-button keys, rack mount (2 RU)</td>\n",
              "      <td>REPAIRABLE</td>\n",
              "      <td>1</td>\n",
              "    </tr>\n",
              "    <tr>\n",
              "      <th>98193</th>\n",
              "      <td>71-06</td>\n",
              "      <td>JMRC Instrumentation System</td>\n",
              "      <td>Germany - Hohenfels</td>\n",
              "      <td>6181845</td>\n",
              "      <td>Corrective Maintenance</td>\n",
              "      <td>Corrective COR</td>\n",
              "      <td>2014-03-17</td>\n",
              "      <td>5</td>\n",
              "      <td>1</td>\n",
              "      <td>0</td>\n",
              "      <td>60-336-11</td>\n",
              "      <td>SWITCHER, CROSSPOINT450 PLUS 88 HVA</td>\n",
              "      <td>REPAIRABLE</td>\n",
              "      <td>1</td>\n",
              "    </tr>\n",
              "    <tr>\n",
              "      <th>99208</th>\n",
              "      <td>71-06</td>\n",
              "      <td>JMRC Instrumentation System</td>\n",
              "      <td>Germany - Hohenfels</td>\n",
              "      <td>DR5971923</td>\n",
              "      <td>Bench/Depot Repair</td>\n",
              "      <td>Corrective COR</td>\n",
              "      <td>2013-10-11</td>\n",
              "      <td>5</td>\n",
              "      <td>1</td>\n",
              "      <td>0</td>\n",
              "      <td>MS27144-2</td>\n",
              "      <td>Connector, Plug, Electrical-Socket Contact</td>\n",
              "      <td>CONSUMABLE</td>\n",
              "      <td>1</td>\n",
              "    </tr>\n",
              "    <tr>\n",
              "      <th>99315</th>\n",
              "      <td>71-06</td>\n",
              "      <td>JMRC Instrumentation System</td>\n",
              "      <td>Germany - Hohenfels</td>\n",
              "      <td>6750646</td>\n",
              "      <td>Corrective Maintenance</td>\n",
              "      <td>Corrective COR</td>\n",
              "      <td>2015-03-26</td>\n",
              "      <td>6</td>\n",
              "      <td>1</td>\n",
              "      <td>0</td>\n",
              "      <td>IP-6610-E120-4ETH-BR</td>\n",
              "      <td>4 Port Ethernet Bridge Router</td>\n",
              "      <td>CONSUMABLE</td>\n",
              "      <td>1</td>\n",
              "    </tr>\n",
              "  </tbody>\n",
              "</table>\n",
              "<p>33318 rows × 14 columns</p>\n",
              "</div>"
            ],
            "text/plain": [
              "      device_number  ... total_parts_used\n",
              "38            71-11  ...                1\n",
              "39            71-11  ...                1\n",
              "40            71-11  ...                1\n",
              "43            71-11  ...                1\n",
              "50            71-11  ...                1\n",
              "...             ...  ...              ...\n",
              "97894         71-06  ...                1\n",
              "98152         71-06  ...                1\n",
              "98193         71-06  ...                1\n",
              "99208         71-06  ...                1\n",
              "99315         71-06  ...                1\n",
              "\n",
              "[33318 rows x 14 columns]"
            ]
          },
          "metadata": {
            "tags": []
          },
          "execution_count": 85
        }
      ]
    },
    {
      "cell_type": "code",
      "metadata": {
        "id": "concrete-winner"
      },
      "source": [
        "df_cor = df_cor.sort_values('problem_reported').copy()\n",
        "df_pm = df_pm.sort_values('problem_reported').copy()\n",
        "df_nmc = df_nmc.sort_values('problem_reported').copy()\n",
        "df_pmc = df_pmc.sort_values('problem_reported').copy()"
      ],
      "id": "concrete-winner",
      "execution_count": 86,
      "outputs": []
    },
    {
      "cell_type": "markdown",
      "metadata": {
        "id": "silent-commodity"
      },
      "source": [
        "## <font color=dark red>Exploratory Data Analysis</font>"
      ],
      "id": "silent-commodity"
    },
    {
      "cell_type": "markdown",
      "metadata": {
        "id": "minute-designer"
      },
      "source": [
        "#### <font color=\"blue\">Step 1 - Calculate time interval between problem_reported dates.</font>"
      ],
      "id": "minute-designer"
    },
    {
      "cell_type": "code",
      "metadata": {
        "id": "reasonable-values"
      },
      "source": [
        "# I have named the demand interval columns using lowercase and underscore. \n",
        "# Let me know if you want to change it to what you suggested (DI-COR etc.)"
      ],
      "id": "reasonable-values",
      "execution_count": 87,
      "outputs": []
    },
    {
      "cell_type": "code",
      "metadata": {
        "id": "missing-fetish"
      },
      "source": [
        "df_cor['demand_interval_cor'] = df_cor['problem_reported'].diff() / np.timedelta64(1, 'M')\n",
        "df_pm['demand_interval_pm'] = df_pm['problem_reported'].diff() / np.timedelta64(7, 'D')\n",
        "df_nmc['demand_interval_nmc'] = df_nmc['problem_reported'].diff() / np.timedelta64(7, 'D')\n",
        "df_pmc['demand_interval_pmc'] = df_pmc['problem_reported'].diff() / np.timedelta64(7, 'D')"
      ],
      "id": "missing-fetish",
      "execution_count": 88,
      "outputs": []
    },
    {
      "cell_type": "code",
      "metadata": {
        "colab": {
          "base_uri": "https://localhost:8080/"
        },
        "id": "chinese-shirt",
        "outputId": "0b56aa59-4a3d-43b9-e261-69cd03c9434c"
      },
      "source": [
        "df_cor['demand_interval_cor'].unique(), df_cor.shape"
      ],
      "id": "chinese-shirt",
      "execution_count": 89,
      "outputs": [
        {
          "output_type": "execute_result",
          "data": {
            "text/plain": [
              "(array([       nan, 1.70845397, 0.        , 0.03285488, 3.35119818,\n",
              "        0.68995257, 0.42711349, 0.78851722, 0.36140372, 0.32854884,\n",
              "        0.75566233, 0.09856465, 0.13141954, 0.06570977, 0.16427442,\n",
              "        0.39425861, 0.1971293 , 2.10271258]), (33318, 15))"
            ]
          },
          "metadata": {
            "tags": []
          },
          "execution_count": 89
        }
      ]
    },
    {
      "cell_type": "code",
      "metadata": {
        "colab": {
          "base_uri": "https://localhost:8080/"
        },
        "id": "assisted-gibraltar",
        "outputId": "40f0be2d-3c53-414a-d3fb-6b525f9f5415"
      },
      "source": [
        "df_pm['demand_interval_pm'].unique(), df_pm.shape"
      ],
      "id": "assisted-gibraltar",
      "execution_count": 90,
      "outputs": [
        {
          "output_type": "execute_result",
          "data": {
            "text/plain": [
              "(array([        nan,  0.        ,  0.14285714,  4.71428571, 10.14285714,\n",
              "         6.14285714,  0.42857143,  0.28571429,  1.42857143,  0.71428571,\n",
              "         1.85714286,  0.57142857,  0.85714286,  1.57142857]), (9188, 15))"
            ]
          },
          "metadata": {
            "tags": []
          },
          "execution_count": 90
        }
      ]
    },
    {
      "cell_type": "code",
      "metadata": {
        "colab": {
          "base_uri": "https://localhost:8080/"
        },
        "id": "geological-inspector",
        "outputId": "1da65756-7eff-408c-8b5b-a12cd5e9ff0a"
      },
      "source": [
        "df_nmc['demand_interval_nmc'].unique(), df_nmc.shape"
      ],
      "id": "geological-inspector",
      "execution_count": 91,
      "outputs": [
        {
          "output_type": "execute_result",
          "data": {
            "text/plain": [
              "(array([], dtype=float64), (0, 15))"
            ]
          },
          "metadata": {
            "tags": []
          },
          "execution_count": 91
        }
      ]
    },
    {
      "cell_type": "code",
      "metadata": {
        "colab": {
          "base_uri": "https://localhost:8080/"
        },
        "id": "lasting-telephone",
        "outputId": "1b534985-d58b-43eb-d5a0-430a712c069c"
      },
      "source": [
        "df_pmc['demand_interval_pmc'].unique(), df_pmc.shape"
      ],
      "id": "lasting-telephone",
      "execution_count": 92,
      "outputs": [
        {
          "output_type": "execute_result",
          "data": {
            "text/plain": [
              "(array([], dtype=float64), (0, 15))"
            ]
          },
          "metadata": {
            "tags": []
          },
          "execution_count": 92
        }
      ]
    },
    {
      "cell_type": "markdown",
      "metadata": {
        "id": "worth-sword"
      },
      "source": [
        "#### <font color=\"blue\">Step 2 - Scatter Plot of Interval and Size (Raw Numbers no averages for this plot) </font>"
      ],
      "id": "worth-sword"
    },
    {
      "cell_type": "code",
      "metadata": {
        "id": "south-schedule"
      },
      "source": [
        "sns.set_context(\"poster\")\n"
      ],
      "id": "south-schedule",
      "execution_count": 93,
      "outputs": []
    },
    {
      "cell_type": "code",
      "metadata": {
        "colab": {
          "base_uri": "https://localhost:8080/",
          "height": 305
        },
        "id": "fresh-malpractice",
        "outputId": "f3a78f73-7d3c-4219-b050-4d5833d38282"
      },
      "source": [
        "fig = plt.figure()\n",
        "ax = plt.gca()\n",
        "ax.scatter(df_cor['demand_interval_cor'],df_cor['total_parts_used'], c='aqua',marker='.',edgecolor='k');\n",
        "ax.set_title('Demand Interval Vs Total Parts Used (Corrective COR)',size=18);\n",
        "ax.set_ylabel('Total Number of Parts', fontsize = 16);\n",
        "ax.set_xlabel('Demand Interval in Periods', fontsize = 16);\n",
        "ax.tick_params(direction='out', length=6, width=2, labelsize=11, pad=1.5)\n",
        "# ax.set_xscale('log')\n",
        "# ax.axis(xmin=0,xmax=0.0001)"
      ],
      "id": "fresh-malpractice",
      "execution_count": 94,
      "outputs": [
        {
          "output_type": "display_data",
          "data": {
            "image/png": "[encoded data removed]",
            "text/plain": [
              "<Figure size 432x288 with 1 Axes>"
            ]
          },
          "metadata": {
            "tags": [],
            "needs_background": "light"
          }
        }
      ]
    },
    {
      "cell_type": "code",
      "metadata": {
        "colab": {
          "base_uri": "https://localhost:8080/",
          "height": 305
        },
        "id": "nuclear-paper",
        "outputId": "99166d41-0b56-468d-9ebf-b54fb837bbe7"
      },
      "source": [
        "fig = plt.figure()\n",
        "ax = plt.gca()\n",
        "ax.scatter(df_pm['demand_interval_pm'],df_pm['total_parts_used'], c='orange',marker='.',edgecolor='k')\n",
        "ax.set_title('Demand Interval Vs Total Parts Used (Preventive PM)',size=18);\n",
        "ax.set_ylabel('Total Number of Parts', fontsize = 16);\n",
        "ax.set_xlabel('Demand Interval in Periods', fontsize = 16);\n",
        "ax.tick_params(direction='out', length=6, width=2, labelsize=11, pad=1.5);"
      ],
      "id": "nuclear-paper",
      "execution_count": 95,
      "outputs": [
        {
          "output_type": "display_data",
          "data": {
            "image/png": "[encoded data removed]",
            "text/plain": [
              "<Figure size 432x288 with 1 Axes>"
            ]
          },
          "metadata": {
            "tags": [],
            "needs_background": "light"
          }
        }
      ]
    },
    {
      "cell_type": "code",
      "metadata": {
        "colab": {
          "base_uri": "https://localhost:8080/",
          "height": 305
        },
        "id": "exceptional-picking",
        "outputId": "7fe04d3c-f386-4972-85be-bafd0d106bb7"
      },
      "source": [
        "fig = plt.figure()\n",
        "ax = plt.gca()\n",
        "ax.scatter(df_nmc['demand_interval_nmc'],df_nmc['total_parts_used'], c='k',marker='.',edgecolor='k')\n",
        "ax.set_title('Demand Interval Vs Total Parts Used (System - Device Down)',size=18);\n",
        "ax.set_ylabel('Total Number of Parts', fontsize = 16);\n",
        "ax.set_xlabel('Demand Interval in Periods', fontsize = 16);\n",
        "ax.tick_params(direction='out', length=6, width=2, labelsize=11, pad=1.5);"
      ],
      "id": "exceptional-picking",
      "execution_count": null,
      "outputs": [
        {
          "output_type": "display_data",
          "data": {
            "image/png": "[encoded data removed]",
            "text/plain": [
              "<Figure size 432x288 with 1 Axes>"
            ]
          },
          "metadata": {
            "tags": [],
            "needs_background": "light"
          }
        }
      ]
    },
    {
      "cell_type": "code",
      "metadata": {
        "colab": {
          "base_uri": "https://localhost:8080/",
          "height": 305
        },
        "id": "swedish-floor",
        "outputId": "50e16965-381e-45f8-9ab2-7e589c0d6bda"
      },
      "source": [
        "fig = plt.figure()\n",
        "ax = plt.gca()\n",
        "# ax.set_xscale('log')\n",
        "ax.scatter(df_pmc['demand_interval_pmc'],df_pmc['total_parts_used'], c='lime',marker='.',edgecolor='k')\n",
        "ax.set_title('Demand Interval Vs Total Parts Used (System - Device Degraded)',size=18);\n",
        "ax.set_ylabel('Total Number of Parts', fontsize = 16);\n",
        "ax.set_xlabel('Demand Interval in Periods', fontsize = 16);\n",
        "ax.tick_params(direction='out', length=6, width=2, labelsize=11, pad=1.5);"
      ],
      "id": "swedish-floor",
      "execution_count": null,
      "outputs": [
        {
          "output_type": "display_data",
          "data": {
            "image/png": "[encoded data removed]",
            "text/plain": [
              "<Figure size 432x288 with 1 Axes>"
            ]
          },
          "metadata": {
            "tags": [],
            "needs_background": "light"
          }
        }
      ]
    },
    {
      "cell_type": "markdown",
      "metadata": {
        "id": "specified-louisiana"
      },
      "source": [
        "#### <font color=\"blue\">Step 3 - Looking for seasonality. </font>"
      ],
      "id": "specified-louisiana"
    },
    {
      "cell_type": "code",
      "metadata": {
        "colab": {
          "base_uri": "https://localhost:8080/",
          "height": 304
        },
        "id": "promising-excess",
        "outputId": "f01d4047-54cd-456b-ba67-e20b4fe7059c"
      },
      "source": [
        "fig = plt.figure()\n",
        "ax = plt.gca()\n",
        "ax.bar(df_cor['problem_reported'],df_cor['total_parts_used'],color='darkturquoise');\n",
        "ax.set_title('Problem Reported Vs Total Parts Used (Corrective COR)',size=18);\n",
        "ax.set_ylabel('Total Number of Parts (log)', fontsize = 16);\n",
        "ax.set_xlabel('Problem Reported', fontsize = 16);\n",
        "ax.tick_params(direction='out', length=6, width=2, labelsize=8, pad=1.5)\n",
        "ax.set_yscale('log');\n",
        "# plt.scatter(df_cor['problem_reported'],df_cor['demand_interval_cor'])"
      ],
      "id": "promising-excess",
      "execution_count": 96,
      "outputs": [
        {
          "output_type": "display_data",
          "data": {
            "image/png": "[encoded data removed]",
            "text/plain": [
              "<Figure size 432x288 with 1 Axes>"
            ]
          },
          "metadata": {
            "tags": [],
            "needs_background": "light"
          }
        }
      ]
    },
    {
      "cell_type": "code",
      "metadata": {
        "colab": {
          "base_uri": "https://localhost:8080/",
          "height": 304
        },
        "id": "caroline-blame",
        "outputId": "337b57c3-bd4a-4f4c-a922-7e98e554def3"
      },
      "source": [
        "fig = plt.figure()\n",
        "ax = plt.gca()\n",
        "ax.bar(df_pm['problem_reported'],df_pm['total_parts_used'], color='orangered');\n",
        "ax.set_title('Demand Interval Vs Total Parts Used (Preventive PM)',size=18);\n",
        "ax.set_ylabel('Total Number of Parts (log)', fontsize = 16);\n",
        "ax.set_xlabel('Demand Interval in Periods', fontsize = 16);\n",
        "ax.tick_params(direction='out', length=6, width=2, labelsize=8, pad=1.5)\n",
        "ax.set_yscale('log');"
      ],
      "id": "caroline-blame",
      "execution_count": 97,
      "outputs": [
        {
          "output_type": "display_data",
          "data": {
            "image/png": "[encoded data removed]",
            "text/plain": [
              "<Figure size 432x288 with 1 Axes>"
            ]
          },
          "metadata": {
            "tags": [],
            "needs_background": "light"
          }
        }
      ]
    },
    {
      "cell_type": "code",
      "metadata": {
        "colab": {
          "base_uri": "https://localhost:8080/",
          "height": 304
        },
        "id": "tropical-glasgow",
        "outputId": "caaa1077-22d9-420f-9298-b6768a199779"
      },
      "source": [
        "fig = plt.figure()\n",
        "ax = plt.gca()\n",
        "ax.bar(df_nmc['problem_reported'],df_nmc['total_parts_used'], color='k');\n",
        "ax.set_title('Demand Interval Vs Total Parts Used (System - Device Down)',size=18);\n",
        "ax.set_ylabel('Total Number of Parts (log)', fontsize = 16);\n",
        "ax.set_xlabel('Demand Interval in Periods', fontsize = 16);\n",
        "ax.tick_params(direction='out', length=6, width=2, labelsize=8, pad=1.5)\n",
        "ax.set_yscale('log');"
      ],
      "id": "tropical-glasgow",
      "execution_count": null,
      "outputs": [
        {
          "output_type": "display_data",
          "data": {
            "image/png": "[encoded data removed]",
            "text/plain": [
              "<Figure size 432x288 with 1 Axes>"
            ]
          },
          "metadata": {
            "tags": [],
            "needs_background": "light"
          }
        }
      ]
    },
    {
      "cell_type": "code",
      "metadata": {
        "colab": {
          "base_uri": "https://localhost:8080/",
          "height": 304
        },
        "id": "loaded-chile",
        "outputId": "5a2c61b0-074e-4655-9168-e1ccb70fdef5"
      },
      "source": [
        "fig = plt.figure()\n",
        "ax = plt.gca()\n",
        "ax.bar(df_pmc['problem_reported'],df_pmc['total_parts_used'], color='green');\n",
        "ax.set_title('Demand Interval Vs Total Parts Used (System - Device Degraded)',size=18);\n",
        "ax.set_ylabel('Total Number of Parts (log)', fontsize = 16);\n",
        "ax.set_xlabel('Demand Interval in Periods', fontsize = 16);\n",
        "ax.tick_params(direction='out', length=6, width=2, labelsize=8, pad=1.5)\n",
        "ax.set_yscale('log');"
      ],
      "id": "loaded-chile",
      "execution_count": null,
      "outputs": [
        {
          "output_type": "display_data",
          "data": {
            "image/png": "[encoded data removed]",
            "text/plain": [
              "<Figure size 432x288 with 1 Axes>"
            ]
          },
          "metadata": {
            "tags": [],
            "needs_background": "light"
          }
        }
      ]
    },
    {
      "cell_type": "markdown",
      "metadata": {
        "id": "third-canada"
      },
      "source": [
        "#### <font color=\"blue\">Step 4 - Scatter Plot of ADI vs CV2 by group </font>"
      ],
      "id": "third-canada"
    },
    {
      "cell_type": "code",
      "metadata": {
        "id": "fundamental-williams"
      },
      "source": [
        ""
      ],
      "id": "fundamental-williams",
      "execution_count": null,
      "outputs": []
    }
  ]
}